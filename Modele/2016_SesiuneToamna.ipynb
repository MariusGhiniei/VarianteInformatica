{
 "cells": [
  {
   "cell_type": "markdown",
   "id": "d451f6af",
   "metadata": {
    "vscode": {
     "languageId": "plaintext"
    }
   },
   "source": [
    "2016 Sesiune Toamna"
   ]
  },
  {
   "cell_type": "markdown",
   "id": "340657c2",
   "metadata": {
    "vscode": {
     "languageId": "plaintext"
    }
   },
   "source": [
    "Subiectul 1"
   ]
  },
  {
   "cell_type": "code",
   "execution_count": null,
   "id": "274dbb13",
   "metadata": {
    "vscode": {
     "languageId": "plaintext"
    }
   },
   "outputs": [],
   "source": [
    "1. a {! - neaga toate semnele}\n",
    "2.  a) 8\n",
    "    b) Cel mai mic numar care se poate citi pentru a se afisa 16 este 16, iar cel mai mare numar este 31"
   ]
  },
  {
   "cell_type": "code",
   "execution_count": null,
   "id": "ab99fd07",
   "metadata": {
    "vscode": {
     "languageId": "plaintext"
    }
   },
   "outputs": [],
   "source": [
    "c)\n",
    "citeşte n  \n",
    "(număr natural nenul) \n",
    "p=0 \n",
    "i=1\n",
    "┌daca n != 0 atunci\n",
    "|  repeta \n",
    "│   m=i \n",
    "│  ┌cât timp m%2=0 execută \n",
    "│  │ m=[m/2] \n",
    "│  └■ \n",
    "│  ┌dacă m=1 atunci \n",
    "│  │ p=i \n",
    "│  └■ \n",
    "|    i=i+1;\n",
    "|   pana cand i > n\n",
    "└■ \n",
    "scrie p "
   ]
  },
  {
   "cell_type": "code",
   "execution_count": null,
   "id": "8fba5dee",
   "metadata": {
    "vscode": {
     "languageId": "cpp"
    }
   },
   "outputs": [],
   "source": [
    "// d)\n",
    "#include <iostream>\n",
    "using namespace std;\n",
    "int main()\n",
    "{\tint p = 0, m, n;\n",
    "\tcin >> n;\n",
    "\tfor(int i = 1; i <= n; i++) {\n",
    "\t\tm = i;\n",
    "\t\twhile(m % 2 == 0) {\n",
    "\t\t\tm = m / 2;\n",
    "\t\t}\n",
    "\t\tif(m == 1) {\n",
    "\t\t\tp = i;\n",
    "\t\t}\n",
    "\t}\n",
    "\tcout << p;\n",
    "    return 0;\n",
    "}"
   ]
  },
  {
   "cell_type": "markdown",
   "id": "053aa05b",
   "metadata": {
    "vscode": {
     "languageId": "plaintext"
    }
   },
   "source": [
    "Subiectul 2"
   ]
  },
  {
   "cell_type": "code",
   "execution_count": null,
   "id": "4406b5aa",
   "metadata": {
    "vscode": {
     "languageId": "plaintext"
    }
   },
   "outputs": [],
   "source": [
    "1.  c {are valoarea 1 <=> numitorul = numaratorul}\n",
    "2. 4 {Incercam sa formam un subgraf cu toate muchiile si restul de noduri izolate sunt si ele componente conexe}\n",
    "3. 11aur\n",
    "4. 1,5, 7 {Suma pe coloana = grad interior, iar suma pe linie = grad exterior}"
   ]
  },
  {
   "cell_type": "code",
   "execution_count": null,
   "id": "d6bc3cfe",
   "metadata": {
    "vscode": {
     "languageId": "cpp"
    }
   },
   "outputs": [],
   "source": [
    "// ex - 5\n",
    "#include <iostream>\n",
    "using namespace std;\n",
    "int a[101][101];\n",
    "int main()\n",
    "{\tint n, m, ok=0, x;\n",
    "\tcin >> n >> m;\n",
    "\tfor(int i = 1; i <= n; i++)\n",
    "\t\tfor(int j = 1; j <= m; j++)\n",
    "\t\t\tcin >> a[i][j];\n",
    "\tcin >> x;\n",
    "\t\n",
    "\t//prima linie:\n",
    "\tfor(int j = 1; j <= m;j++)\n",
    "        if(a[1][j] == x)\n",
    "            ok = 1;\n",
    "    \n",
    "    //ultima coloana:\n",
    "    for(int i = 1;i <= n; i++)\n",
    "        if(a[i][m] == x)\n",
    "            ok = 1;\n",
    "        \n",
    "    //ultima linie:\n",
    "    for(int j = 1; j <= m; j++)\n",
    "        if(a[n][j] == x)\n",
    "            ok=1;\n",
    "        \n",
    "    //prima coloana:\n",
    "    for(int i = 1; i <= n; i++)\n",
    "        if(a[i][1] == x)\n",
    "            ok=1;\n",
    "        \n",
    "        \n",
    "\tif(ok == 1)\n",
    "\t\tcout << \"DA\";\n",
    "\telse\n",
    "\t\tcout << \"NU\";\n",
    "\treturn 0;\n",
    "}"
   ]
  },
  {
   "cell_type": "markdown",
   "id": "b3134855",
   "metadata": {
    "vscode": {
     "languageId": "plaintext"
    }
   },
   "source": [
    "Subiectul 3"
   ]
  },
  {
   "cell_type": "code",
   "execution_count": null,
   "id": "76a40181",
   "metadata": {
    "vscode": {
     "languageId": "plaintext"
    }
   },
   "outputs": [],
   "source": [
    "1. b {f2 face doar 0}\n",
    "2. CRETA CRTAE"
   ]
  },
  {
   "cell_type": "code",
   "execution_count": null,
   "id": "3e13c37b",
   "metadata": {
    "vscode": {
     "languageId": "cpp"
    }
   },
   "outputs": [],
   "source": [
    "//ex 3\n",
    "void duplicare(int n, int &d)\n",
    "{\td = 0;\n",
    "\tint p = 1, ok = 0;\n",
    "\twhile (n != 0) {\n",
    "\t\td = d + n % 10 * p;\n",
    "\t\tp = p * 10;\n",
    "\t\tif (n % 2 == 0) {\n",
    "\t\t\td = d + n % 10 * p;\n",
    "\t\t\tp = p * 10;\n",
    "\t\t\tok = 1;\n",
    "\t\t}\n",
    "\t\tn = n / 10;\n",
    "\t}\n",
    "\tif (ok == 0)\n",
    "\t\td = -1;\n",
    "}"
   ]
  },
  {
   "cell_type": "code",
   "execution_count": null,
   "id": "2459bcbb",
   "metadata": {
    "vscode": {
     "languageId": "plaintext"
    }
   },
   "outputs": [],
   "source": [
    "//ex 4 - a\n",
    "Am proiectat un algoritm eficient din punct de vedere al memoriei, fara a utiliza vectori doar 4 variabile de tip int.\n",
    "Am proiectat un algoritm eficient din punct de vedere al timpului, folosind o abordare liniara, doar din citire.\n",
    "Citim pe rand numere din fisier, numarar cate sunt impare, atunci cand ajungem la 3 numere impare actualizam dupa caz variabilele maxi1, maxi 2 daca x este par.\n",
    "Tratam si cazul de nu exista."
   ]
  },
  {
   "cell_type": "code",
   "execution_count": null,
   "id": "7142ae92",
   "metadata": {
    "vscode": {
     "languageId": "cpp"
    }
   },
   "outputs": [],
   "source": [
    "//ex 4 - b\n",
    "#include <iostream>\n",
    "#include <fstream>\n",
    "using namespace std;\n",
    "\n",
    "ifstream fin(\"bac.txt\");\n",
    "\n",
    "int main(){\n",
    "    int x, cnt = 0, maxi1 = -1, maxi2 = -1;\n",
    "    while(fin >> x){\n",
    "        if(x % 2 != 0) \n",
    "            cnt++;\n",
    "        if(cnt == 3 && x % 2 == 0){\n",
    "            if(x > maxi1){\n",
    "                maxi2 = maxi1;\n",
    "                maxi1 = x;\n",
    "            } else if(x > maxi2)\n",
    "                maxi2 = x;\n",
    "        }\n",
    "    }\n",
    "    if(maxi2 == -1) cout << \"Nu exista\";\n",
    "    else cout << maxi2 << \" \" << maxi1;\n",
    "    \n",
    "    fin.close();\n",
    "    return 0;\n",
    "}"
   ]
  }
 ],
 "metadata": {
  "language_info": {
   "name": "python"
  }
 },
 "nbformat": 4,
 "nbformat_minor": 5
}
