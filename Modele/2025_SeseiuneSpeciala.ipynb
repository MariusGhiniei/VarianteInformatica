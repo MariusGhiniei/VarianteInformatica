{
 "cells": [
  {
   "cell_type": "markdown",
   "id": "59b4ad10",
   "metadata": {
    "vscode": {
     "languageId": "plaintext"
    }
   },
   "source": [
    "Sesiune Speciala 2025"
   ]
  },
  {
   "cell_type": "markdown",
   "id": "96abb6cd",
   "metadata": {
    "vscode": {
     "languageId": "plaintext"
    }
   },
   "source": [
    "Subiectul 1"
   ]
  },
  {
   "cell_type": "code",
   "execution_count": null,
   "id": "4e60cf9b",
   "metadata": {
    "vscode": {
     "languageId": "plaintext"
    }
   },
   "outputs": [],
   "source": [
    "1. d { x apartine lui [a, b] <=> x >=a || x <= b}\n",
    "2. c {Subprogram recursiv}\n",
    "3. a {Din SPAC avem voie doar SA sau AS deci ultima solutie vine: CASP}\n",
    "4. b {Singurul fara eroare de compilare}\n",
    "5. c {Observam ca este graf complet -> graf partial elimin muhcii -> nr minim de muchii eliminate inseamna ca tb sa raman cu cat mai multe muchii conform cerintei}"
   ]
  },
  {
   "cell_type": "code",
   "execution_count": null,
   "id": "0dc70e0d",
   "metadata": {
    "vscode": {
     "languageId": "plaintext"
    }
   },
   "outputs": [],
   "source": [
    "Subiectul 2"
   ]
  },
  {
   "cell_type": "code",
   "execution_count": null,
   "id": "afe21268",
   "metadata": {
    "vscode": {
     "languageId": "plaintext"
    }
   },
   "outputs": [],
   "source": [
    "1.  a) 88 77 \n",
    "    b) 2222, 2223"
   ]
  },
  {
   "cell_type": "code",
   "execution_count": null,
   "id": "82194896",
   "metadata": {
    "vscode": {
     "languageId": "cpp"
    }
   },
   "outputs": [],
   "source": [
    "//c)\n",
    "#include <iostream>\n",
    "using namespace std;\n",
    "\n",
    "int main()\n",
    "{\n",
    "    int m, n, i, x, c;\n",
    "\tcin >> m >> n;\n",
    "\tfor(i = n; i >= m; i--) {\n",
    "\t\tx = i; c = x % 10;\n",
    "\t\tdo{\n",
    "\t\t\tx = x / 10;\n",
    "\t\t}while(x % 10 == c);\n",
    "\n",
    "\t\tif(x == 0){\n",
    "\t\t\tcout << i << \" \";\n",
    "\t\t}\n",
    "\t}\n",
    "\treturn 0;\n",
    "}"
   ]
  },
  {
   "cell_type": "code",
   "execution_count": null,
   "id": "b1056caa",
   "metadata": {
    "vscode": {
     "languageId": "plaintext"
    }
   },
   "outputs": [],
   "source": [
    "d)\n",
    "citește m,n  (numere naturale nenule, m≤n)\n",
    "   i=n; \n",
    "┌cat timp i>=m execută \n",
    "│ x <- i \n",
    "│ c <- x % 10 \n",
    "│┌repetă \n",
    "││ x <- [x/10] \n",
    "│└până când x % 10 ≠ c \n",
    "│┌dacă x = 0 atunci \n",
    "││ scrie i,' ' \n",
    "│└■ \n",
    "| i=i-1;\n",
    "└■"
   ]
  },
  {
   "cell_type": "code",
   "execution_count": null,
   "id": "1e6be23c",
   "metadata": {
    "vscode": {
     "languageId": "plaintext"
    }
   },
   "outputs": [],
   "source": [
    "2. oricare dintre 3,1, 7"
   ]
  },
  {
   "cell_type": "code",
   "execution_count": null,
   "id": "762a7b2b",
   "metadata": {
    "vscode": {
     "languageId": "cpp"
    }
   },
   "outputs": [],
   "source": [
    "3.\n",
    "//metoda cu modul\n",
    "if(abs(d.B.x - d.A.x) == abs(d.B.y - d.A.y))\n",
    "\t    cout << \"DA\";\n",
    "\telse \n",
    "\t    cout << \"NU\";\n",
    "//metoda cu radical\n",
    "punct C;\n",
    "C.x = d.B.x;\n",
    "C.y = d.A.y;\n",
    "float d1 = sqrt((C.x - d.A.x)*(C.x - d.A.x) + (C.y - d.A.y)*(C.y - d.A.y));\n",
    "float d2 = sqrt((d.B.x - C.x)*(d.B.x - C.x) + (d.B.y - C.y)*(d.B.y - C.y));\n",
    "\t \n",
    "if(d1 == d2) \n",
    "    cout << \"DA\";\n",
    "else \n",
    "    cout << \"NU\";"
   ]
  },
  {
   "cell_type": "code",
   "execution_count": null,
   "id": "78564ceb",
   "metadata": {
    "vscode": {
     "languageId": "plaintext"
    }
   },
   "outputs": [],
   "source": [
    "Subiectul 3"
   ]
  },
  {
   "cell_type": "code",
   "execution_count": null,
   "id": "2c0b1f91",
   "metadata": {
    "vscode": {
     "languageId": "cpp"
    }
   },
   "outputs": [],
   "source": [
    "//ex 1\n",
    "//metoda 1\n",
    "int diviz(int n)\n",
    "{\n",
    "\tint i, j, pp;\n",
    "\tfor(i=n; i>=1; i--)\n",
    "\t{\n",
    "\t\tif(n%i==0)\n",
    "\t\t{\n",
    "\t\t\tfor(j=1; j<=i; j++)\n",
    "\t\t\t{\n",
    "\t\t\t\tif(i/j==j)\n",
    "\t\t\t\t{\n",
    "\t\t\t\t\tif(j*j==i)\n",
    "\t\t\t\t\t{\n",
    "\t\t\t\t\t\treturn i;\n",
    "\t\t\t\t\t}\n",
    "\t\t\t\t}\n",
    "\t\t\t}\n",
    "\t\t}\n",
    "\t}\n",
    "}\n",
    "//metoda 2\n",
    "int diviz(int n){\n",
    "    for(int i = n; i >= 1; i--){\n",
    "        if(n % i == 0 && sqrt(i) == (int)sqrt(i))\n",
    "            return i;\n",
    "    }\n",
    "}"
   ]
  },
  {
   "cell_type": "code",
   "execution_count": null,
   "id": "7ab6b13f",
   "metadata": {
    "vscode": {
     "languageId": "cpp"
    }
   },
   "outputs": [],
   "source": [
    "//ex 2\n",
    "#include <iostream>\n",
    "#include <cstring>\n",
    "using namespace std;\n",
    "char s[101], t[101];\n",
    "int main(){\n",
    "   \n",
    "   cin.getline(s, 101);\n",
    "   char *p = strtok(s,\" \");\n",
    "   \n",
    "   while(p != NULL){\n",
    "       strcat(t,p);\n",
    "       strcat(t,\" - \");\n",
    "       p = strtok(NULL, \" \");\n",
    "   }\n",
    "   t[strlen(t) - 3] = '\\0';\n",
    "   cout << t;\n",
    "}"
   ]
  },
  {
   "cell_type": "code",
   "execution_count": null,
   "id": "32568ea5",
   "metadata": {
    "vscode": {
     "languageId": "plaintext"
    }
   },
   "outputs": [],
   "source": [
    "//ex 3 - a\n",
    "Am proiectat un algoritm eficient din punct de vedere al timpului, folosind o abordare liniara si determinand valorile din citire.\n",
    "Am proiectat un algoritm eficient din punct de vedere al memoriei, folosind un vector de frecventa de 100 pozitii.\n",
    "Citim pe rand fiecare triplet, in caz ca se formeaza triunghiu dreptunghic, aflam cea mai mare latura fiind ipotenuza si contorizam aceasta ipotenuza in vectorul de frecventa.\n",
    "Dupa citire calculam frecventa maxima din vector si o afisam pe ecran."
   ]
  },
  {
   "cell_type": "code",
   "execution_count": null,
   "id": "de07ce77",
   "metadata": {
    "vscode": {
     "languageId": "c"
    }
   },
   "outputs": [],
   "source": [
    "//ex 3 - b\n",
    "#include <iostream>\n",
    "#include <fstream> \n",
    "using namespace std;\n",
    "ifstream fin(\"bac.txt\");\n",
    "int fr[100];\n",
    "int main(){\n",
    "    int a, b, c, maxip = -1, maxi;\n",
    "    \n",
    "    while(fin >> a >> b >> c){\n",
    "        if(a*a == b*b + c*c || b*b == a*a + c*c || c*c == a*a + b *b)\n",
    "        {\n",
    "            maxi = a;\n",
    "            if(b > maxi) maxi = b;\n",
    "            if(c > maxi) maxi = c;\n",
    "            fr[maxi]++;\n",
    "        }\n",
    "    }\n",
    "    for(int i = 1; i <= 100; i++)\n",
    "        if(fr[i] > maxip)\n",
    "            maxip = fr[i];\n",
    "\n",
    "    cout << maxip;\n",
    "    \n",
    "    fin.close();\n",
    "    return 0;\n",
    "}"
   ]
  }
 ],
 "metadata": {
  "language_info": {
   "name": "python"
  }
 },
 "nbformat": 4,
 "nbformat_minor": 5
}
