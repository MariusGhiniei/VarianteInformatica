{
 "cells": [
  {
   "cell_type": "code",
   "execution_count": null,
   "id": "f322f7c9",
   "metadata": {
    "vscode": {
     "languageId": "plaintext"
    }
   },
   "outputs": [],
   "source": [
    "2024 - Sesiune Toamna"
   ]
  },
  {
   "cell_type": "code",
   "execution_count": null,
   "id": "65eea3ea",
   "metadata": {
    "vscode": {
     "languageId": "plaintext"
    }
   },
   "outputs": [],
   "source": [
    "Subiectul 1\n",
    "1. b {! neaga}\n",
    "2. a {void recursiv}\n",
    "3. a {strcmp(x,y) > 0 este daca x este dupa y alfabetic, adica \"ac\" cu \"ab\" }\n",
    "4. b {radacina are valoarea 0 in vectorul de tati}\n",
    "5. c {numarul maxim de arce intr un graf orientat este n*(n-1)}"
   ]
  },
  {
   "cell_type": "markdown",
   "id": "92aa9b25",
   "metadata": {
    "vscode": {
     "languageId": "plaintext"
    }
   },
   "source": [
    "Subiectul 2"
   ]
  },
  {
   "cell_type": "code",
   "execution_count": null,
   "id": "936787a3",
   "metadata": {
    "vscode": {
     "languageId": "plaintext"
    }
   },
   "outputs": [],
   "source": [
    "1.  a)\n",
    "    b)"
   ]
  },
  {
   "cell_type": "code",
   "execution_count": null,
   "id": "8593c8ea",
   "metadata": {
    "vscode": {
     "languageId": "plaintext"
    }
   },
   "outputs": [],
   "source": [
    "c)"
   ]
  },
  {
   "cell_type": "code",
   "execution_count": null,
   "id": "f70a7cd4",
   "metadata": {
    "vscode": {
     "languageId": "plaintext"
    }
   },
   "outputs": [],
   "source": [
    "//d)"
   ]
  },
  {
   "cell_type": "code",
   "execution_count": null,
   "id": "87bad7bb",
   "metadata": {
    "vscode": {
     "languageId": "plaintext"
    }
   },
   "outputs": [],
   "source": [
    "2."
   ]
  },
  {
   "cell_type": "code",
   "execution_count": null,
   "id": "0e57e035",
   "metadata": {
    "vscode": {
     "languageId": "cpp"
    }
   },
   "outputs": [],
   "source": [
    "3.\n",
    "if(m.nota2 > 'B' && (m.nota2-m.nota1 == 2 || m.nota1 - m.nota2 == 2))\n",
    "        cout << \"TERTA\";\n",
    "    else if(m.nota2 == 'B' && m.nota1 == 'G' || m.nota2 == 'A' && m.nota1 == 'F')\n",
    "        cout << \"TERTA\";\n",
    "    else cout << \"NU\";"
   ]
  },
  {
   "cell_type": "code",
   "execution_count": null,
   "id": "1152cc54",
   "metadata": {
    "vscode": {
     "languageId": "plaintext"
    }
   },
   "outputs": [],
   "source": [
    "Subiectul 3"
   ]
  },
  {
   "cell_type": "code",
   "execution_count": null,
   "id": "aef2e0e8",
   "metadata": {
    "vscode": {
     "languageId": "plaintext"
    }
   },
   "outputs": [],
   "source": [
    "//ex 1"
   ]
  },
  {
   "cell_type": "code",
   "execution_count": null,
   "id": "29a562d5",
   "metadata": {
    "vscode": {
     "languageId": "plaintext"
    }
   },
   "outputs": [],
   "source": [
    "//ex 2"
   ]
  },
  {
   "cell_type": "code",
   "execution_count": null,
   "id": "8217becb",
   "metadata": {
    "vscode": {
     "languageId": "plaintext"
    }
   },
   "outputs": [],
   "source": [
    "//ex 3 - a"
   ]
  },
  {
   "cell_type": "code",
   "execution_count": null,
   "id": "49e98c11",
   "metadata": {
    "vscode": {
     "languageId": "plaintext"
    }
   },
   "outputs": [],
   "source": [
    "//ex 3 - b"
   ]
  }
 ],
 "metadata": {
  "language_info": {
   "name": "python"
  }
 },
 "nbformat": 4,
 "nbformat_minor": 5
}
