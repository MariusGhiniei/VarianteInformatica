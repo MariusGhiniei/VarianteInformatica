{
 "cells": [
  {
   "cell_type": "code",
   "execution_count": null,
   "id": "c706e1a9",
   "metadata": {
    "vscode": {
     "languageId": "plaintext"
    }
   },
   "outputs": [],
   "source": [
    "2016 - Sesiune Vara"
   ]
  },
  {
   "cell_type": "code",
   "execution_count": null,
   "id": "4a2e14fb",
   "metadata": {
    "vscode": {
     "languageId": "plaintext"
    }
   },
   "outputs": [],
   "source": [
    "Subiectul 1"
   ]
  },
  {
   "cell_type": "code",
   "execution_count": null,
   "id": "59822d61",
   "metadata": {
    "vscode": {
     "languageId": "plaintext"
    }
   },
   "outputs": [],
   "source": [
    "1. d\n",
    "2.  a) 14 28\n",
    "    b)  Un set de valori care se poate atribui  pentru variabilele m,n si x sunt m=11 n=11 x=11, pentru ca in final sa se afiseze doua numere egale "
   ]
  },
  {
   "cell_type": "code",
   "execution_count": null,
   "id": "543eb313",
   "metadata": {
    "vscode": {
     "languageId": "plaintext"
    }
   },
   "outputs": [],
   "source": [
    "//c) \n",
    "citeste m,n,x\n",
    "\t(numere naturale nenule,m<n)\n",
    "p=0;\n",
    "daca m<n si p=0 atunci{\n",
    "    repeta{\n",
    "        daca m%x=0 si n%x=0 atunci{\n",
    "            p=x\n",
    "            altfel\n",
    "                daca m%x=0 atunci{\n",
    "                    n=n-1\n",
    "                altfel\n",
    "                    m=m+1;\n",
    "                }\n",
    "        }\n",
    "    }pana cand m>=n si p!=0\n",
    "}\n",
    "scrie m,' ',n"
   ]
  },
  {
   "cell_type": "code",
   "execution_count": null,
   "id": "721dd275",
   "metadata": {
    "vscode": {
     "languageId": "plaintext"
    }
   },
   "outputs": [],
   "source": [
    "//d)\n",
    "#include <iostream>\n",
    "using namespace std;\n",
    "int main()\n",
    "{\tint m, n, x, p;\n",
    "\tcin >> m >> n >> x;\n",
    "\tp = 0;\n",
    "\twhile(m < n && p == 0) {\n",
    "\t\tif(m % x == 0 && n % x == 0)\n",
    "\t\t\tp = x;\n",
    "\t\telse if(m % x == 0)\n",
    "\t\t\tn = n - 1;\n",
    "\t\telse\n",
    "\t\t\tm = m + 1;\n",
    "\t}\n",
    "\tcout << m << \" \" << n;\n",
    "\treturn 0;\n",
    "} "
   ]
  },
  {
   "cell_type": "code",
   "execution_count": null,
   "id": "f259001b",
   "metadata": {
    "vscode": {
     "languageId": "plaintext"
    }
   },
   "outputs": [],
   "source": [
    "Subiectul 2"
   ]
  },
  {
   "cell_type": "code",
   "execution_count": null,
   "id": "a7b84a76",
   "metadata": {
    "vscode": {
     "languageId": "plaintext"
    }
   },
   "outputs": [],
   "source": [
    "Subiectul 3"
   ]
  }
 ],
 "metadata": {
  "language_info": {
   "name": "python"
  }
 },
 "nbformat": 4,
 "nbformat_minor": 5
}
