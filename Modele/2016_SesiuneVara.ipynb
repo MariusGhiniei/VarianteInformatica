{
 "cells": [
  {
   "cell_type": "markdown",
   "id": "c706e1a9",
   "metadata": {
    "vscode": {
     "languageId": "plaintext"
    }
   },
   "source": [
    "2016 - Sesiune Vara"
   ]
  },
  {
   "cell_type": "markdown",
   "id": "4a2e14fb",
   "metadata": {
    "vscode": {
     "languageId": "plaintext"
    }
   },
   "source": [
    "Subiectul 1"
   ]
  },
  {
   "cell_type": "code",
   "execution_count": null,
   "id": "59822d61",
   "metadata": {
    "vscode": {
     "languageId": "plaintext"
    }
   },
   "outputs": [],
   "source": [
    "1. d\n",
    "2.  a) 14 28\n",
    "    b)  Un set de valori care se poate atribui  pentru variabilele m,n si x sunt m=11 n=11 x=11, pentru ca in final sa se afiseze doua numere egale "
   ]
  },
  {
   "cell_type": "code",
   "execution_count": null,
   "id": "543eb313",
   "metadata": {
    "vscode": {
     "languageId": "plaintext"
    }
   },
   "outputs": [],
   "source": [
    "//c) \n",
    "citeste m,n,x\n",
    "\t(numere naturale nenule,m<n)\n",
    "p=0;\n",
    "daca m<n si p=0 atunci{\n",
    "    repeta{\n",
    "        daca m%x=0 si n%x=0 atunci{\n",
    "            p=x\n",
    "            altfel\n",
    "                daca m%x=0 atunci{\n",
    "                    n=n-1\n",
    "                altfel\n",
    "                    m=m+1;\n",
    "                }\n",
    "        }\n",
    "    }pana cand m>=n si p!=0\n",
    "}\n",
    "scrie m,' ',n"
   ]
  },
  {
   "cell_type": "code",
   "execution_count": null,
   "id": "721dd275",
   "metadata": {
    "vscode": {
     "languageId": "plaintext"
    }
   },
   "outputs": [],
   "source": [
    "//d)\n",
    "#include <iostream>\n",
    "using namespace std;\n",
    "int main()\n",
    "{\tint m, n, x, p;\n",
    "\tcin >> m >> n >> x;\n",
    "\tp = 0;\n",
    "\twhile(m < n && p == 0) {\n",
    "\t\tif(m % x == 0 && n % x == 0)\n",
    "\t\t\tp = x;\n",
    "\t\telse if(m % x == 0)\n",
    "\t\t\tn = n - 1;\n",
    "\t\telse\n",
    "\t\t\tm = m + 1;\n",
    "\t}\n",
    "\tcout << m << \" \" << n;\n",
    "\treturn 0;\n",
    "} "
   ]
  },
  {
   "cell_type": "markdown",
   "id": "f259001b",
   "metadata": {
    "vscode": {
     "languageId": "plaintext"
    }
   },
   "source": [
    "Subiectul 2"
   ]
  },
  {
   "cell_type": "code",
   "execution_count": null,
   "id": "8d5d96c6",
   "metadata": {
    "vscode": {
     "languageId": "plaintext"
    }
   },
   "outputs": [],
   "source": [
    "1. a {Fara eroare de compilare}\n",
    "2. 2 componente {6 elemente nenule => 3 muchii}\n",
    "3. Descendenti directi ai nodului 5 sunt nodurile 2,3 si 8\n",
    "4. 11matematica {strstr(s,x) -> returneaza pointerul de la prima aparitie a sirului x}"
   ]
  },
  {
   "cell_type": "code",
   "execution_count": null,
   "id": "d10ee5bd",
   "metadata": {
    "vscode": {
     "languageId": "cpp"
    }
   },
   "outputs": [],
   "source": [
    "//5\n",
    "#include <iostream>\n",
    "using namespace std;\n",
    "int a[101][101];\n",
    "int main()\n",
    "{\tint n;\n",
    "\tcin>>n;\n",
    "\tfor(int j=1; j<=n; j++)\n",
    "\t\ta[n][j]=4;\n",
    "\tfor(int i=1; i<=n; i++)\n",
    "\t\ta[i][1]=i;\n",
    "\tfor(int j=2; j<=n; j++)\n",
    "\t\tfor(int i=1; i<n; i++)\n",
    "\t\t\ta[i][j]=a[i][j-1]+a[i+1][j-1];\n",
    "\n",
    "\tfor(int i=1; i<=n; i++) {\n",
    "\t\tfor(int j=1; j<=n; j++)\n",
    "\t\t\tcout<<a[i][j]<<\" \";\n",
    "\t\tcout<<endl;\n",
    "\t}\n",
    "\treturn 0;\n",
    "}"
   ]
  },
  {
   "cell_type": "markdown",
   "id": "a7b84a76",
   "metadata": {
    "vscode": {
     "languageId": "plaintext"
    }
   },
   "source": [
    "Subiectul 3"
   ]
  },
  {
   "cell_type": "code",
   "execution_count": null,
   "id": "5a3b3190",
   "metadata": {
    "vscode": {
     "languageId": "plaintext"
    }
   },
   "outputs": [],
   "source": [
    "1.  c {void recursiv}\n",
    "2.  pere fragi zmeura\n",
    "    mure,afine,zmeura"
   ]
  },
  {
   "cell_type": "code",
   "execution_count": null,
   "id": "1a7234c3",
   "metadata": {
    "vscode": {
     "languageId": "cpp"
    }
   },
   "outputs": [],
   "source": [
    "//3\n",
    "int cifreImpare(int n)\n",
    "{\tint c, r = 0, p = 1, ok = 0;\n",
    "\twhile(n != 0) {\n",
    "\t\tc = n % 10;\n",
    "\t\tn = n / 10;\n",
    "\t\tif(c % 2 == 0) {\n",
    "\t\t\tok = 1;\n",
    "\t\t\tr = c * p + r;\n",
    "\t\t\tp = 10 * p;\n",
    "\t\t}\n",
    "\t}\n",
    "\tif(ok == 1)\n",
    "\t\treturn r;\n",
    "\telse\n",
    "\t\treturn -1;\n",
    "\n",
    "}"
   ]
  },
  {
   "cell_type": "code",
   "execution_count": null,
   "id": "b2444208",
   "metadata": {
    "vscode": {
     "languageId": "plaintext"
    }
   },
   "outputs": [],
   "source": [
    "//ex 4 - a\n",
    "Am proiectat un algoritm eficient din punct de vedere a timpului, folosind o abordare liniara.\n",
    "Am proiectat un algoritm eficient din punct de vedere a memoriei fara a folosi vectori, doar variabile de tip int.\n",
    "Citim nr maxim din interval, citim primul rand facem afisare numerelor pozitive mai mici decat primul numar citit.\n",
    "Citim numerele din fisier, si afisam numerele naturale cuprinse in intervalul (x,y), unde x este numarul anterior citit si y este numarul curent citit.\n",
    "Tratam si cazul de interval (x, n] si cazul de nu exista."
   ]
  },
  {
   "cell_type": "code",
   "execution_count": null,
   "id": "ed31b84e",
   "metadata": {
    "vscode": {
     "languageId": "cpp"
    }
   },
   "outputs": [],
   "source": [
    "//ex 4 - b\n",
    "#include <iostream>\n",
    "#include <fstream>\n",
    "using namespace std;\n",
    "ifstream fin(\"numere.in\");\n",
    "\n",
    "int main() {\n",
    "\tint n, x, y, ok = 0;\n",
    "\tfin >> n;\n",
    "\tfin >> x;\n",
    "\tfor(int i = 1; i < x; i++){\n",
    "\t\tcout << i << \" \";\n",
    "\t\tok = 1;\n",
    "\t}\n",
    "\twhile(fin >> y) {\n",
    "\t\tfor(int i = x + 1; i < y; i++){\n",
    "\t\t\tcout << i << \" \";\n",
    "\t\t\tok = 1;\n",
    "\t\t}\n",
    "\t\tx = y;\n",
    "\t}\n",
    "\tfor(int i = x + 1; i <= n; i++){\n",
    "\t\tcout << i << \" \";\n",
    "\t\tok = 1;\n",
    "\t}\n",
    "\tif(ok == 0) cout << \"Nu exista\";\n",
    "    \n",
    "    fin.close();\n",
    "    return 0;\n",
    "\n",
    "}"
   ]
  }
 ],
 "metadata": {
  "language_info": {
   "name": "python"
  }
 },
 "nbformat": 4,
 "nbformat_minor": 5
}
