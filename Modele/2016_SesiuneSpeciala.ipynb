{
 "cells": [
  {
   "cell_type": "markdown",
   "id": "c1376379",
   "metadata": {
    "vscode": {
     "languageId": "plaintext"
    }
   },
   "source": [
    "2016 - Sesiunea speciala"
   ]
  },
  {
   "cell_type": "markdown",
   "id": "cbe3022d",
   "metadata": {
    "vscode": {
     "languageId": "plaintext"
    }
   },
   "source": [
    "Subiectul 1"
   ]
  },
  {
   "cell_type": "code",
   "execution_count": null,
   "id": "ea3098dd",
   "metadata": {
    "vscode": {
     "languageId": "plaintext"
    }
   },
   "outputs": [],
   "source": [
    "1. a\n",
    "2.  a) 3\n",
    "    b) Numerele care pot fi luate din intervalul [10000-99999] pentru a se afisa 4 sunt de forma abbbb, unde a si b pot fi luate in 9 moduri fiecare, adica 18 solutii\n"
   ]
  },
  {
   "cell_type": "code",
   "execution_count": null,
   "id": "e3152bbe",
   "metadata": {
    "vscode": {
     "languageId": "plaintext"
    }
   },
   "outputs": [],
   "source": [
    "//c)\n",
    "citeşte n  \n",
    "(număr natural nenul) \n",
    "k=1 \n",
    "m=1\n",
    "┌daca n>9 atunci\n",
    "| ┌repeta\n",
    "| │┌dacă n%10=[n/10]%10 atunci \n",
    "| ││ k=k+1 \n",
    "| ││┌dacă k>m atunci \n",
    "| │││ m=k \n",
    "| ││└■ \n",
    "| ││altfel \n",
    "| ││ k=1  \n",
    "| │└■ \n",
    "| │  n=[n/10] \n",
    "■ |\n",
    "  └pana cand n<=9 \n",
    "scrie m"
   ]
  },
  {
   "cell_type": "code",
   "execution_count": null,
   "id": "95ef1e9e",
   "metadata": {
    "vscode": {
     "languageId": "cpp"
    }
   },
   "outputs": [],
   "source": [
    "//d)\n",
    " #include <iostream>\n",
    "using namespace std;\n",
    "\n",
    "int main()\n",
    "{\tint n,m,k;\n",
    "\tcin>>n;\n",
    "\tk=1; m=1;\n",
    "\twhile(n>9) {\n",
    "\t\tif(n%10==(n/10)%10) {\n",
    "\t\t\tk=k+1;\n",
    "\t\t}\t\n",
    "\t\t\telse{\n",
    "\t\t\t    k=1;\n",
    "\t\t\t}\n",
    "\t\t\tif(k>m){\n",
    "\t\t\t\tm=k;\n",
    "\t\t\t}\t\n",
    "\t\tn=n/10;\n",
    "\t}\n",
    "\tcout<<m;\n",
    "\treturn 0;\n",
    "}"
   ]
  },
  {
   "cell_type": "markdown",
   "id": "744dfc19",
   "metadata": {
    "vscode": {
     "languageId": "plaintext"
    }
   },
   "source": [
    "Subiectul 2"
   ]
  },
  {
   "cell_type": "code",
   "execution_count": null,
   "id": "e6ef1599",
   "metadata": {
    "vscode": {
     "languageId": "plaintext"
    }
   },
   "outputs": [],
   "source": [
    "1. d {Fara eroare de compilare}\n",
    "2. a {12 noduri}\n",
    "3. 2-3-1-7"
   ]
  },
  {
   "cell_type": "code",
   "execution_count": null,
   "id": "122d1b83",
   "metadata": {
    "vscode": {
     "languageId": "plaintext"
    }
   },
   "outputs": [],
   "source": [
    "//4.\n",
    "int i, s = 0;\n",
    "for(i = 1; i <= 20; i++)\n",
    "    s = s + p[i].pretOra * p[i].nrLocuriInchiriate;"
   ]
  },
  {
   "cell_type": "code",
   "execution_count": null,
   "id": "041be934",
   "metadata": {
    "vscode": {
     "languageId": "cpp"
    }
   },
   "outputs": [],
   "source": [
    "//5.\n",
    "#include <iostream>\n",
    "#include <cstring>\n",
    "using namespace std;\n",
    "char s[1000], *p, s1[1000], s2[1000];\n",
    "int main()\n",
    "{\n",
    "    int n, k, ok=0;\n",
    "    cin>>n;\n",
    "    cin.getline(s, 256);\n",
    "    for (int i=1; i<=n; i++){\n",
    "        cin.getline(s, 1000);\n",
    "        strcat(s1, s);\n",
    "        strcat(s1, \" \");\n",
    "    }\n",
    "    cin>>k;\n",
    "    strcpy(s2, s1);\n",
    "    p=strtok(s1, \" \");\n",
    "    while (p!=NULL){\n",
    "        if (strlen(p)==k) cout<<p<<\" \";\n",
    "        p=strtok(NULL, \" \");\n",
    "    }\n",
    "    \n",
    "    p=strtok(s2, \" \");\n",
    "    while (p!=NULL){\n",
    "        if (strlen(p)!=k) cout<<p<<\" \";\n",
    "        p=strtok(NULL, \" \");\n",
    "    }\n",
    "    return 0;\n",
    "}"
   ]
  },
  {
   "cell_type": "markdown",
   "id": "f3584701",
   "metadata": {
    "vscode": {
     "languageId": "cpp"
    }
   },
   "source": [
    "Subiectul 3"
   ]
  },
  {
   "cell_type": "code",
   "execution_count": null,
   "id": "e5995d3d",
   "metadata": {
    "vscode": {
     "languageId": "cpp"
    }
   },
   "outputs": [],
   "source": [
    "1)  b.22\n",
    "2)  010011, 010100"
   ]
  },
  {
   "cell_type": "code",
   "execution_count": null,
   "id": "e8f35fe6",
   "metadata": {
    "vscode": {
     "languageId": "cpp"
    }
   },
   "outputs": [],
   "source": [
    "//ex 3\n",
    "int minDivPrim(int n){\n",
    "    int m, d, cn, ok;\n",
    "    \n",
    "    for(int i = 2; i <= n; i++){\n",
    "        m = i; d = 2; cn = n;\n",
    "        ok = 1;\n",
    "        while(cn > 1){\n",
    "            if(cn % d == 0){\n",
    "                while(cn % d == 0)\n",
    "                    cn = cn / d;\n",
    "                if(m % d == 0)\n",
    "                    while(m % d == 0)\n",
    "                        m = m / d;\n",
    "                else ok = 0;\n",
    "            }\n",
    "            d++;\n",
    "        }\n",
    "        if(cn == 1 && m == 1 && ok == 1)\n",
    "            return i;\n",
    "    }\n",
    "}"
   ]
  },
  {
   "cell_type": "code",
   "execution_count": null,
   "id": "e12f2ea3",
   "metadata": {
    "vscode": {
     "languageId": "cpp"
    }
   },
   "outputs": [],
   "source": [
    "//ex 4 - a\n",
    "Am proiectat un algoritm eficient din punct de vedere al memoriei, fara a utiliza vectori.\n",
    "Am proiectat un algoritm eficient din punct de vedere al timpului folosind o abordare liniara.\n",
    "Observam ca se formeaza sirul 1 -1 2 -2 3 -3 4 -4 ..., pe pozitia impara se afiseaza indicele/2 + 1, iar pe pozitie para se afiseaza -indicile/2.\n",
    "Parcurgem descrescator lungimea sirului si afisam dupa caz."
   ]
  },
  {
   "cell_type": "code",
   "execution_count": null,
   "id": "2efa1ea6",
   "metadata": {
    "vscode": {
     "languageId": "cpp"
    }
   },
   "outputs": [],
   "source": [
    "//ex 4 - b\n",
    "#include <iostream>\n",
    "#include <fstream>\n",
    "using namespace std;\n",
    "ofstream fout(\"bac.out\");\n",
    "\n",
    "int main(){\n",
    "    int n;\n",
    "    cin >> n;\n",
    "    while(n >= 1){\n",
    "        if(n % 2 == 0)\n",
    "            fout << -n/2 << \" \";\n",
    "        else fout << n / 2  + 1<< \" \";\n",
    "        n--;\n",
    "    }\n",
    "    \n",
    "    fout.close();\n",
    "    return 0;\n",
    "}"
   ]
  }
 ],
 "metadata": {
  "language_info": {
   "name": "python"
  }
 },
 "nbformat": 4,
 "nbformat_minor": 5
}
