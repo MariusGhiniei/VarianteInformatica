{
 "cells": [
  {
   "cell_type": "markdown",
   "metadata": {
    "vscode": {
     "languageId": "plaintext"
    }
   },
   "source": [
    "Simulare Nationala 2022"
   ]
  },
  {
   "cell_type": "markdown",
   "metadata": {
    "vscode": {
     "languageId": "plaintext"
    }
   },
   "source": [
    "Subiectul 1"
   ]
  },
  {
   "cell_type": "code",
   "execution_count": null,
   "metadata": {
    "vscode": {
     "languageId": "plaintext"
    }
   },
   "outputs": [],
   "source": [
    "1. d {!(x<=3) devine x > 3, !(notul) schimba si egalul}\n",
    "2. b {Cautare binara recursiv, indica numarul de elemente pt care v[i] = i}\n",
    "3. c {Bkt}\n",
    "4. a {Densitate = nrLocuitori/suprafata}\n",
    "5. c {Subgraf, se elimina pe rand nodurile (evident si muchiile adiacente acestuia)}"
   ]
  },
  {
   "cell_type": "markdown",
   "metadata": {
    "vscode": {
     "languageId": "plaintext"
    }
   },
   "source": [
    "Subiectul 2"
   ]
  },
  {
   "cell_type": "code",
   "execution_count": null,
   "metadata": {
    "vscode": {
     "languageId": "plaintext"
    }
   },
   "outputs": [],
   "source": [
    "1.\n",
    "a) 3\n",
    "b) 2213, 2215 {Numere de forma 22xy, unde x si y sunt numere impare}"
   ]
  },
  {
   "cell_type": "code",
   "execution_count": null,
   "metadata": {
    "vscode": {
     "languageId": "cpp"
    }
   },
   "outputs": [],
   "source": [
    "//c)\n",
    "#include <iostream>\n",
    "using namespace std;\n",
    "int main()\n",
    "{\tint n,x,nr,i,y;\n",
    "\tcin>>n>>x;\n",
    "\tnr=0;\n",
    "\ti=1;\n",
    "\twhile(i<=n) {\n",
    "\t\tcin>>y;\n",
    "\t\twhile(y!=0 && y%2!=x%2) {\n",
    "\t\t\ty=y/10;\n",
    "\t\t}\n",
    "\t\tif(y==x) {\n",
    "\t\t\tnr=nr+1;\n",
    "\t\t}\n",
    "\t\ti=i+1;\n",
    "\t}\n",
    "\tcout<<nr<<endl;\n",
    "    return 0;\n",
    "}"
   ]
  },
  {
   "cell_type": "code",
   "execution_count": null,
   "metadata": {
    "vscode": {
     "languageId": "cpp"
    }
   },
   "outputs": [],
   "source": [
    "//d\n",
    "citește n,x (numere naturale nenule) \n",
    "nr <- 0; \n",
    "┌pentru i<-1,n execută \n",
    "│ citește y (număr natural) \n",
    "│┌cât timp y≠0 și y%2≠x%2 execută \n",
    "││ y<-[y/10] \n",
    "│└■ \n",
    "│┌dacă y=x atunci nr<-nr+1 \n",
    "│└■ \n",
    "└■ \n",
    "scrie nr "
   ]
  }
 ],
 "metadata": {
  "language_info": {
   "name": "python"
  }
 },
 "nbformat": 4,
 "nbformat_minor": 2
}
