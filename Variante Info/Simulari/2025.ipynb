{
 "cells": [
  {
   "cell_type": "markdown",
   "metadata": {
    "vscode": {
     "languageId": "plaintext"
    }
   },
   "source": [
    "Subiectul 3"
   ]
  },
  {
   "cell_type": "code",
   "execution_count": null,
   "metadata": {
    "vscode": {
     "languageId": "cpp"
    }
   },
   "outputs": [],
   "source": [
    "//ex 1\n",
    "//Metoda 1 fara functie suplimentara\n",
    "void harsad(int k, int &n){\n",
    "    int ck, s;\n",
    "    while(k >= 1){\n",
    "        ck = k;\n",
    "        s = 0;\n",
    "        while(ck != 0){\n",
    "            s = s + ck % 10;\n",
    "            ck = ck / 10;\n",
    "        }\n",
    "        if(k % s == 0){\n",
    "            n = k;\n",
    "            break;\n",
    "        }\n",
    "        k--;\n",
    "    }\n",
    "}\n",
    "\n",
    "//Metoda 2 cu functie suplimentara\n",
    "int sum(int x){\n",
    "    int s = 0;\n",
    "    while(x != 0){\n",
    "        s = s + x % 10;\n",
    "        x = x / 10;\n",
    "    }\n",
    "    return s;\n",
    "}\n",
    "void harsad(int k, int &n){\n",
    "    while(k >= 1){\n",
    "        if(k % sum(k) == 0){\n",
    "            n = k;\n",
    "            break;\n",
    "        }\n",
    "        k--;\n",
    "    }\n",
    "}\n",
    "\n",
    "//Metoda 3, parcurg numerele cu for\n",
    "void harsad(int k, int &n){\n",
    "    int cn, s;\n",
    "    for(n = k; n >= 1; n--){\n",
    "        cn = n; s = 0;\n",
    "        while(cn != 0){\n",
    "            s = s + cn % 10;\n",
    "            cn = cn / 10;\n",
    "        }\n",
    "        if(n % s == 0){\n",
    "            break;\n",
    "        }\n",
    "    }\n",
    "}"
   ]
  }
 ],
 "metadata": {
  "language_info": {
   "name": "python"
  }
 },
 "nbformat": 4,
 "nbformat_minor": 2
}
