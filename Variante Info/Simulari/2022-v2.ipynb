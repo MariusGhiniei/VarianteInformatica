{
 "cells": [
  {
   "cell_type": "markdown",
   "metadata": {
    "vscode": {
     "languageId": "plaintext"
    }
   },
   "source": [
    "Simulare Nationala 2022 "
   ]
  },
  {
   "cell_type": "markdown",
   "metadata": {
    "vscode": {
     "languageId": "plaintext"
    }
   },
   "source": [
    "Subiectul 1"
   ]
  },
  {
   "cell_type": "code",
   "execution_count": null,
   "metadata": {
    "vscode": {
     "languageId": "plaintext"
    }
   },
   "outputs": [],
   "source": [
    "1. d {! neaga operatiile de <, >=}\n",
    "2. b {Int - Recurisiv - Apeluri de cautare binara}\n",
    "3. c {Bkt - pe multime de nume}\n",
    "4. a {Struct - formula densitate populatie}\n",
    "5. c {Subgraf complet}"
   ]
  },
  {
   "cell_type": "markdown",
   "metadata": {
    "vscode": {
     "languageId": "plaintext"
    }
   },
   "source": [
    "Subiectul 2"
   ]
  },
  {
   "cell_type": "code",
   "execution_count": null,
   "metadata": {
    "vscode": {
     "languageId": "plaintext"
    }
   },
   "outputs": [],
   "source": [
    "1.  a) 3\n",
    "    b) Numere de forma 22xy, unde x si y sunt cifre impare"
   ]
  },
  {
   "cell_type": "code",
   "execution_count": null,
   "metadata": {
    "vscode": {
     "languageId": "cpp"
    }
   },
   "outputs": [],
   "source": [
    "//c)\n",
    "#include <iostream>\n",
    "using namespace std;\n",
    "int main()\n",
    "{\tint n,x,nr,i,y;\n",
    "\tcin>>n>>x;\n",
    "\tnr=0; i=1;\n",
    "\n",
    "\twhile(i<=n) {\n",
    "\t\tcin>>y;\n",
    "\t\twhile(y!=0 && y%2!=x%2) {\n",
    "\t\t\ty=y/10;\n",
    "\t\t}\n",
    "\t\tif(y==x)\n",
    "\t\t\tnr=nr+1;\n",
    "\t\ti=i+1;\n",
    "\t}\n",
    "\tcout<<nr;\n",
    "\treturn 0;\n",
    "}"
   ]
  },
  {
   "cell_type": "code",
   "execution_count": null,
   "metadata": {
    "vscode": {
     "languageId": "plaintext"
    }
   },
   "outputs": [],
   "source": [
    "d) \n",
    "citeste n, x\n",
    "nr <- 0;\n",
    "pentru i <- 1, n executa {\n",
    " citeste y\n",
    " cat timp y != 0 si y%2 != x%2 executa {\n",
    "         y <- [y/10]\n",
    "    }\n",
    "   daca y = x atunci nr <- nr + 1\n",
    " }\n",
    "scrie nr"
   ]
  },
  {
   "cell_type": "code",
   "execution_count": null,
   "metadata": {
    "vscode": {
     "languageId": "plaintext"
    }
   },
   "outputs": [],
   "source": [
    "2. 1,3,4,6 {Oricare 3 dintre ele}"
   ]
  },
  {
   "cell_type": "code",
   "execution_count": null,
   "metadata": {
    "vscode": {
     "languageId": "plaintext"
    }
   },
   "outputs": [],
   "source": [
    "3.\n",
    "N: a[i-1][j]\n",
    "S: a[i+1][j]\n",
    "E: a[i][j+1]\n",
    "V: a[i][j-1] \n",
    "i e constant 1\n",
    "ok = 0;\n",
    "for(j = 0; j < n; j++)\n",
    "    if(a[0][j] == a[2][j] && a[2][j] == a[1][j+1] && a[1][j+1] == a[1][j-1])\n",
    "        ok = 1;"
   ]
  },
  {
   "cell_type": "markdown",
   "metadata": {
    "vscode": {
     "languageId": "plaintext"
    }
   },
   "source": [
    "Subiectul 3"
   ]
  },
  {
   "cell_type": "code",
   "execution_count": null,
   "metadata": {
    "vscode": {
     "languageId": "cpp"
    }
   },
   "outputs": [],
   "source": [
    "//ex 1.\n",
    "void rest(int x, int y, int n, int &k){\n",
    "    k = 0;\n",
    "    for(int i = n; i >= 1; i--){\n",
    "        if(i % x == 2 && i % y == 2){\n",
    "            k = i;\n",
    "            break;\n",
    "        }\n",
    "    }\n",
    "}"
   ]
  }
 ],
 "metadata": {
  "language_info": {
   "name": "python"
  }
 },
 "nbformat": 4,
 "nbformat_minor": 2
}
