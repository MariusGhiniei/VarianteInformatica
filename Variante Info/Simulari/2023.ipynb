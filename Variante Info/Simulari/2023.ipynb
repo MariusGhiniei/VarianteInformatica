{
 "cells": [
  {
   "cell_type": "markdown",
   "id": "7adaa480",
   "metadata": {
    "vscode": {
     "languageId": "plaintext"
    }
   },
   "source": [
    "Simulare Nationala 2023"
   ]
  },
  {
   "cell_type": "markdown",
   "id": "25fe2aca",
   "metadata": {
    "vscode": {
     "languageId": "plaintext"
    }
   },
   "source": [
    "Subiectul 1"
   ]
  },
  {
   "cell_type": "code",
   "execution_count": null,
   "id": "50dbd57b",
   "metadata": {
    "vscode": {
     "languageId": "plaintext"
    }
   },
   "outputs": [],
   "source": [
    "1. d {calcule}\n",
    "2. b {int - recursiv}\n",
    "3. a {struct}\n",
    "4. d {bkt pe multime}\n",
    "5. c {Graf orientat, componenta tare conexa = drum de la x - y si y - x}"
   ]
  },
  {
   "cell_type": "markdown",
   "id": "e00cdf10",
   "metadata": {
    "vscode": {
     "languageId": "plaintext"
    }
   },
   "source": [
    "Subiectul 2"
   ]
  },
  {
   "cell_type": "code",
   "execution_count": null,
   "id": "2dcf455c",
   "metadata": {
    "vscode": {
     "languageId": "plaintext"
    }
   },
   "outputs": [],
   "source": [
    "1.  a) 474\n",
    "    b) 521, 5021, 5521, 531*"
   ]
  },
  {
   "cell_type": "code",
   "execution_count": null,
   "id": "80a517fe",
   "metadata": {
    "vscode": {
     "languageId": "cpp"
    }
   },
   "outputs": [],
   "source": [
    "//c)\n",
    "#include <iostream>\n",
    "using namespace std;\n",
    "\n",
    "int main()\n",
    "{\n",
    "    int n, x, c, cn, p;\n",
    "    cin>>n;\n",
    "    x = 5;\n",
    "    do\n",
    "    {\n",
    "        cn = n;\n",
    "        n = 0;\n",
    "        p = 1;\n",
    "            do{\n",
    "                c = cn % 10;\n",
    "                if(c==x)\n",
    "                    c = 5 - c;\n",
    "                n = c * p + n;\n",
    "                cn = cn / 10;\n",
    "                p = p * 10;\n",
    "            }while(cn!=0);\n",
    "            x = x - 1;\n",
    "    }while (x!=0);\n",
    "    cout<<n;\n",
    "}"
   ]
  },
  {
   "cell_type": "code",
   "execution_count": null,
   "id": "0a407c81",
   "metadata": {
    "vscode": {
     "languageId": "plaintext"
    }
   },
   "outputs": [],
   "source": [
    "d)\n",
    "citeşte n (număr natural) \n",
    "┌pentru x=5,0 executa   \n",
    "│ cn <- n; n <- 0; p <- 1 \n",
    "│┌repetă \n",
    "││ c <- cn%10 \n",
    "││┌dacă c=x atunci c <- 5-c \n",
    "││└■ \n",
    "││ n <- c*p+n; cn <- [cn/10]; p <- p*10 \n",
    "│└până când cn=0 \n",
    "└■ \n",
    "scrie n"
   ]
  },
  {
   "cell_type": "code",
   "execution_count": null,
   "id": "7f997ffa",
   "metadata": {
    "vscode": {
     "languageId": "plaintext"
    }
   },
   "outputs": [],
   "source": [
    "2. Graf eulerian -> Toate nodurile au grad par.\n",
    "Se pot adauga muchiile: (2,3), (1,6) si (4,5)."
   ]
  },
  {
   "cell_type": "code",
   "execution_count": null,
   "id": "9226b0d6",
   "metadata": {
    "vscode": {
     "languageId": "cpp"
    }
   },
   "outputs": [],
   "source": [
    "3.\n",
    "for(int i = 1; i <= 5; i++)\n",
    "    for(int j = 1; j <= 5; j++)\n",
    "        if(i+j >= 6) \n",
    "            a[i][j] = i - 1;\n",
    "        else\n",
    "            a[i][j] = 5 - j;"
   ]
  },
  {
   "cell_type": "markdown",
   "id": "ffcf76d9",
   "metadata": {
    "vscode": {
     "languageId": "cpp"
    }
   },
   "source": [
    "Subiectul 3"
   ]
  },
  {
   "cell_type": "code",
   "execution_count": null,
   "id": "5a923009",
   "metadata": {
    "vscode": {
     "languageId": "cpp"
    }
   },
   "outputs": [],
   "source": [
    "//ex 1\n",
    "void NrImp (int x, int y, int &nr){\n",
    "    nr = 0;\n",
    "    for(int i = x; i <= y; i++){\n",
    "        int nrdiv = 0;\n",
    "        for(int j = 1; j <= i; j++)\n",
    "            if(i % j == 0 && j % 2 == 1) \n",
    "                nrdiv++;\n",
    "        if(nrdiv == 3)\n",
    "            nr++;\n",
    "    }\n",
    "}"
   ]
  },
  {
   "cell_type": "code",
   "execution_count": null,
   "id": "dc73beb6",
   "metadata": {
    "vscode": {
     "languageId": "cpp"
    }
   },
   "outputs": [],
   "source": [
    "//ex 2\n",
    "#include <iostream>\n",
    "#include <cstring>\n",
    "using namespace std;\n",
    "char s[101], t[101];\n",
    "\n",
    "int main(){\n",
    "    cin.getline(s,101);\n",
    "    \n",
    "    char *p = strtok(s, \" \");\n",
    "    while(p != NULL){\n",
    "        int ok = 0;\n",
    "        \n",
    "        for(int i = 0; i < strlen(p); i++)\n",
    "            if(p[i] == '.')\n",
    "                ok = 1;\n",
    "                \n",
    "        if(ok == 0){\n",
    "            strcat(t,p);\n",
    "            strcat(t,\" \");\n",
    "        } else {\n",
    "            if(p[0] == 'F')\n",
    "                strcat(t, \"fam. \");\n",
    "            else if(p[0] == 'G')\n",
    "                strcat(t, \"gen. \");\n",
    "            else if(p[0] == 'S')\n",
    "                strcat(t, \"spe. \");\n",
    "        }\n",
    "        \n",
    "        p = strtok(NULL, \" \");\n",
    "    }\n",
    "    cout << t;\n",
    "    \n",
    "    return 0;\n",
    "}"
   ]
  },
  {
   "cell_type": "code",
   "execution_count": null,
   "id": "ca411452",
   "metadata": {
    "vscode": {
     "languageId": "cpp"
    }
   },
   "outputs": [],
   "source": [
    "//ex 3 - a\n",
    "Am proiectat un algoritm eficient din punct de vedere a memoriei, folosind doar variabile de tip intreg, fara vectori.\n",
    "Am proiectat un algoritm eficient din punct de vedere al timpului, rezolvand problema din citire cu o complexitatea liniara.\n",
    "Citim numerele din fisier, crestem pozitia variabilei pos pentru fiecare citire , astfel retinem pozitia din sirul de numere apoi comparam numarul citit cu maximul.\n",
    "Daca x >= max si nu este aceeasi temperatura ca cea precedenta, atunci afisez pozitia si resetez maximul. Salvez ultima temperatura citita."
   ]
  },
  {
   "cell_type": "code",
   "execution_count": null,
   "id": "42fe50ea",
   "metadata": {
    "vscode": {
     "languageId": "cpp"
    }
   },
   "outputs": [],
   "source": [
    "//ex 3 - b\n",
    "\n",
    "#include <iostream>\n",
    "#include <fstream>\n",
    "using namespace std;\n",
    "ifstream fin(\"bac.txt\");\n",
    "\n",
    "int main()\n",
    "{\n",
    "    int max = 0, pos = 0, x, cx;\n",
    "    while(fin>>x)\n",
    "    {\n",
    "        pos++;\n",
    "        if(x >= max && cx != x)\n",
    "        {\n",
    "            max = x;\n",
    "            cout<<pos<<\" \";\n",
    "        }\n",
    "        cx = x;\n",
    "    }\n",
    "    \n",
    "    fin.close();\n",
    "    return 0;\n",
    "}"
   ]
  }
 ],
 "metadata": {
  "language_info": {
   "name": "python"
  }
 },
 "nbformat": 4,
 "nbformat_minor": 5
}
