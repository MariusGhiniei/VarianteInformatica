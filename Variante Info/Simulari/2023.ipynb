{
 "cells": [
  {
   "cell_type": "code",
   "execution_count": null,
   "id": "7adaa480",
   "metadata": {
    "vscode": {
     "languageId": "plaintext"
    }
   },
   "outputs": [],
   "source": [
    "Simulare Nationala 2025"
   ]
  },
  {
   "cell_type": "code",
   "execution_count": null,
   "id": "25fe2aca",
   "metadata": {
    "vscode": {
     "languageId": "plaintext"
    }
   },
   "outputs": [],
   "source": [
    "Subiectul 1"
   ]
  },
  {
   "cell_type": "code",
   "execution_count": null,
   "id": "50dbd57b",
   "metadata": {
    "vscode": {
     "languageId": "plaintext"
    }
   },
   "outputs": [],
   "source": [
    "1. d {calcule}\n",
    "2. b {int - recursiv}\n",
    "3. a {struct}\n",
    "4. d {bkt pe multime}\n",
    "5. c {Graf orientat, componenta tare conexa = drum de la x - y si y - x}"
   ]
  },
  {
   "cell_type": "code",
   "execution_count": null,
   "id": "e00cdf10",
   "metadata": {
    "vscode": {
     "languageId": "plaintext"
    }
   },
   "outputs": [],
   "source": [
    "Subiectul 2"
   ]
  },
  {
   "cell_type": "code",
   "execution_count": null,
   "id": "2dcf455c",
   "metadata": {
    "vscode": {
     "languageId": "plaintext"
    }
   },
   "outputs": [],
   "source": [
    "1.  a)\n",
    "    b)"
   ]
  },
  {
   "cell_type": "code",
   "execution_count": null,
   "id": "80a517fe",
   "metadata": {
    "vscode": {
     "languageId": "plaintext"
    }
   },
   "outputs": [],
   "source": [
    "//c)"
   ]
  },
  {
   "cell_type": "code",
   "execution_count": null,
   "id": "0a407c81",
   "metadata": {
    "vscode": {
     "languageId": "plaintext"
    }
   },
   "outputs": [],
   "source": [
    "d)"
   ]
  },
  {
   "cell_type": "code",
   "execution_count": null,
   "id": "7f997ffa",
   "metadata": {
    "vscode": {
     "languageId": "plaintext"
    }
   },
   "outputs": [],
   "source": [
    "2. Graf eulerian -> Toate nodurile au grad par.\n",
    "Se pot adauga muchiile: (2,3), (1,6) si (4,5)."
   ]
  },
  {
   "cell_type": "code",
   "execution_count": null,
   "id": "9226b0d6",
   "metadata": {
    "vscode": {
     "languageId": "cpp"
    }
   },
   "outputs": [],
   "source": [
    "3.\n",
    "for(int i = 1; i <= 5; i++)\n",
    "    for(int j = 1; j <= 5; j++)\n",
    "        if(i+j >= 6) \n",
    "            a[i][j] = i - 1;\n",
    "        else\n",
    "            a[i][j] = 5 - j;"
   ]
  }
 ],
 "metadata": {
  "language_info": {
   "name": "python"
  }
 },
 "nbformat": 4,
 "nbformat_minor": 5
}
