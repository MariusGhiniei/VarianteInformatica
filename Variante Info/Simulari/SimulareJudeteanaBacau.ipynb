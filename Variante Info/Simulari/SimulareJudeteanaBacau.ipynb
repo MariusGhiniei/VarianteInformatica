{
 "cells": [
  {
   "cell_type": "markdown",
   "metadata": {
    "vscode": {
     "languageId": "plaintext"
    }
   },
   "source": [
    "Simulare Judeteana Bacau - 8 mai 2025"
   ]
  },
  {
   "cell_type": "markdown",
   "metadata": {
    "vscode": {
     "languageId": "plaintext"
    }
   },
   "source": [
    "Subiectul 1"
   ]
  },
  {
   "cell_type": "code",
   "execution_count": null,
   "metadata": {
    "vscode": {
     "languageId": "plaintext"
    }
   },
   "outputs": [],
   "source": [
    "1. b {30.0/4 forteaza impartirea sa fie pe numerele reale, adica cu virgula si \n",
    "        daca este salvat intr - o variabila de tip intreg se salveaza doar partea intreaga, adica fara virgula}\n",
    "2. a {grafuri diferite -> ma ajut de matricea de adiacenta}\n",
    "3. a {Numar de cate ori se executa algoritmul}\n",
    "4. c {bkt - pe multime de cifre}\n",
    "5. d {Noduri terminale = frunze}"
   ]
  },
  {
   "cell_type": "markdown",
   "metadata": {
    "vscode": {
     "languageId": "plaintext"
    }
   },
   "source": [
    "Subiectul 2"
   ]
  },
  {
   "cell_type": "code",
   "execution_count": null,
   "metadata": {
    "vscode": {
     "languageId": "plaintext"
    }
   },
   "outputs": [],
   "source": [
    "1.  a) 28 47 9 1038 4598 190 \n",
    "    b) 10 110 1110  0"
   ]
  },
  {
   "cell_type": "code",
   "execution_count": null,
   "metadata": {
    "vscode": {
     "languageId": "plaintext"
    }
   },
   "outputs": [],
   "source": [
    "c)\n",
    "    citeste x\n",
    "    daca x != 0 atunci {\n",
    "        repeta \n",
    "            z <- 10\n",
    "            y <- x % 10\n",
    "            cat timp x > 9 executa{\n",
    "                x <- x / 10 - 1\n",
    "                y <- x % 10 * z + y\n",
    "                z <- z * 10\n",
    "            }\n",
    "            scrie y, ' ' \n",
    "            citeste x \n",
    "        pana cand x = 0 \n",
    "    }"
   ]
  },
  {
   "cell_type": "code",
   "execution_count": null,
   "metadata": {
    "vscode": {
     "languageId": "cpp"
    }
   },
   "outputs": [],
   "source": [
    "//d)\n",
    "\n",
    "#include <iostream>\n",
    "using namespace std;\n",
    "\n",
    "int main()\n",
    "{\n",
    "    int z,x,y;\n",
    "    cin >> x;\n",
    "    while(x != 0){\n",
    "        z = 10;\n",
    "        y = x % 10;\n",
    "        while(x > 9){\n",
    "            x = x / 10 - 1;\n",
    "            y = x % 10 * z + y;\n",
    "            z = z * 10;\n",
    "        }\n",
    "        cout << y << \" \";\n",
    "        cin >> x;\n",
    "    }\n",
    "    return 0;\n",
    "}"
   ]
  },
  {
   "cell_type": "code",
   "execution_count": null,
   "metadata": {
    "vscode": {
     "languageId": "cpp"
    }
   },
   "outputs": [],
   "source": [
    "2.\n",
    "    struct prajitura{\n",
    "        int numar;\n",
    "        struct{\n",
    "            char denumire[31];\n",
    "            int cantitate;\n",
    "        }ingredient[20];\n",
    "    }p;"
   ]
  },
  {
   "cell_type": "code",
   "execution_count": null,
   "metadata": {
    "vscode": {
     "languageId": "plaintext"
    }
   },
   "outputs": [],
   "source": [
    "3.\n",
    "    7 simBacau\n",
    "\n",
    "    // p - q, unde p si q sunt pointeri este de fapt rezultatul: strlen(q) - strlen(p)"
   ]
  },
  {
   "cell_type": "markdown",
   "metadata": {
    "vscode": {
     "languageId": "plaintext"
    }
   },
   "source": [
    "Subiectul 3"
   ]
  },
  {
   "cell_type": "code",
   "execution_count": null,
   "metadata": {
    "vscode": {
     "languageId": "cpp"
    }
   },
   "outputs": [],
   "source": [
    "// ex - 1\n",
    "int interval(int n)\n",
    "{\tint x=n,cnt=0;\n",
    "\twhile(cnt<2) {\n",
    "\t\tint ok=1;\n",
    "\t\tif(x<2)\n",
    "\t\t\tok=0;\n",
    "\t\tfor(int d=2; d*d<=x; d++)\n",
    "\t\t\tif(x%d==0) {\n",
    "\t\t\t\tok=0;\n",
    "\t\t\t\tbreak;\n",
    "\t\t\t}\n",
    "        if(ok==1)\n",
    "            cnt++;\n",
    "        x++;    \n",
    "\t}\n",
    "\treturn x-2;\n",
    "}"
   ]
  },
  {
   "cell_type": "code",
   "execution_count": null,
   "metadata": {
    "vscode": {
     "languageId": "cpp"
    }
   },
   "outputs": [],
   "source": [
    "// ex - 2\n",
    "#include <iostream>\n",
    "using namespace std;\n",
    "\n",
    "int a[11][11], v[11];\n",
    "\n",
    "int main(){\n",
    "    int n; \n",
    "    cin >> n;\n",
    "    for(int i = 1; i <= n * (n - 1) / 2; i++)\n",
    "        cin >> v[i];\n",
    "        \n",
    "    int k = 1;\n",
    "    for(int i = 1; i <= n; i++)\n",
    "        for(int j = 1; j <= n; j++)\n",
    "            if(i < j) {\n",
    "                a[i][j] = v[k];\n",
    "                a[j][i] = v[k];\n",
    "                k++;\n",
    "            }\n",
    "    \n",
    "    for(int i = 1; i <= n; i++){\n",
    "        for(int j = 1; j <= n; j++)\n",
    "            cout << a[i][j] << \" \";\n",
    "        cout << endl;\n",
    "    }\n",
    "    \n",
    "    return 0;\n",
    "}"
   ]
  },
  {
   "cell_type": "code",
   "execution_count": null,
   "metadata": {
    "vscode": {
     "languageId": "plaintext"
    }
   },
   "outputs": [],
   "source": [
    "// ex - 3 - a"
   ]
  },
  {
   "cell_type": "code",
   "execution_count": null,
   "metadata": {
    "vscode": {
     "languageId": "plaintext"
    }
   },
   "outputs": [],
   "source": [
    "// ex - 3 - b"
   ]
  }
 ],
 "metadata": {
  "language_info": {
   "name": "python"
  }
 },
 "nbformat": 4,
 "nbformat_minor": 2
}
