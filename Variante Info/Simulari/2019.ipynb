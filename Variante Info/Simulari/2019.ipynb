{
 "cells": [
  {
   "cell_type": "markdown",
   "metadata": {},
   "source": [
    "Simulare Nationala 2019"
   ]
  },
  {
   "cell_type": "markdown",
   "metadata": {},
   "source": [
    "Subiectul 1\n"
   ]
  },
  {
   "cell_type": "code",
   "execution_count": null,
   "metadata": {
    "vscode": {
     "languageId": "plaintext"
    }
   },
   "outputs": [],
   "source": [
    "1. d) {a < b atunci a / b = 0}\n",
    "2. d) {Backtracking pe multime de culori distince}\n",
    "3. a) {Algoritmul de determinare a divizorilor pe perechi + caz de patrat perfect}\n",
    "4. b) {Ciclu pe graf neorientat, nu am voie sa trec de 2 ori prin aceasi muchie}\n",
    "5. c) {Arbore cu numar maximal de frunze, incerc sa aleg intervalul cu cel mai multe noduri, Scriem pt toate i-urile intervalele}"
   ]
  },
  {
   "cell_type": "markdown",
   "metadata": {},
   "source": [
    "Subiectul 2"
   ]
  },
  {
   "cell_type": "code",
   "execution_count": null,
   "metadata": {
    "vscode": {
     "languageId": "plaintext"
    }
   },
   "outputs": [],
   "source": [
    "1)  a) 12\n",
    "    b) 2016 si 2019 "
   ]
  },
  {
   "cell_type": "code",
   "execution_count": null,
   "metadata": {
    "vscode": {
     "languageId": "cpp"
    }
   },
   "outputs": [],
   "source": [
    "//c)\n",
    "#include <iostream>\n",
    "using namespace std;\n",
    "\n",
    "int main()\n",
    "{\n",
    "\tint a, b, k, y, pm, i, x, p;\n",
    "\tcin >> a >> b >> k;\n",
    "\tpm = 0;\n",
    "\ty = 0;\n",
    "\ti = b;\n",
    "\twhile(i >= a){\n",
    "\t\tx = i;\n",
    "\t\tp = 0;\n",
    "\t\twhile(x%k==0){\n",
    "\t\t\tx = x / k;\n",
    "\t\t\tp = p + 1;\n",
    "\t\t}\n",
    "\t\tif(p!=0 && (p<pm || pm == 0)){\n",
    "\t\t\tpm = p;\n",
    "\t\t\ty = i;\n",
    "\t\t}\n",
    "\t\ti = i - 1;\n",
    "\t}\n",
    "\tcout<<y;\n",
    "\n",
    "    return 0;\n",
    "}"
   ]
  },
  {
   "cell_type": "code",
   "execution_count": null,
   "metadata": {
    "vscode": {
     "languageId": "cpp"
    }
   },
   "outputs": [],
   "source": [
    "//d)\n",
    "citeste a,b,k (numere naturale, 1≤a≤b, k>1) \n",
    " pm<-0; y<-0; \n",
    "┌ pentru (i<-b,a,-1) execută \n",
    "│ x<-i; p<-0 \n",
    "│┌ cat timp x%k == 0 execută \n",
    "││ x<-[x/k]; p<-p+1;\n",
    "│└■ \n",
    "│┌ dacă p≠0 și (p<pm sau pm=0)atunci \n",
    "││ pm<-p; y<-i \n",
    "│└■ \n",
    "│ \n",
    "└■ \n",
    " scrie y"
   ]
  },
  {
   "cell_type": "code",
   "execution_count": null,
   "metadata": {
    "vscode": {
     "languageId": "cpp"
    }
   },
   "outputs": [],
   "source": [
    "2)\n",
    "    struct eveniment{\n",
    "        int id;\n",
    "        struct{\n",
    "            int zi, luna;\n",
    "        }data;\n",
    "    }e;"
   ]
  },
  {
   "cell_type": "code",
   "execution_count": null,
   "metadata": {
    "vscode": {
     "languageId": "cpp"
    }
   },
   "outputs": [],
   "source": [
    "3)\n",
    "    for(int i = 0; i <5; i++)\n",
    "        for(int j = 0; j < 5;j++)\n",
    "            if(i == 0) a[i][j] = j;\n",
    "            else a[i][j] = a[i-1][j] + 2;"
   ]
  },
  {
   "cell_type": "markdown",
   "metadata": {},
   "source": [
    "Subiectul 3"
   ]
  },
  {
   "cell_type": "code",
   "execution_count": null,
   "metadata": {
    "vscode": {
     "languageId": "cpp"
    }
   },
   "outputs": [],
   "source": [
    "//ex 1\n",
    "void inserare(int &n){ \n",
    "    int m = 0,c,c1,p = 1;\n",
    "    while(n > 9){\n",
    "        c = n % 10; // ultima cifra\n",
    "        c1 = n / 10 % 10; // penultima cifra\n",
    "        m = c * p + m; // formula de generarea cifrelor in ordinea in care apar\n",
    "        p = p * 10;\n",
    "        if(c > c1)  m = (c - c1) * p + m;\n",
    "        else  m = (c1 - c) * p + m;\n",
    "        p = p * 10;\n",
    "        \n",
    "        n = n / 10;\n",
    "    }\n",
    "    m = n * p + m; // pun prima cifra in numar\n",
    "    n = m;\n",
    "}"
   ]
  },
  {
   "cell_type": "code",
   "execution_count": null,
   "metadata": {
    "vscode": {
     "languageId": "cpp"
    }
   },
   "outputs": [],
   "source": [
    "//ex 2\n",
    "#include <iostream>\n",
    "#include <cstring>\n",
    "using namespace std;\n",
    "char s[51], t[51];\n",
    "\n",
    "int main(){\n",
    "    cin.getline(s,51);\n",
    "    //strcpy(s,\"COLEG. NATIONAL DE INFORMATICA\");\n",
    "    //Metoda Strtok -> Transformam din propozitie in cuvinte, intre \" \" se pun toti separatorii a 2 cuv\n",
    "    char* p = strtok(s,\" \");\n",
    "    while(p != NULL){ // p != 0\n",
    "        if(p[0] == 'C'){\n",
    "            strcat(t,\"COLEGIUL\");\n",
    "            strcat(t, \" \");\n",
    "        } else if(p[0] == 'N'){\n",
    "             strcat(t,\"NATIONAL\");\n",
    "             strcat(t, \" \");\n",
    "        } else if(p[0] == 'L'){\n",
    "            strcat(t,\"LICEUL\");\n",
    "            strcat(t, \" \");\n",
    "        } else if(p[0] == 'T'){\n",
    "            strcat(t,\"TEORETIC\");\n",
    "            strcat(t,\" \");\n",
    "        } else {\n",
    "            strcat(t, p);\n",
    "            strcat(t,\" \");\n",
    "        }\n",
    "        p = strtok(NULL, \" \");\n",
    "    }\n",
    "    cout << t;\n",
    "}"
   ]
  }
 ],
 "metadata": {
  "language_info": {
   "name": "python"
  }
 },
 "nbformat": 4,
 "nbformat_minor": 2
}
