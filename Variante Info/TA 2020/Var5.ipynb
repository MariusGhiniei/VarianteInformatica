{
 "cells": [
  {
   "cell_type": "code",
   "execution_count": null,
   "metadata": {
    "vscode": {
     "languageId": "plaintext"
    }
   },
   "outputs": [],
   "source": [
    "Varianta 2020/ Testul 4"
   ]
  },
  {
   "cell_type": "code",
   "execution_count": null,
   "metadata": {
    "vscode": {
     "languageId": "plaintext"
    }
   },
   "outputs": [],
   "source": [
    "Subiectul 1"
   ]
  },
  {
   "cell_type": "code",
   "execution_count": null,
   "metadata": {
    "vscode": {
     "languageId": "plaintext"
    }
   },
   "outputs": [],
   "source": [
    "1. a) {x/10 == 0}\n",
    "2. b) {Void recursiv cu for, desen cu arbore de apeluri}\n",
    "3. c) {Bkt}\n",
    "4. b) {Radacina arborelui este primul nivel}\n",
    "5. a) {Componenta conexa este si nodul izolat, pt nr maxim de componente conexe facem un graf complet. Matricea de adiacenta are 0 pe diag principala si 1 unde exista drum.}"
   ]
  },
  {
   "cell_type": "code",
   "execution_count": null,
   "metadata": {
    "vscode": {
     "languageId": "plaintext"
    }
   },
   "outputs": [],
   "source": [
    "Subiectul 2"
   ]
  },
  {
   "cell_type": "code",
   "execution_count": null,
   "metadata": {
    "vscode": {
     "languageId": "plaintext"
    }
   },
   "outputs": [],
   "source": [
    "1. \n",
    "    a) D10\n",
    "    b) 2,3,5,6,7,8"
   ]
  },
  {
   "cell_type": "code",
   "execution_count": null,
   "metadata": {
    "vscode": {
     "languageId": "cpp"
    }
   },
   "outputs": [],
   "source": [
    "//c)\n",
    "#include <iostream>\n",
    "using namespace std;\n",
    "int main()\n",
    "{\tint n,x=1,y,d=2;\n",
    "\tcin>>n;\n",
    "\ty=n;\n",
    "\twhile(x<y) {\n",
    "\t\tif(n%d==0) {\n",
    "\t\t\tx=d;\n",
    "\t\t\ty=n/d;\n",
    "\t\t}\n",
    "\t\td=d+1;\n",
    "\t}\n",
    "\tif(x==y) \n",
    "\t\tcout<<\"D\"<<\",\"<<x;\n",
    "\t\telse\n",
    "\t\t\tcout<<\"N\";\n",
    "\t\t\t\n",
    "\treturn 0;\n",
    "}"
   ]
  },
  {
   "cell_type": "code",
   "execution_count": null,
   "metadata": {
    "vscode": {
     "languageId": "plaintext"
    }
   },
   "outputs": [],
   "source": [
    "d) \n",
    "    citeste n \n",
    "    x <- √n \n",
    "    y <- [√n] \n",
    "    daca x = y atunci\n",
    "        scrie 'D', x\n",
    "    altfel scrie 'N'"
   ]
  },
  {
   "cell_type": "code",
   "execution_count": null,
   "metadata": {
    "vscode": {
     "languageId": "cpp"
    }
   },
   "outputs": [],
   "source": [
    "2) \n",
    "    struct ecuatie{\n",
    "        int numar;\n",
    "        struct{\n",
    "            int pre, pim;\n",
    "        }solutie[100];\n",
    "    }s;"
   ]
  },
  {
   "cell_type": "code",
   "execution_count": null,
   "metadata": {
    "vscode": {
     "languageId": "cpp"
    }
   },
   "outputs": [],
   "source": [
    "3)\n",
    "for(int i = 0; i < 6; i++)\n",
    "    for(int j = 0; j < 6; j++)\n",
    "        if(i > j && i + j < 5 || i < j && i+j > 5) a[i][j] = '*';\n",
    "        else if((i == j || i+j == 5) && j < 3) a[i][j] ='(';\n",
    "        else if((i < j || i > j) && j < 3) a[i][j] ='(';\n",
    "        else if((i==j || i+j == 5) && j >= 3) a[i][j] = ')';\n",
    "        else if((i < j || i > j) && j >= 3) a[i][j] = ')';"
   ]
  },
  {
   "cell_type": "code",
   "execution_count": null,
   "metadata": {
    "vscode": {
     "languageId": "cpp"
    }
   },
   "outputs": [],
   "source": [
    "Subiectul 3"
   ]
  },
  {
   "cell_type": "code",
   "execution_count": null,
   "metadata": {
    "vscode": {
     "languageId": "cpp"
    }
   },
   "outputs": [],
   "source": [
    "//ex1\n",
    "int baza(int n) {\n",
    "    int maxi=0;\n",
    "    while (n > 0) {\n",
    "        int cif= n%10;\n",
    "        if (cif> maxi) {\n",
    "            maxi=cif;\n",
    "        }\n",
    "        n = n/10;\n",
    "    }\n",
    "    maxi=maxi+1;\n",
    "    return maxi;\n",
    "}"
   ]
  },
  {
   "cell_type": "code",
   "execution_count": null,
   "metadata": {
    "vscode": {
     "languageId": "cpp"
    }
   },
   "outputs": [],
   "source": [
    "//ex2\n",
    "#include <iostream>\n",
    "#include <cstring>\n",
    "using namespace std;\n",
    "char s[101];\n",
    "int main(){\n",
    "    int cnt = 0;\n",
    "    cin.getline(s,101);\n",
    "    char *p = strtok(s,\" \");\n",
    "    \n",
    "    while(p != NULL){\n",
    "        if(p[0] >= '0' && p[0] <= '9') // cuvantul p este cifra \n",
    "        {\n",
    "            int ok = 1;\n",
    "            for(int i = 0; i < strlen(p); i++)\n",
    "                if(p[i] == ',')\n",
    "                    ok = 0;\n",
    "            if(ok == 1) cnt++;\n",
    "        }\n",
    "            \n",
    "        p = strtok(NULL, \" \");\n",
    "    }\n",
    "    cout << cnt;\n",
    "    \n",
    "    return 0;\n",
    "}"
   ]
  },
  {
   "cell_type": "code",
   "execution_count": null,
   "metadata": {
    "vscode": {
     "languageId": "cpp"
    }
   },
   "outputs": [],
   "source": [
    "//ex3 a\n",
    "#include <fstream>\n",
    "#include <iostream>\n",
    "using namespace std;\n",
    "ifstream fin(\"bac.txt\");\n",
    "int main() {\n",
    "    int n;\n",
    "    int smaxi=-1, s1=0;\n",
    "\n",
    "    while (fin >> n) {\n",
    "        s1=s1+n;\n",
    "        if (s1>smaxi) {\n",
    "            smaxi=s1;\n",
    "        }\n",
    "        if (s1<0) {\n",
    "            s1=0;\n",
    "        }\n",
    "    }\n",
    "\n",
    "    cout<<smaxi<<endl;\n",
    "    fin.close();\n",
    "    return 0;\n",
    "}"
   ]
  },
  {
   "cell_type": "code",
   "execution_count": null,
   "metadata": {
    "vscode": {
     "languageId": "cpp"
    }
   },
   "outputs": [],
   "source": [
    "//ex 3b\n",
    "Am proiectat un algoritm eficient din punct de vedere al memoriei, folosind 3 variabile de tip intreg, nefolosindu-ne de vectori.\n",
    "Am proiectul un algoritm eficient din punct de vedere al timpului, folosind o abordare liniara. Complexitatea problemei fiind O(n).\n",
    "Citesc pe rand numerele din sir, si prin variabila s1 se calculeaza suma initiala a elementelor de pe pozitii consecutive. In cazul \n",
    " in care se gaseste o suma mai mare decat cea initiala, va interveni variabila smaxi care va retine si va afisa dupa parcurgere rezultatul 12. Daca s1 ajunge negativ, resetez suma la 0.\n",
    "Se respecta conditia ca s1>smaxi, ulterior smaxi=s1 in cazul in care nu se gaseste cea mai mare suma."
   ]
  }
 ],
 "metadata": {
  "language_info": {
   "name": "python"
  }
 },
 "nbformat": 4,
 "nbformat_minor": 2
}
