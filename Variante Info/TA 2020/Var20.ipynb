{
 "cells": [
  {
   "cell_type": "markdown",
   "id": "6ef013de",
   "metadata": {
    "vscode": {
     "languageId": "plaintext"
    }
   },
   "source": [
    "Variante 2020 / Testul 20"
   ]
  },
  {
   "cell_type": "markdown",
   "id": "f424ecd7",
   "metadata": {
    "vscode": {
     "languageId": "plaintext"
    }
   },
   "source": [
    "Subiectul 1"
   ]
  },
  {
   "cell_type": "code",
   "execution_count": null,
   "id": "59a51a1b",
   "metadata": {
    "vscode": {
     "languageId": "plaintext"
    }
   },
   "outputs": [],
   "source": [
    "1. b { && = si, || = sau}\n",
    "2. d {int recursiv}\n",
    "3. c {bkt pe multime de cuvinte}\n",
    "4. b {radacina arborelui este nivelul 0}\n",
    "5. b {9900 elem nule si 100 noduri  -> In total sunt 10000 elemente, deci 100 de elemente de 1, adica 50 de muchii.\n",
    "        Pentru a determina nr maxim de componente conexe, voi incerca sa fac un graf complet cu toate muchiile, restul de noduri izolate fiind comp conexe.\n",
    "        Numarul de noduri folosite il scoatem din n(n-1)/2 ~ 50.}"
   ]
  },
  {
   "cell_type": "markdown",
   "id": "26d88a85",
   "metadata": {
    "vscode": {
     "languageId": "plaintext"
    }
   },
   "source": [
    "Subiectul 2"
   ]
  },
  {
   "cell_type": "code",
   "execution_count": null,
   "id": "81955780",
   "metadata": {
    "vscode": {
     "languageId": "plaintext"
    }
   },
   "outputs": [],
   "source": [
    "1.  a) scrie 20\n",
    "    b) Numerele care pot fi citite pentru a se afisa 9, sunt 8 si 81"
   ]
  },
  {
   "cell_type": "code",
   "execution_count": null,
   "id": "1d135dbc",
   "metadata": {
    "vscode": {
     "languageId": "cpp"
    }
   },
   "outputs": [],
   "source": [
    "// c)\n",
    "#include <iostream>\n",
    "using namespace std;\n",
    "int main()\n",
    "{int d, s, n;\n",
    "    cin >> n;\n",
    "    d = 1; s = 0;\n",
    "    while(d * d < n){\n",
    "        if(n % d == 0 && d % 2 != (n / d) % 2){\n",
    "            s = s + d + (n / d);\n",
    "        }\n",
    "        d = d + 1;\n",
    "    }\n",
    "    if(d * d == n){\n",
    "        s = s + d;\n",
    "    }\n",
    "    cout << s;\n",
    "    return 0;\n",
    "}"
   ]
  },
  {
   "cell_type": "code",
   "execution_count": null,
   "id": "0e89b09b",
   "metadata": {
    "vscode": {
     "languageId": "plaintext"
    }
   },
   "outputs": [],
   "source": [
    "d)\n",
    "citește n  (număr natural nenul) \n",
    "d <- 1; s <- 0\n",
    "daca d * d < n atunci \n",
    "┌repeta \n",
    "│┌dacă n % d = 0 și d % 2 ≠ [n/d] % 2 atunci \n",
    "││ s <- s + d + [n/d] \n",
    "│└■ \n",
    "│ d <- d + 1 \n",
    "└pana cand d * d >= n \n",
    "┌dacă d * d = n atunci s <- s + d \n",
    "└■ \n",
    "scrie s"
   ]
  },
  {
   "cell_type": "code",
   "execution_count": null,
   "id": "e21ce019",
   "metadata": {
    "vscode": {
     "languageId": "cpp"
    }
   },
   "outputs": [],
   "source": [
    "2.\n",
    "struct prajitura{\n",
    "   int numar;\n",
    "   struct {\n",
    "       int cod;\n",
    "       int cantitate;\n",
    "   }ingredient[20];\n",
    "}p;"
   ]
  },
  {
   "cell_type": "code",
   "execution_count": null,
   "id": "6d84a29f",
   "metadata": {
    "vscode": {
     "languageId": "cpp"
    }
   },
   "outputs": [],
   "source": [
    "3.\n",
    "for(int i=0; i<7; i++)\n",
    "\tfor(int j=0; j<7; j++)\n",
    "\t\tif(i<j && i+j<6 || i>j && i+j>6)\n",
    "\t\t\ta[i][j]='a';\n",
    "\t\telse\n",
    "\t\t\ta[i][j]='b';"
   ]
  },
  {
   "cell_type": "code",
   "execution_count": null,
   "id": "4b0429c8",
   "metadata": {
    "vscode": {
     "languageId": "plaintext"
    }
   },
   "outputs": [],
   "source": [
    "Subiectul 3"
   ]
  },
  {
   "cell_type": "code",
   "execution_count": null,
   "id": "41bdbcfc",
   "metadata": {
    "vscode": {
     "languageId": "cpp"
    }
   },
   "outputs": [],
   "source": [
    "//ex - 1\n",
    "int transformareBaza10(int b, int n) \n",
    "{   int s = 0,k = 0,c;\n",
    "    while (n != 0) {\n",
    "        c = n % 10;\n",
    "        s = s + c * pow(b, k);\n",
    "        n = n / 10;\n",
    "        k++;\n",
    "    }\n",
    "    \n",
    "    return s;\n",
    "}\n",
    "// fara pow\n",
    "int transformareBaza10(int b, int n) \n",
    "{   int s = 0,k = 0,c ,m;\n",
    "    while (n != 0) {\n",
    "        c = n % 10;\n",
    "        m=1;\n",
    "        for(int i = 1; i <= k; i++)\n",
    "            m= m * b;\n",
    "        s = s + c * m;\n",
    "        n = n / 10;\n",
    "        k++;\n",
    "    }\n",
    "    \n",
    "    return s;\n",
    "}"
   ]
  },
  {
   "cell_type": "code",
   "execution_count": null,
   "id": "a202692a",
   "metadata": {
    "vscode": {
     "languageId": "cpp"
    }
   },
   "outputs": [],
   "source": [
    "//ex - 2\n",
    "#include <iostream>\n",
    "#include <cstring>\n",
    "using namespace std;\n",
    "char s[101],t[101];\n",
    "int main()\n",
    "{\n",
    "\tcin.getline(s,101);\n",
    "\tchar *p=strtok(s,\" \");\n",
    "\twhile(p != NULL) {\n",
    "\t\tfor(int i = 0; i < strlen(p); i++)\n",
    "\t\t\tif(p[i] == ',')\n",
    "\t\t\t\tp[i] = NULL;\n",
    "\t\tstrcat(t, p);\n",
    " \t\tstrcat(t, \" \");\n",
    "\t\tp = strtok(NULL,\" \");\n",
    "\t}\n",
    "\tcout << t;\n",
    "\treturn 0;\n",
    "}"
   ]
  },
  {
   "cell_type": "code",
   "execution_count": null,
   "id": "0534ce0e",
   "metadata": {
    "vscode": {
     "languageId": "plaintext"
    }
   },
   "outputs": [],
   "source": [
    "//ex 3 - a\n",
    "Am proiectat un algoritm eficient din punct de vedere a memoriei, folosind doar variabile de tip intreg, fara vectori.\n",
    "Am proiectat un algoritm eficient din punct de vedere al timpului, rezolvand problema din citire cu o complexitatea liniara.\n",
    "Citim primul numar din fisier si initializam suma cu primul nr citit. Citim numerele din fisier,in cazul in care gasim 2 nr consecutive de aceeasi paritate, crestem suma, \n",
    "in caz contrar, actualizam suma maxima daca e cazul si resetam suma la ultima valoare citita. Tratam si cazul in care secventa de aceeasi paritate nu se termina."
   ]
  },
  {
   "cell_type": "code",
   "execution_count": null,
   "id": "5b3e2d17",
   "metadata": {
    "vscode": {
     "languageId": "cpp"
    }
   },
   "outputs": [],
   "source": [
    "//ex 3 - b\n",
    "#include <iostream>\n",
    "#include <fstream>\n",
    "using namespace std;\n",
    "ifstream fin(\"bac.txt\");\n",
    "int main()\n",
    "{\tint x, y, s = 0, smax = -1;\n",
    "\tfin >> x;\n",
    "\ts = x;\n",
    "\twhile(fin >> y) {\n",
    "\t\tif(y % 2 == x % 2)\n",
    "\t\t\ts = s + y;\n",
    "\t\telse {\n",
    "\t\t\tif(s > smax)\n",
    "\t\t\t\tsmax = s;\n",
    "\t\t\ts = y;\n",
    "\t\t}\n",
    "\t\tx = y;\n",
    "\t}\n",
    "\tif(s > smax)\n",
    "\t\tsmax = s;\n",
    "\tcout << smax;\t\n",
    "\n",
    "    fin.close();\n",
    "    return 0;\n",
    "}"
   ]
  }
 ],
 "metadata": {
  "language_info": {
   "name": "python"
  }
 },
 "nbformat": 4,
 "nbformat_minor": 5
}
