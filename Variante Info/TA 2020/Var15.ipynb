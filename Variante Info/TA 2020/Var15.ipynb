{
 "cells": [
  {
   "cell_type": "markdown",
   "id": "ebdb26c1",
   "metadata": {
    "vscode": {
     "languageId": "plaintext"
    }
   },
   "source": [
    "Variante 2020/Testul 15"
   ]
  },
  {
   "cell_type": "markdown",
   "id": "2f610a90",
   "metadata": {
    "vscode": {
     "languageId": "plaintext"
    }
   },
   "source": [
    "Subiectul 1"
   ]
  },
  {
   "cell_type": "code",
   "execution_count": null,
   "id": "ef7b9fb0",
   "metadata": {
    "vscode": {
     "languageId": "plaintext"
    }
   },
   "outputs": [],
   "source": [
    "1. b {! - neaga}\n",
    "2. c {Bkt - multime de cuvinte}\n",
    "3. a {Struct pe punct}\n",
    "4. c {arbore cu radacina}\n",
    "5. b {Graf - tare conex - exista un drum intre oricare x, y noduri}"
   ]
  },
  {
   "cell_type": "markdown",
   "id": "e133f912",
   "metadata": {
    "vscode": {
     "languageId": "plaintext"
    }
   },
   "source": [
    "Subiectul 2"
   ]
  },
  {
   "cell_type": "code",
   "execution_count": null,
   "id": "66d6db51",
   "metadata": {
    "vscode": {
     "languageId": "plaintext"
    }
   },
   "outputs": [],
   "source": [
    "1.  a) 2\n",
    "    b) Doua numere care pot fi citite, care in cele din urma vor afisa 14 sunt 28 si 29"
   ]
  },
  {
   "cell_type": "code",
   "execution_count": null,
   "id": "1be2c95a",
   "metadata": {
    "vscode": {
     "languageId": "cpp"
    }
   },
   "outputs": [],
   "source": [
    "//c)\n",
    "#include <iostream>\n",
    "using namespace std;\n",
    "int main()\n",
    "{\tint n,nr,x,y,i,j,r;\n",
    "\tcin>>n;\n",
    "\tnr=0;\n",
    "\tfor(i=n; i>=1; i--) {\n",
    "\t\tx=0; y=1;\n",
    "\t\tfor(j=1; j<=i; j++) {\n",
    "\t\t\tr=2*x-y; x=y; y=r;\n",
    "\t\t}\n",
    "\t\tif(y>0) {\n",
    "\t\t\tnr=nr+1;\n",
    "\t\t}\n",
    "\t}\n",
    "\n",
    "\tcout<<nr;\n",
    "\treturn 0;\n",
    "}"
   ]
  },
  {
   "cell_type": "code",
   "execution_count": null,
   "id": "73502986",
   "metadata": {
    "vscode": {
     "languageId": "plaintext"
    }
   },
   "outputs": [],
   "source": [
    "d)\n",
    "citește n (număr natural) \n",
    " nr <- 0; i <- n; \n",
    "┌cat timp i >= 1 executa\n",
    "│  i=i-1; x <- 0; y <- 1 \n",
    "│ ┌pentru j<- 1,i execută \n",
    "│ │ r<-2*x-y; x<-y; y<-r  \n",
    "│ └■ \n",
    "│ ┌dacă y>0 atunci \n",
    "│ │ nr<-nr+1      \n",
    "│ └■ \n",
    "└■ \n",
    " scrie nr"
   ]
  },
  {
   "cell_type": "code",
   "execution_count": null,
   "id": "85ca2d01",
   "metadata": {
    "vscode": {
     "languageId": "plaintext"
    }
   },
   "outputs": [],
   "source": [
    "2.  x1 poate lua valoarea 4, iar x2 poate lua valoarea 10"
   ]
  },
  {
   "cell_type": "code",
   "execution_count": null,
   "id": "8f350084",
   "metadata": {
    "vscode": {
     "languageId": "cpp"
    }
   },
   "outputs": [],
   "source": [
    "3.\n",
    "//prima coloana \n",
    "    for(int i = 0; i < 4; i++)\n",
    "        a[i][0] = i + 1;\n",
    "    \n",
    "    for(int j = 1; j < 5; j++)\n",
    "        for(int i = 0; i < 4; i++)\n",
    "            a[i][j] = a[i][j-1] + 4;"
   ]
  },
  {
   "cell_type": "markdown",
   "id": "1efec787",
   "metadata": {
    "vscode": {
     "languageId": "plaintext"
    }
   },
   "source": [
    "Subiectul 3"
   ]
  },
  {
   "cell_type": "code",
   "execution_count": null,
   "id": "49495494",
   "metadata": {
    "vscode": {
     "languageId": "cpp"
    }
   },
   "outputs": [],
   "source": [
    "//ex 1\n",
    "void divPrimMax(int n, int &p) {\n",
    "    p = 1;\n",
    "    int d = 2;\n",
    "    while(n > 1){\n",
    "        if(n % d == 0){\n",
    "            while(n % d == 0)\n",
    "                n = n / d;\n",
    "            p = d;\n",
    "        }\n",
    "        d++;\n",
    "    }\n",
    "}"
   ]
  },
  {
   "cell_type": "code",
   "execution_count": null,
   "id": "a9497dcd",
   "metadata": {
    "vscode": {
     "languageId": "cpp"
    }
   },
   "outputs": [],
   "source": [
    "//ex 2\n",
    "#include <iostream>\n",
    "#include <cstring>\n",
    "using namespace std;\n",
    "char s[101];\n",
    "int main()\n",
    "{\tint cnt = 0;\n",
    "\tcin.getline(s,101);\n",
    "\tchar *p=strtok(s,\" \");\n",
    "\twhile(p != NULL) {\n",
    "\t\tint cons = 0,voc = 0;\n",
    "\t\tfor(int i = 0; i < strlen(p); i++)\n",
    "\t\t\tif(strchr(\"aeiou\", p[i]) != 0)\n",
    "\t\t\t\tvoc++;\n",
    "\t\t\telse\n",
    "\t\t\t\tcons++;\n",
    "\t\tif(voc == cons)\n",
    "\t\t\tcnt++;\n",
    "\t\tp = strtok(NULL,\" \"); //instructiunea ne ajuta sa trecem la urmatorul cuvant\n",
    "\t}\n",
    "\tcout << cnt;\n",
    "}"
   ]
  },
  {
   "cell_type": "code",
   "execution_count": null,
   "id": "b7a41d07",
   "metadata": {
    "vscode": {
     "languageId": "plaintext"
    }
   },
   "outputs": [],
   "source": [
    "//ex 3 - a\n",
    "Am proiectat un algoritm eficient din punct de vedere al memoriei, folosind variabile de tip intreg, nefolosindu-ne de vectori.\n",
    "Am proiectat un algoritm eficient din punct de vedere al timpului, evitand folosirea metodei backtracking, generam intai primele 2 cifre  care sa respecte conditia,\n",
    "eliminand multe solutii nevalide.\n",
    "Cautam primele 2 cifre care au ca rezultat p1, apoi generam toate cifrele din mijloc, ulterior cautand cifrele care au ca rezultat p2. Folosind descompunerea in baze formam numarul\n",
    "final si il afisam."
   ]
  },
  {
   "cell_type": "code",
   "execution_count": null,
   "id": "65eba74d",
   "metadata": {
    "vscode": {
     "languageId": "cpp"
    }
   },
   "outputs": [],
   "source": [
    "//ex 3 - b\n",
    "#include <iostream>\n",
    "#include <fstream>\n",
    "using namespace std;\n",
    "ofstream fout(\"bac.out\");\n",
    "\n",
    "int main(){\n",
    "    int p1, p2;\n",
    "    cin >> p1 >> p2;\n",
    "    for(int c1 = 1; c1 <= 9; c1++)\n",
    "        for(int c2 = 1; c2 <= 9; c2++)\n",
    "            if(c1*c2 == p1){\n",
    "                int x = c1 * 10 + c2;\n",
    "                for(int c3 = 0; c3 <= 9; c3++){\n",
    "                    int y = c3 *100 + c3 * 10 + c3;\n",
    "                    for(int c4 = 1; c4 <= 9; c4++)\n",
    "                        for(int c5 = 1; c5 <= 9; c5++)\n",
    "                            if(c4*c5 == p2){\n",
    "                                int z = c4*10 + c5;\n",
    "                                int nr = x*100000+y*100+z;\n",
    "                                fout << nr << endl;\n",
    "                            }\n",
    "                }\n",
    "            }\n",
    "    fout.close();\n",
    "    return 0;\n",
    "}"
   ]
  }
 ],
 "metadata": {
  "language_info": {
   "name": "python"
  }
 },
 "nbformat": 4,
 "nbformat_minor": 5
}
