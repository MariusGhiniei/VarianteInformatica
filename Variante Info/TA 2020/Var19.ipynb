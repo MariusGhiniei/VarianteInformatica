{
 "cells": [
  {
   "cell_type": "markdown",
   "id": "1e6d7b03",
   "metadata": {
    "vscode": {
     "languageId": "plaintext"
    }
   },
   "source": [
    "Variante 2020 / Testul 19"
   ]
  },
  {
   "cell_type": "markdown",
   "id": "4650cbf3",
   "metadata": {
    "vscode": {
     "languageId": "plaintext"
    }
   },
   "source": [
    "Subiectul 1"
   ]
  },
  {
   "cell_type": "code",
   "execution_count": null,
   "id": "a365c931",
   "metadata": {
    "vscode": {
     "languageId": "plaintext"
    }
   },
   "outputs": [],
   "source": [
    "1. d {! - neaga toate conditiile}\n",
    "2. b {Subprogram recursiv in recursiv, mare atentie la numararea de apeluri}\n",
    "3. a {Bkt pe multime de cuvinte}\n",
    "4. c {Lant -> drum}\n",
    "5. c {Hamiltonian -> Un ciclu ce contine toate varfurile grafului}"
   ]
  },
  {
   "cell_type": "markdown",
   "id": "8e767b65",
   "metadata": {
    "vscode": {
     "languageId": "plaintext"
    }
   },
   "source": [
    "Subiectul 2"
   ]
  },
  {
   "cell_type": "code",
   "execution_count": null,
   "id": "e0d7ad82",
   "metadata": {
    "vscode": {
     "languageId": "plaintext"
    }
   },
   "outputs": [],
   "source": [
    "1.  a) 484866\n",
    "    b) 78, 87, 88"
   ]
  },
  {
   "cell_type": "code",
   "execution_count": null,
   "id": "04ee2241",
   "metadata": {
    "vscode": {
     "languageId": "cpp"
    }
   },
   "outputs": [],
   "source": [
    "//c)\n",
    "#include <iostream>\n",
    "using namespace std;\n",
    "int main()\n",
    "{\tint n, c;\n",
    "\tcin >> n;\n",
    "\twhile(n != 0) {\n",
    "\t\tc = n % 10; n = n / 10;\n",
    "\t\tif(c % 2 != 0) {\n",
    "\t\t\tc = c + 1;\n",
    "\t\t}\n",
    "\t\twhile(c > 0 && c < 10) {\n",
    "\t\t\tcout << c;\n",
    "\t\t\tc = c * 2;\n",
    "\t\t}\n",
    "\t}\n",
    "\treturn 0;\n",
    "}\n"
   ]
  },
  {
   "cell_type": "code",
   "execution_count": null,
   "id": "775ba5f1",
   "metadata": {
    "vscode": {
     "languageId": "plaintext"
    }
   },
   "outputs": [],
   "source": [
    "d)\n",
    "citește n (număr natural nenul) \n",
    "┌cât timp n≠0 execută  \n",
    "│ c <- n%10; n <- [n/10] \n",
    "│┌dacă c%2≠0 atunci \n",
    "││ c <- c+1 \n",
    "│└■ \n",
    "| daca c>0 si c<10 atunci\n",
    "│ |┌repeta \n",
    "│ |│ scrie c \n",
    "│ |│ c <- c*2 \n",
    "│ |└pana cand c<=0 sau c>=10 \n",
    "| └■\n",
    "└■"
   ]
  },
  {
   "cell_type": "code",
   "execution_count": null,
   "id": "46a8643b",
   "metadata": {
    "vscode": {
     "languageId": "cpp"
    }
   },
   "outputs": [],
   "source": [
    "2.\n",
    "struct proiect{\n",
    "\tchar tema[21]; \n",
    "\tint nrSurse;\n",
    "\tchar denAdrSursa[10][101];\n",
    "}p;"
   ]
  },
  {
   "cell_type": "code",
   "execution_count": null,
   "id": "a57349f3",
   "metadata": {
    "vscode": {
     "languageId": "plaintext"
    }
   },
   "outputs": [],
   "source": [
    "3.\n",
    "nnfrrmmtii"
   ]
  },
  {
   "cell_type": "markdown",
   "id": "23c629ca",
   "metadata": {
    "vscode": {
     "languageId": "plaintext"
    }
   },
   "source": [
    "Subiectul 3"
   ]
  },
  {
   "cell_type": "code",
   "execution_count": null,
   "id": "498e89aa",
   "metadata": {
    "vscode": {
     "languageId": "cpp"
    }
   },
   "outputs": [],
   "source": [
    "//ex - 1\n",
    " void paritate(int n, int &nr) {\n",
    "    nr = 0;\n",
    "    for (int d = 1; d <= n; d++) \n",
    "        if (n % d== 0 && n % 2 == d % 2)\n",
    "            nr++;\n",
    "}"
   ]
  },
  {
   "cell_type": "code",
   "execution_count": null,
   "id": "2b794be8",
   "metadata": {
    "vscode": {
     "languageId": "cpp"
    }
   },
   "outputs": [],
   "source": [
    "//ex - 2\n",
    "#include <iostream>\n",
    "using namespace std;\n",
    "int a[20][20];\n",
    "\n",
    "int main(){\n",
    "    int m, n, k, ok = 0;\n",
    "    cin >> m >> n >> k;\n",
    "    \n",
    "    for(int i = 1; i <= m; i++)\n",
    "        for(int j = 1; j <= n; j++)\n",
    "            cin >> a[i][j];\n",
    "    \n",
    "    for(int i = 1; i <= m; i++){\n",
    "        int cnt = 0;\n",
    "        for(int j = 1; j <= n; j++)\n",
    "            if(a[k][j] == 1 && a[i][j] == 0 || a[k][j] == 0 && a[i][j] == 1)\n",
    "                cnt++;\n",
    "        if(cnt == n)\n",
    "            ok = 1;\n",
    "    }\n",
    "    if(ok == 1)\n",
    "        cout << \"DA\";\n",
    "    else cout << \"NU\";\n",
    "\n",
    "    return 0;\n",
    "}"
   ]
  },
  {
   "cell_type": "code",
   "execution_count": null,
   "id": "2b462455",
   "metadata": {
    "vscode": {
     "languageId": "plaintext"
    }
   },
   "outputs": [],
   "source": [
    "//ex - 3 - a\n",
    "Am proiectat un algoritm eficient din punct de vedere al memoriei,utilizand 3 variabile, fara a folosi vectori.\n",
    "Am proiectat un algoritm eficient din punct de vedere al timpului, folosind o abordare liniara, rezolvand problema din citire.\n",
    "Dupa declararea variabilelor, vom citi sirul si vom pune conditia ca x sa fie numar par si sa fie diferit de cel anterior afisat.\n",
    "In cazul in care conditia se respecta afisam numarul si salvam numarul afisat. Tratam si cazul de \"nu exista\".\n"
   ]
  },
  {
   "cell_type": "code",
   "execution_count": null,
   "id": "3c6e9a82",
   "metadata": {
    "vscode": {
     "languageId": "cpp"
    }
   },
   "outputs": [],
   "source": [
    "//ex - 3 - b\n",
    "#include <iostream>\n",
    "#include <fstream>\n",
    "using namespace std;\n",
    "ifstream fin(\"bac.txt\");\n",
    "int main() {\n",
    "    int x, maxi = -1, ok = 0;\n",
    "    while (fin >> x) {\n",
    "        if (x % 2 == 0 && x != maxi) {\n",
    "            cout << x << \" \";\n",
    "            maxi = x;\n",
    "            ok = 1;\n",
    "        }\n",
    "    }\n",
    "\n",
    "    if (ok == 0) {\n",
    "        cout << \"nu exista\";\n",
    "    }\n",
    "\n",
    "    fin.close();\n",
    "    return 0;\n",
    "}"
   ]
  }
 ],
 "metadata": {
  "language_info": {
   "name": "python"
  }
 },
 "nbformat": 4,
 "nbformat_minor": 5
}
