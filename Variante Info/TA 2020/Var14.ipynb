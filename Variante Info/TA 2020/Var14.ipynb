{
 "cells": [
  {
   "cell_type": "markdown",
   "id": "98fe1161",
   "metadata": {
    "vscode": {
     "languageId": "plaintext"
    }
   },
   "source": [
    "Variante 2020/Testul 14"
   ]
  },
  {
   "cell_type": "markdown",
   "id": "13089138",
   "metadata": {
    "vscode": {
     "languageId": "plaintext"
    }
   },
   "source": [
    "Subiectul 1"
   ]
  },
  {
   "cell_type": "code",
   "execution_count": null,
   "id": "2830dbd2",
   "metadata": {
    "vscode": {
     "languageId": "plaintext"
    }
   },
   "outputs": [],
   "source": [
    "1. a { ! neaga}\n",
    "2. c {int - recursiv}\n",
    "3. b {bkt - pe multime cu bani}\n",
    "4. c {arbore - nr de frunze}\n",
    "5. a {Circuit - se poate forma si circuit de forma (2,5,2)}"
   ]
  },
  {
   "cell_type": "markdown",
   "id": "57825860",
   "metadata": {
    "vscode": {
     "languageId": "plaintext"
    }
   },
   "source": [
    "Subiectul 2"
   ]
  },
  {
   "cell_type": "code",
   "execution_count": null,
   "id": "1db1f135",
   "metadata": {
    "vscode": {
     "languageId": "plaintext"
    }
   },
   "outputs": [],
   "source": [
    "1.  a) 4188262\n",
    "    b) Trei numere care pot fi citite altfel incat valoarea finala afisata sa fie 1 sunt 90, 900 si 9000"
   ]
  },
  {
   "cell_type": "code",
   "execution_count": null,
   "id": "a7d5f5e4",
   "metadata": {
    "vscode": {
     "languageId": "cpp"
    }
   },
   "outputs": [],
   "source": [
    "//c)\n",
    "#include <iostream>\n",
    "using namespace std;\n",
    "int main()\n",
    "{\tint n, c, m;\n",
    "\tcin >> n;\n",
    "\tm = 0;\n",
    "\tdo {\n",
    "\t\tc = n % 10;\n",
    "\t\tn = n / 10;\n",
    "\t\tif(c == 9)\n",
    "\t\t\tc = 1;\n",
    "\t\telse {\n",
    "\t\t\tif(c % 2 == 1) {\n",
    "\t\t\t\tc = c + 1;\n",
    "\t\t\t}\n",
    "\t\t}\n",
    "\t\tm = m * 10 + c;\n",
    "\t} while(n != 0);\n",
    "\tcout << m;\n",
    "\treturn 0;\n",
    "}\n"
   ]
  },
  {
   "cell_type": "code",
   "execution_count": null,
   "id": "93ebd2a5",
   "metadata": {
    "vscode": {
     "languageId": "plaintext"
    }
   },
   "outputs": [],
   "source": [
    "d)\n",
    "citește n  (număr natural) \n",
    "m <- 0\n",
    "c <- n%10; n<-[n/10] \n",
    "┌dacă c=9 atunci c<-1 \n",
    "│altfel \n",
    "│┌dacă c%2=1 atunci \n",
    "││c<-c+1 \n",
    "│└■ \n",
    "└■ \n",
    "  m<-m*10+c \n",
    "┌cat timp(n!=0) \n",
    "│ c<-n%10; n<-[n/10] \n",
    "│┌dacă c=9 atunci c<-1 \n",
    "││altfel \n",
    "││┌dacă c%2=1 atunci \n",
    "│││c<-c+1 \n",
    "││└■ \n",
    "│└■ \n",
    "│ m<-m*10+c \n",
    "└■ \n",
    " scrie m "
   ]
  },
  {
   "cell_type": "code",
   "execution_count": null,
   "id": "e77c168c",
   "metadata": {
    "vscode": {
     "languageId": "cpp"
    }
   },
   "outputs": [],
   "source": [
    "2.\n",
    "    struct rasa{\n",
    "        int cod; \n",
    "        int nrExemplare;\n",
    "        int varsta[10];\n",
    "    }r[20];"
   ]
  },
  {
   "cell_type": "code",
   "execution_count": null,
   "id": "5d6b4635",
   "metadata": {
    "vscode": {
     "languageId": "cpp"
    }
   },
   "outputs": [],
   "source": [
    "3.\n",
    "#include <iostream>\n",
    "using namespace std;\n",
    "int a[5][7];\n",
    "\n",
    "int main(){\n",
    "    int n = 5, m = 7;\n",
    "    for(int j = 0; j < m; j++)\n",
    "        a[0][j] = 1;\n",
    "    for(int i = 0; i < n; i++)\n",
    "        a[i][m - 1] = 1;\n",
    "    for(int i = 1; i < n ; i++)\n",
    "        for(int j = m - 2; j >= 0; j--)\n",
    "            a[i][j] = (a[i][j+1] + a[i-1][j]) % 10;\n",
    "            \n",
    "    for(int i = 0; i < n; i++){\n",
    "        for(int j = 0; j < m; j++)\n",
    "            cout << a[i][j] << \" \";\n",
    "        cout << endl;\n",
    "    }\n",
    "}"
   ]
  },
  {
   "cell_type": "markdown",
   "id": "14ff8156",
   "metadata": {
    "vscode": {
     "languageId": "plaintext"
    }
   },
   "source": [
    "Subiectul 3"
   ]
  },
  {
   "cell_type": "code",
   "execution_count": null,
   "id": "5f9502b8",
   "metadata": {
    "vscode": {
     "languageId": "cpp"
    }
   },
   "outputs": [],
   "source": [
    "//ex 1\n",
    "//metoda 1\n",
    "void perechi(int n) {\n",
    "\tint ok=0,a,b;\n",
    "\tfor(int d=1; d*d<=n; d++)\n",
    "\t\tif(n%d==0) {\n",
    "\t\t\ta=d;\n",
    "\t\t\tb=n/d;\n",
    "\t\t\tif(a%2==0 && b%2==1 || a%2==1 && b%2==0) {\n",
    "\t\t\t\tcout<<\"[\"<<a<<\" \"<<b<<\"]\"<<\" \";\n",
    "\t\t\t\tok=1;\n",
    "\t\t\t}\n",
    "\t\t}\n",
    "\tif(ok==0) {\n",
    "\t\tcout<<\"nu exista\";\n",
    "\t}\n",
    "\n",
    "}\n",
    "//metoda 2 - if comprimat\n",
    "void perechi(int n) {\n",
    "\tint ok=0,a,b;\n",
    "\tfor(int d=1; d*d<=n; d++)\n",
    "\t\tif(n%d==0) {\n",
    "\t\t\ta=d;\n",
    "\t\t\tb=n/d;\n",
    "\t\t\tif(a%2!=b%2) {\n",
    "\t\t\t\tcout<<\"[\"<<a<<\" \"<<b<<\"]\"<<\" \";\n",
    "\t\t\t\tok=1;\n",
    "\t\t\t}\n",
    "\t\t}\n",
    "\tif(ok==0) {\n",
    "\t\tcout<<\"nu exista\";\n",
    "\t}\n",
    "\n",
    "}"
   ]
  },
  {
   "cell_type": "code",
   "execution_count": null,
   "id": "47ec1289",
   "metadata": {
    "vscode": {
     "languageId": "cpp"
    }
   },
   "outputs": [],
   "source": [
    "//ex 2\n",
    "#include <iostream>\n",
    "#include <cstring>\n",
    "using namespace std;\n",
    "char s[101], t[101];\n",
    "int main() \n",
    "{\n",
    "    cin.getline(s,101);\n",
    "    for(int i = 0;i < strlen(s) ; i++)\n",
    "    if(s[i] == '-'){\n",
    "        strcpy(t, s + i + 1);\n",
    "        strcpy(s + i, t);\n",
    "    }\n",
    "    cout<<s;\n",
    "}"
   ]
  },
  {
   "cell_type": "code",
   "execution_count": null,
   "id": "5fce95cb",
   "metadata": {
    "vscode": {
     "languageId": "plaintext"
    }
   },
   "outputs": [],
   "source": [
    "//ex 3 - a"
   ]
  },
  {
   "cell_type": "code",
   "execution_count": null,
   "id": "09509a3f",
   "metadata": {
    "vscode": {
     "languageId": "plaintext"
    }
   },
   "outputs": [],
   "source": [
    "//ex 3 - b"
   ]
  }
 ],
 "metadata": {
  "language_info": {
   "name": "python"
  }
 },
 "nbformat": 4,
 "nbformat_minor": 5
}
