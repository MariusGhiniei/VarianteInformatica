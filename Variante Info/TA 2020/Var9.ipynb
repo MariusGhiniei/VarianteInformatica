{
 "cells": [
  {
   "cell_type": "markdown",
   "id": "46c50fbd",
   "metadata": {
    "vscode": {
     "languageId": "plaintext"
    }
   },
   "source": [
    "Variante 2020/Testul 9"
   ]
  },
  {
   "cell_type": "markdown",
   "id": "c82a624c",
   "metadata": {
    "vscode": {
     "languageId": "plaintext"
    }
   },
   "source": [
    "Subiectul 1"
   ]
  },
  {
   "cell_type": "code",
   "execution_count": null,
   "id": "2ddde6db",
   "metadata": {
    "vscode": {
     "languageId": "plaintext"
    }
   },
   "outputs": [],
   "source": [
    "1. d {Pt divizor folosim x % (x / divizor) == 0}\n",
    "2. b {Construire matrice}\n",
    "3. a {Bkt -  pe multime}\n",
    "4. c {Arbore cu vectori de tati}\n",
    "5. b {Graf orientat}"
   ]
  },
  {
   "cell_type": "code",
   "execution_count": null,
   "id": "452c1c68",
   "metadata": {
    "vscode": {
     "languageId": "plaintext"
    }
   },
   "outputs": [],
   "source": [
    "Subiectul 2"
   ]
  },
  {
   "cell_type": "code",
   "execution_count": null,
   "id": "2f7329a8",
   "metadata": {
    "vscode": {
     "languageId": "plaintext"
    }
   },
   "outputs": [],
   "source": [
    "1.  a) 1 1 1 2 2 2 3 3\n",
    "    b) min = 46 si max = 50"
   ]
  },
  {
   "cell_type": "code",
   "execution_count": null,
   "id": "ced2eb66",
   "metadata": {
    "vscode": {
     "languageId": "cpp"
    }
   },
   "outputs": [],
   "source": [
    "//c)\n",
    "#include <iostream>\n",
    "using namespace std;\n",
    "int main()\n",
    "{\n",
    "    int n,k,t;\n",
    "    cin>>n>>k;\n",
    "    t=1;\n",
    "    for(int i = 1;i <= n/k; i++){\n",
    "        for(int j=1;j<=k;j++){\n",
    "            cout<<t << \" \";\n",
    "    }\n",
    "        t = t + 1;\n",
    "    }\n",
    "    for(int i = n % k; i >= 1; i--){\n",
    "        cout << t << \" \";\n",
    "    }\n",
    "    return 0;\n",
    "}\n"
   ]
  },
  {
   "cell_type": "code",
   "execution_count": null,
   "id": "57ab2283",
   "metadata": {
    "vscode": {
     "languageId": "plaintext"
    }
   },
   "outputs": [],
   "source": [
    "d)\n",
    "citește n,k (numere naturale nenule) \n",
    "t <- 1 \n",
    "┌pentru i<-1,[n/k] execută \n",
    "│┌pentru j<-1,k execută \n",
    "││ scrie t,' ' \n",
    "│└■ \n",
    "│ t<-t+1 \n",
    "└■ \n",
    "i <- n % k\n",
    "┌cat timp i >= 1 execută \n",
    "|   i <- i-1;\n",
    "│   scrie t,' ' \n",
    "└■ "
   ]
  },
  {
   "cell_type": "code",
   "execution_count": null,
   "id": "844fdb1b",
   "metadata": {
    "vscode": {
     "languageId": "plaintext"
    }
   },
   "outputs": [],
   "source": [
    "2.  \n",
    "    f(0) = 0\n",
    "    f(2020) = 6"
   ]
  },
  {
   "cell_type": "code",
   "execution_count": null,
   "id": "b8d06eb7",
   "metadata": {
    "vscode": {
     "languageId": "plaintext"
    }
   },
   "outputs": [],
   "source": [
    "3.\n",
    "    Numarul de componente conexe este 3, iar nodurile din componentele conexe cu cele mai putine noduri sunt 4 si 7\n"
   ]
  },
  {
   "cell_type": "markdown",
   "id": "c3fe244f",
   "metadata": {
    "vscode": {
     "languageId": "plaintext"
    }
   },
   "source": [
    "Subiectul 3"
   ]
  },
  {
   "cell_type": "code",
   "execution_count": null,
   "id": "9ae5f200",
   "metadata": {
    "vscode": {
     "languageId": "cpp"
    }
   },
   "outputs": [],
   "source": [
    "//ex1\n",
    "void suma(int n, int &s)\n",
    "{\n",
    "    int fr[10] = {0};\n",
    "    int cn = n;\n",
    "    s = 0;\n",
    "    \n",
    "    while(cn != 0){\n",
    "        int c = cn % 10;\n",
    "        if(c % 2 != 0)\n",
    "            fr[c]++;\n",
    "        cn = cn / 10;\n",
    "    }\n",
    "    for(int i = 1; i < 10; i = i + 2)\n",
    "        if(fr[i] != 0)\n",
    "            s = s + i;\n",
    "}"
   ]
  },
  {
   "cell_type": "code",
   "execution_count": null,
   "id": "c54e273d",
   "metadata": {
    "vscode": {
     "languageId": "cpp"
    }
   },
   "outputs": [],
   "source": [
    "//ex2\n",
    "#include <iostream>\n",
    "#include <cstring>\n",
    "using namespace std;\n",
    "\n",
    "char s[20][20];\n",
    "\n",
    "int main(){\n",
    "    int n, k, gasit = 0;\n",
    "    cin >> n;\n",
    "    for(int i = 1; i <=  n; i++)\n",
    "        cin >> s[i];\n",
    "    k = strlen(s[n]);\n",
    "    for(int i = 1; i < n; i++){\n",
    "        int ok = 1;\n",
    "        for(int j = 0; j < k; j++)\n",
    "            if(s[i][j] != s[n][j]){\n",
    "                ok = 0;\n",
    "                break;\n",
    "            }\n",
    "        if(ok == 1){\n",
    "            cout << s[i] << endl;\n",
    "            gasit  = 1;\n",
    "        }\n",
    "    }\n",
    "    if(gasit == 0)\n",
    "        cout << \"nu exista\";\n",
    "}"
   ]
  },
  {
   "cell_type": "code",
   "execution_count": null,
   "id": "2623292f",
   "metadata": {
    "vscode": {
     "languageId": "cpp"
    }
   },
   "outputs": [],
   "source": [
    "//ex3-a\n",
    "#include <iostream>\n",
    "#include <fstream>\n",
    "using namespace std;\n",
    "ifstream fin(\"bac.txt\");\n",
    "\n",
    "int main(){\n",
    "    int k, x, cnt = 0, lg, lgmaxi = -1; \n",
    "    fin >> k;\n",
    "    \n",
    "    while(fin >> x){\n",
    "        if(x % k != 0) lg = 0;\n",
    "        if(x % k == 0) lg++;\n",
    "        if(lg > lgmaxi){\n",
    "            lgmaxi = lg;\n",
    "            cnt = 1;\n",
    "        } else if(lg == lgmaxi) cnt++;\n",
    "    }\n",
    "    cout << lgmaxi << \" \" << cnt;\n",
    "    \n",
    "    fin.close();\n",
    "    return 0;\n",
    "}"
   ]
  },
  {
   "cell_type": "code",
   "execution_count": null,
   "id": "ae7ba6fc",
   "metadata": {
    "vscode": {
     "languageId": "cpp"
    }
   },
   "outputs": [],
   "source": [
    "//ex3-b\n",
    "Am proiectat un algoritm eficient din punct de vedere al memoriei, folosind variabile de tip intreg, nefolosind vectori\n",
    "Am proiectul un algoritm eficient din punct de vedere al timpului, folosind o aboradare liniara, rezolvand problema din citire.\n",
    "Citim pe rand numerele din fisier, daca numarul citit nu este divizibl cu k se reseteaza lungimea, daca numarul citit este divizibil cu k\n",
    "contorizez lungimea. Actualizez lgmaxi dupa caz. Dupa citire afisez valorile cerute."
   ]
  }
 ],
 "metadata": {
  "language_info": {
   "name": "python"
  }
 },
 "nbformat": 4,
 "nbformat_minor": 5
}
