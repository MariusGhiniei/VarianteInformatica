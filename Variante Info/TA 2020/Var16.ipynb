{
 "cells": [
  {
   "cell_type": "markdown",
   "id": "da999d6c",
   "metadata": {
    "vscode": {
     "languageId": "plaintext"
    }
   },
   "source": [
    "Variante 2020/Testul 16"
   ]
  },
  {
   "cell_type": "markdown",
   "id": "d2b73e5b",
   "metadata": {
    "vscode": {
     "languageId": "plaintext"
    }
   },
   "source": [
    "Subiectul 1"
   ]
  },
  {
   "cell_type": "code",
   "execution_count": null,
   "id": "807dd35f",
   "metadata": {
    "vscode": {
     "languageId": "plaintext"
    }
   },
   "outputs": [],
   "source": [
    "1. b {! - neaga}\n",
    "2. c {Bkt - cifre in ordine crescatoare}\n",
    "3. b {Struct - in sistem xOy}\n",
    "4. c {Grad exterior - cate muchii ies, Grad interior - cate muchii intra}\n",
    "5. d {[n(n-1)]/2=32 -> n^2-n=64 -> n^2-n-64=0 - > delta=1+256=257, aprox 16 ->  n1=1+16/2 aprox 8 -> (8*7)/2=56/2=28\n",
    "        Folosesc 8 noduri pentru a forma un graf complet-> raman 42 de noduri si 4 muchii\n",
    "        Mai luam inca un nod si il adaug la graful complet-> 41 de noduri si 0 muchii\n",
    "        41 de noduri-> 41 de componente conexe\n",
    "        Graful complet + nodul adaugat este componenta conexa 41+1=42}"
   ]
  },
  {
   "cell_type": "code",
   "execution_count": null,
   "id": "cc317cc4",
   "metadata": {
    "vscode": {
     "languageId": "plaintext"
    }
   },
   "outputs": [],
   "source": [
    "Subiectul 2"
   ]
  },
  {
   "cell_type": "code",
   "execution_count": null,
   "id": "330f4b52",
   "metadata": {
    "vscode": {
     "languageId": "plaintext"
    }
   },
   "outputs": [],
   "source": [
    "1.  a)\n",
    "    b)"
   ]
  },
  {
   "cell_type": "code",
   "execution_count": null,
   "id": "e55442e0",
   "metadata": {
    "vscode": {
     "languageId": "plaintext"
    }
   },
   "outputs": [],
   "source": [
    "//c)"
   ]
  },
  {
   "cell_type": "code",
   "execution_count": null,
   "id": "e43c10d5",
   "metadata": {
    "vscode": {
     "languageId": "plaintext"
    }
   },
   "outputs": [],
   "source": [
    "d)"
   ]
  },
  {
   "cell_type": "code",
   "execution_count": null,
   "id": "df44252b",
   "metadata": {
    "vscode": {
     "languageId": "plaintext"
    }
   },
   "outputs": [],
   "source": [
    "2."
   ]
  },
  {
   "cell_type": "code",
   "execution_count": null,
   "id": "6d8b99c2",
   "metadata": {
    "vscode": {
     "languageId": "plaintext"
    }
   },
   "outputs": [],
   "source": [
    "3."
   ]
  },
  {
   "cell_type": "code",
   "execution_count": null,
   "id": "8a9fafd0",
   "metadata": {
    "vscode": {
     "languageId": "plaintext"
    }
   },
   "outputs": [],
   "source": [
    "Subiectul 3"
   ]
  },
  {
   "cell_type": "code",
   "execution_count": null,
   "id": "19b35efc",
   "metadata": {
    "vscode": {
     "languageId": "plaintext"
    }
   },
   "outputs": [],
   "source": [
    "//ex 1"
   ]
  },
  {
   "cell_type": "code",
   "execution_count": null,
   "id": "e3f099e8",
   "metadata": {
    "vscode": {
     "languageId": "plaintext"
    }
   },
   "outputs": [],
   "source": [
    "//ex 2"
   ]
  },
  {
   "cell_type": "code",
   "execution_count": null,
   "id": "13420771",
   "metadata": {
    "vscode": {
     "languageId": "plaintext"
    }
   },
   "outputs": [],
   "source": [
    "//ex 3 - a"
   ]
  },
  {
   "cell_type": "code",
   "execution_count": null,
   "id": "e453638a",
   "metadata": {
    "vscode": {
     "languageId": "plaintext"
    }
   },
   "outputs": [],
   "source": [
    "//ex 3 - b"
   ]
  }
 ],
 "metadata": {
  "language_info": {
   "name": "python"
  }
 },
 "nbformat": 4,
 "nbformat_minor": 5
}
