{
 "cells": [
  {
   "cell_type": "markdown",
   "id": "da999d6c",
   "metadata": {
    "vscode": {
     "languageId": "plaintext"
    }
   },
   "source": [
    "Variante 2020/Testul 16"
   ]
  },
  {
   "cell_type": "markdown",
   "id": "d2b73e5b",
   "metadata": {
    "vscode": {
     "languageId": "plaintext"
    }
   },
   "source": [
    "Subiectul 1"
   ]
  },
  {
   "cell_type": "code",
   "execution_count": null,
   "id": "807dd35f",
   "metadata": {
    "vscode": {
     "languageId": "plaintext"
    }
   },
   "outputs": [],
   "source": [
    "1. b {! - neaga}\n",
    "2. c {Bkt - cifre in ordine crescatoare}\n",
    "3. b {Struct - in sistem xOy}\n",
    "4. c {Grad exterior - cate muchii ies, Grad interior - cate muchii intra}\n",
    "5. d {[n(n-1)]/2=32 -> n^2-n=64 -> n^2-n-64=0 - > delta=1+256=257, aprox 16 ->  n1=1+16/2 aprox 8 -> (8*7)/2=56/2=28\n",
    "        Folosesc 8 noduri pentru a forma un graf complet-> raman 42 de noduri si 4 muchii\n",
    "        Mai luam inca un nod si il adaug la graful complet-> 41 de noduri si 0 muchii\n",
    "        41 de noduri-> 41 de componente conexe\n",
    "        Graful complet + nodul adaugat este componenta conexa 41+1=42}"
   ]
  },
  {
   "cell_type": "markdown",
   "id": "cc317cc4",
   "metadata": {
    "vscode": {
     "languageId": "plaintext"
    }
   },
   "source": [
    "Subiectul 2"
   ]
  },
  {
   "cell_type": "code",
   "execution_count": null,
   "id": "330f4b52",
   "metadata": {
    "vscode": {
     "languageId": "plaintext"
    }
   },
   "outputs": [],
   "source": [
    "1.  a) 2020\n",
    "    b) 1022, 1044, 1066"
   ]
  },
  {
   "cell_type": "code",
   "execution_count": null,
   "id": "e55442e0",
   "metadata": {
    "vscode": {
     "languageId": "cpp"
    }
   },
   "outputs": [],
   "source": [
    "//c)\n",
    "#include <iostream>\n",
    "using namespace std;\n",
    "int main()\n",
    "{\n",
    "    int n, k, nr, p, c;\n",
    "    cin >> n >> k;\n",
    "    if(k == 0) nr = -1;\n",
    "    else {\n",
    "        nr = 0; p = 1;\n",
    "        do{\n",
    "            c = n % 10;\n",
    "            n = n / 10;\n",
    "            if(c % 2 == 0){\n",
    "                nr = nr + c * p;\n",
    "                p = p * 10;\n",
    "            }\n",
    "        }while(n != 0 &&  k != 0);\n",
    "    }\n",
    "    cout << nr;\n",
    "    return 0;\n",
    "}"
   ]
  },
  {
   "cell_type": "code",
   "execution_count": null,
   "id": "e43c10d5",
   "metadata": {
    "vscode": {
     "languageId": "plaintext"
    }
   },
   "outputs": [],
   "source": [
    "d)\n",
    "\n",
    "citește n,k (numere naturale)\n",
    "┌dacă k=0 atunci nr <- -1\n",
    "│altfel\n",
    "│ nr<-0\n",
    "│ p<-1\n",
    "| c<-n%10; n<-[n/10]\n",
    "│┌dacă c%2=0 atunci\n",
    "││ nr<-nr+c*p; p<-p*10\n",
    "││altfel k<-k-1\n",
    "│└■\n",
    "│┌cat timp n != 0 si k != 0 executa\n",
    "││ c<-n%10; n<-[n/10]\n",
    "││┌dacă c%2=0 atunci\n",
    "│││ nr<-nr+c*p; p<-p*10\n",
    "│││altfel k<-k-1\n",
    "││└■\n",
    "│└■\n",
    "└■\n",
    "scrie nr\n"
   ]
  },
  {
   "cell_type": "code",
   "execution_count": null,
   "id": "df44252b",
   "metadata": {
    "vscode": {
     "languageId": "plaintext"
    }
   },
   "outputs": [],
   "source": [
    "2.\n",
    "    5 3 1\n",
    "    1 2 3 4 5 "
   ]
  },
  {
   "cell_type": "code",
   "execution_count": null,
   "id": "6d8b99c2",
   "metadata": {
    "vscode": {
     "languageId": "plaintext"
    }
   },
   "outputs": [],
   "source": [
    "3.\n",
    "    15bac2020"
   ]
  },
  {
   "cell_type": "markdown",
   "id": "abc18479",
   "metadata": {
    "vscode": {
     "languageId": "plaintext"
    }
   },
   "source": [
    "Subiectul 3"
   ]
  },
  {
   "cell_type": "code",
   "execution_count": null,
   "id": "19b35efc",
   "metadata": {
    "vscode": {
     "languageId": "cpp"
    }
   },
   "outputs": [],
   "source": [
    "//ex 1\n",
    "int nrDivPrimi(int n)\n",
    "{\tint p = 1,cnt = 0;\n",
    "\tint d = 2;\n",
    "\twhile(n > 1) {\n",
    "\t\tif(n % d == 0) {\n",
    "\t\t\tp = 0;\n",
    "\t\t\twhile(n % d == 0) {\n",
    "\t\t\t\tn = n / d; p++;\n",
    "\t\t\t}\n",
    "\t\t\tif(p % 2 == 1)\n",
    "\t\t\t\tcnt++;\n",
    "\t\t}\n",
    "\t\td++;\n",
    "\t}\n",
    "\treturn cnt;\n",
    "}"
   ]
  },
  {
   "cell_type": "code",
   "execution_count": null,
   "id": "e3f099e8",
   "metadata": {
    "vscode": {
     "languageId": "cpp"
    }
   },
   "outputs": [],
   "source": [
    "//ex 2\n",
    "#include <iostream>\n",
    "using namespace std;\n",
    "int a[101][101];\n",
    "int main(){\n",
    "    int n,m,k;\n",
    "    cin >> n >> m;\n",
    "    k = 1;\n",
    "    for(int i = n; i >= 1;i--)\n",
    "        for(int j = m;j >= 1;j--){\n",
    "            a[i][j] = k*k;\n",
    "            k = k + 2;\n",
    "    }\n",
    "    \n",
    "    for(int i = 1; i <= n;i++){\n",
    "        for(int j = 1;j <= m;j++)\n",
    "            cout << a[i][j] << \" \";\n",
    "        cout << endl;\n",
    "    }\n",
    "}"
   ]
  },
  {
   "cell_type": "code",
   "execution_count": null,
   "id": "13420771",
   "metadata": {
    "vscode": {
     "languageId": "plaintext"
    }
   },
   "outputs": [],
   "source": [
    "//ex 3 - a\n",
    "Am proiectat un algoritm eficient din punct de vedere al memoriei, folosind doar un vector pentru a memora doar primul sir.\n",
    "Am proiectat un algoritm eficient din punct de vedere al timpului, folosind algoritmul de interclasare, complexitatea finnd O(n+m).\n",
    "Citim primul sir salvandu-l intr-un vector, indentific din care sir facem prima afisare. Parcurgem sirurile si vedem elementul mai mic, apoi verifica daca are paritate diferita fata de \n",
    "ultimul afisat, daca este paritate diferita afisam si actualizam ultima valoarea afisata si continuam parcurgera, respectiv citirea sirurilor dupa caz.\n",
    "Dupa ce se termina un sir, verificam daca mai putem afisa din celalalt sir."
   ]
  },
  {
   "cell_type": "code",
   "execution_count": null,
   "id": "e453638a",
   "metadata": {
    "vscode": {
     "languageId": "cpp"
    }
   },
   "outputs": [],
   "source": [
    "//ex 3 - b\n",
    "#include <iostream>\n",
    "#include <fstream>\n",
    "using namespace std;\n",
    "ifstream fin(\"bac.in\");\n",
    "int v[1000001];\n",
    "int main()\n",
    "{\tint n,m,x,j,i,y;\n",
    "\tfin>>n>>m;\n",
    "\tfor(i=1; i<=n; i++)\n",
    "\t\tfin>>v[i];\n",
    "\ti = 1;\n",
    "\tj = 1;\n",
    "\tfin >> x;\n",
    "\tif(x < v[i]) {\n",
    "\t\ty = x;\n",
    "\t\tj++;\n",
    "\t\tfin >> x;\n",
    "\t} else if( v[i] < x) {\n",
    "\t\ty = v[i];\n",
    "\t\ti++;\n",
    "\n",
    "\t} else {\n",
    "\t\ty = x;\n",
    "\t\ti++;\n",
    "\t\tj++;\n",
    "\t\tfin >> x;\n",
    "\t}\n",
    "\tcout << y << \" \";\n",
    "\twhile(i <= n && j <= m) {\n",
    "\t\tif(x < v[i])\n",
    "\t\t\tif(x % 2 != y % 2 && x > y) {\n",
    "\t\t\t\ty = x;\n",
    "\t\t\t\tj++;\n",
    "\t\t\t\tfin >> x;\n",
    "\t\t\t\tcout << y << \" \";\n",
    "\t\t\t} else {\n",
    "\t\t\t\tj++;\n",
    "\t\t\t\tfin >> x;\n",
    "\t\t\t}\n",
    "\t\telse if (x > v[i])\n",
    "\t\t\tif(v[i] % 2 != y % 2 && v[i] > y) {\n",
    "\t\t\t\ty = v[i];\n",
    "\t\t\t\ti++;\n",
    "\t\t\t\tcout << y << \" \";\n",
    "\t\t\t} else i++;\n",
    "\t\telse if(x % 2 != v[i] % 2 && x > v[i]) {\n",
    "\t\t\tcout << x << \" \";\n",
    "\t\t\ti++;\n",
    "\t\t\tj++;\n",
    "\t\t\tfin >> x;\n",
    "\t\t} else i++;\n",
    "\t}\n",
    "\tif(i > n && j < m){\n",
    "\t    for(i = j; i <= m; i++)\n",
    "\t        if(x % 2 != y % 2 && x > y){\n",
    "\t            y = x;\n",
    "\t            fin >> x;\n",
    "\t            cout << y << \" \";\n",
    "\t        }\n",
    "\t} else if (i < n && j > m){\n",
    "\t    for(j = i; j <= n; j++)\n",
    "\t        if(v[j] % 2 != y % 2 && v[j] > y){\n",
    "\t            y = v[j];\n",
    "\t            cout << y << \" \";\n",
    "\t        }\n",
    "\t}\n",
    "\tfin.close();\n",
    "\treturn 0;\n",
    "\t\n",
    "}"
   ]
  }
 ],
 "metadata": {
  "language_info": {
   "name": "python"
  }
 },
 "nbformat": 4,
 "nbformat_minor": 5
}
