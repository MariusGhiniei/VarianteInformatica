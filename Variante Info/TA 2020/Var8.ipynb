{
 "cells": [
  {
   "cell_type": "markdown",
   "metadata": {},
   "source": [
    "Varianta 2020/Testul 8"
   ]
  },
  {
   "cell_type": "markdown",
   "metadata": {
    "vscode": {
     "languageId": "plaintext"
    }
   },
   "source": [
    "Subiectul 1"
   ]
  },
  {
   "cell_type": "code",
   "execution_count": null,
   "metadata": {
    "vscode": {
     "languageId": "plaintext"
    }
   },
   "outputs": [],
   "source": [
    "1. b {Pentru intervale punem && la cele 2 conditii pentru capete, reuniune de intervale => ||}\n",
    "2. a {Bkt - generarea numerelor din cifre}\n",
    "3. c {Putem accesa doar campurile declarate, nu putem accesa eticheta structurii}\n",
    "4. d {Recursivitate fara exemplu}\n",
    "5. b {Subgraful - elimin varfuri}"
   ]
  },
  {
   "cell_type": "markdown",
   "metadata": {
    "vscode": {
     "languageId": "plaintext"
    }
   },
   "source": [
    "Subiectul 2"
   ]
  },
  {
   "cell_type": "code",
   "execution_count": null,
   "metadata": {
    "vscode": {
     "languageId": "plaintext"
    }
   },
   "outputs": [],
   "source": [
    "1.  a) 202888\n",
    "    b) 101, 900 (si 110)"
   ]
  },
  {
   "cell_type": "code",
   "execution_count": null,
   "metadata": {
    "vscode": {
     "languageId": "cpp"
    }
   },
   "outputs": [],
   "source": [
    "//c)\n",
    "#include <iostream>\n",
    "using namespace std;\n",
    "int main() {\n",
    "    int x, y;\n",
    "    cin >> x >> y;\n",
    "    \n",
    "    do {\n",
    "        int c = x % 10;\n",
    "        x = x / 10;\n",
    "        \n",
    "        if (c != 0) {\n",
    "            if (y % 10 < c) {\n",
    "                y = y * 10 + c;\n",
    "            } else {\n",
    "                y = y * 10 - c;\n",
    "            }\n",
    "        }\n",
    "    } while (x != 0);\n",
    "    \n",
    "    cout << y << endl;\n",
    "    return 0;\n",
    "}"
   ]
  },
  {
   "cell_type": "code",
   "execution_count": null,
   "metadata": {
    "vscode": {
     "languageId": "plaintext"
    }
   },
   "outputs": [],
   "source": [
    "//d)\n",
    "citește x,y  (numere naturale) \n",
    "c<-x%10  \n",
    "x<-[x/10] \n",
    "┌dacă c != 0 atunci \n",
    "│┌dacă y%10<c atunci \n",
    "││ y<-y*10+c \n",
    "││altfel \n",
    "││ y<-y*10-c \n",
    "│└■ \n",
    "└■ \n",
    "┌cat timp(x != 0) executa\n",
    "│ c<-x%10  \n",
    "│ x<-[x/10] \n",
    "│┌dacă c != 0 atunci \n",
    "││┌dacă y%10<c atunci \n",
    "│││ y<-y*10+c \n",
    "│││altfel \n",
    "│││ y<-y*10-c \n",
    "││└■ \n",
    "│└■ \n",
    "└■\n",
    " scrie y "
   ]
  },
  {
   "cell_type": "code",
   "execution_count": null,
   "metadata": {
    "vscode": {
     "languageId": "plaintext"
    }
   },
   "outputs": [],
   "source": [
    "2.  lant elementar: 1->6->3->5\n",
    "    ciclu ne-elementar: 2->4->5->6->2->1->6->2"
   ]
  },
  {
   "cell_type": "code",
   "execution_count": null,
   "metadata": {
    "vscode": {
     "languageId": "plaintext"
    }
   },
   "outputs": [],
   "source": [
    "3.  ou\n",
    "    rosu"
   ]
  },
  {
   "cell_type": "markdown",
   "metadata": {
    "vscode": {
     "languageId": "plaintext"
    }
   },
   "source": [
    "Subiectul 3"
   ]
  },
  {
   "cell_type": "code",
   "execution_count": null,
   "metadata": {
    "vscode": {
     "languageId": "cpp"
    }
   },
   "outputs": [],
   "source": [
    "//ex 1\n",
    "//Metoda 1 - brut force \n",
    "int suma(int n)\n",
    "{\t\n",
    "    int s = 0, ok;\n",
    "\tfor(int d = 2; d <= n; d++)\n",
    "\t\tif(n % d == 0){\n",
    "\t\t    //verific daca d este prim \n",
    "\t\t    ok = 1;\n",
    "\t\t    for(int i = 2; i*i <= d; i++)\n",
    "\t\t        if(d % i == 0){\n",
    "\t\t            ok = 0;\n",
    "\t\t            break;\n",
    "\t\t        }\n",
    "\t\t    if(ok == 1) s = s + d;\n",
    "\t\t}\n",
    "\treturn s;\n",
    "}\n",
    "\n",
    "//Metoda 2 - cu alg de descompunere in factori primi\n",
    "int suma(int n)\n",
    "{\t\n",
    "    int d = 2, s = 0;\n",
    "    while(n > 1){\n",
    "        if(n % d == 0){\n",
    "            while(n % d == 0)\n",
    "                n = n / d;\n",
    "            s = s + d;\n",
    "        }\n",
    "        d++;\n",
    "    }\n",
    "    return s;\n",
    "}"
   ]
  },
  {
   "cell_type": "code",
   "execution_count": null,
   "metadata": {
    "vscode": {
     "languageId": "cpp"
    }
   },
   "outputs": [],
   "source": [
    "//ex 2\n",
    "#include <iostream>\n",
    "using namespace std;\n",
    "int a[20][20];\n",
    "int main() {\n",
    "    int n, k;\n",
    "    cin >> n >> k;\n",
    "    for(int i = 1; i <= n; i++)\n",
    "        for(int j = 1; j <= n; j++)\n",
    "            cin >> a[i][j];\n",
    "            \n",
    "    int x = a[k][1];\n",
    "    \n",
    "    for(int j = 1; j <= k - 1; j++)\n",
    "        a[k][j] = a[k][j+1];\n",
    "    a[k][k-1] = x;\n",
    "    \n",
    "    for(int i = 1; i <= n; i++){\n",
    "        for(int j = 1; j <= n; j++)\n",
    "            cout << a[i][j] << \" \";\n",
    "        cout << endl;\n",
    "    }\n",
    "    \n",
    "    return 0;\n",
    "}"
   ]
  },
  {
   "cell_type": "code",
   "execution_count": null,
   "metadata": {
    "vscode": {
     "languageId": "cpp"
    }
   },
   "outputs": [],
   "source": [
    "//ex 3\n",
    "//a)\n",
    "#include <fstream>\n",
    "#include <iostream>\n",
    "using namespace std;\n",
    "ifstream fin(\"bac.in\");\n",
    "struct poz{\n",
    "    int index;\n",
    "    int ap;\n",
    "}fr[10];\n",
    "int main() {\n",
    "    int k = 0, maxi = -1, x;\n",
    "    while(fin >> x){\n",
    "        k++;\n",
    "        int c = x % 10;\n",
    "        fr[c].ap++;\n",
    "        fr[c].index = k;\n",
    "    }\n",
    "    for(int i = 0; i < 10; i++)\n",
    "        if(fr[i].ap > maxi)\n",
    "            maxi = fr[i].ap;\n",
    "    for(int i = 0; i < 10; i++)\n",
    "        if(fr[i].ap == maxi)\n",
    "            cout << fr[i].index << \" \";\n",
    "            \n",
    "    fin.close();\n",
    "    return 0;\n",
    "}"
   ]
  },
  {
   "cell_type": "code",
   "execution_count": null,
   "metadata": {
    "vscode": {
     "languageId": "cpp"
    }
   },
   "outputs": [],
   "source": [
    "//b)\n",
    "Am proiectat un algoritm eficient din punct de vedere al memoriei, folosind un vector de frecventa de tipul poz care tine minte frecventa cifrei i si \n",
    "ultimul index pe care am gasit aceasta cifra, renuntand la utilizarea unui vector care sa tina minte toate numerele citite.\n",
    "Am proiectul un algoritm eficient din punct de vedere al timpului, folosind o aboradare liniara.\n",
    "Citim pe rand numerele, crestem variabila k( care are rol de a numara cate indexul curent), salvam ultima cifra a numarului citit, crestem frecventa\n",
    "ultimei cifre a numarului citit si salvam indexul pentru care s-a intamplat acest lucru.\n",
    "Aflam frecventa maxima si dupa pentru cifrele care au frecventa maxima afisam indexul din vectorul de frecventa."
   ]
  }
 ],
 "metadata": {
  "language_info": {
   "name": "python"
  }
 },
 "nbformat": 4,
 "nbformat_minor": 2
}
