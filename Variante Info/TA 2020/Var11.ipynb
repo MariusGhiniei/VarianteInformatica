{
 "cells": [
  {
   "cell_type": "markdown",
   "metadata": {
    "vscode": {
     "languageId": "plaintext"
    }
   },
   "source": [
    "Variante 2020/Testul 11"
   ]
  },
  {
   "cell_type": "markdown",
   "metadata": {
    "vscode": {
     "languageId": "plaintext"
    }
   },
   "source": [
    "Subiectul 1"
   ]
  },
  {
   "cell_type": "code",
   "execution_count": null,
   "metadata": {
    "vscode": {
     "languageId": "plaintext"
    }
   },
   "outputs": [],
   "source": [
    "1. d {! neaga}\n",
    "2. d {Bkt - multime}\n",
    "3. a {Subprogram int recursiv}\n",
    "4. b {Arbore - nr de muchii este egal cu n-1, unde n este nr de noduri}\n",
    "5. c {Pt a det nr maxim de componente conexe, incercam sa facem un graf complet pt a scapa de muchii,\n",
    "        nodurile izolate sunt componente conexe}"
   ]
  },
  {
   "cell_type": "markdown",
   "metadata": {
    "vscode": {
     "languageId": "plaintext"
    }
   },
   "source": [
    "Subiectul 2"
   ]
  },
  {
   "cell_type": "code",
   "execution_count": null,
   "metadata": {
    "vscode": {
     "languageId": "plaintext"
    }
   },
   "outputs": [],
   "source": [
    "1.  a) 10\n",
    "    b) Trei dintre numerele care pot fi luate pentru n in asa fel incat rezultatul final sa fie 1 sunt 1000, 1100 si 1111"
   ]
  },
  {
   "cell_type": "code",
   "execution_count": null,
   "metadata": {
    "vscode": {
     "languageId": "cpp"
    }
   },
   "outputs": [],
   "source": [
    "//c)\n",
    "#include <iostream>\n",
    "using namespace std;\n",
    "int main() {\n",
    "\tint n, m, c;\n",
    "\tcin >> n;\n",
    "\tif(n == 0)\n",
    "\t\tm = 10;\n",
    "\telse {\n",
    "\t\tdo {\n",
    "\t\t\tc = n % 10;\n",
    "\t\t\tn = n / 10;\n",
    "\t\t\tif(c >= m)\n",
    "\t\t\t\tm = c;\n",
    "\t\t\telse\n",
    "\t\t\t\tm = 10;\n",
    "\t\t} while(n != 0);\n",
    "\t}\n",
    "\n",
    "\tcout << m;\n",
    "\treturn 0;\n",
    "}"
   ]
  },
  {
   "cell_type": "code",
   "execution_count": null,
   "metadata": {
    "vscode": {
     "languageId": "plaintext"
    }
   },
   "outputs": [],
   "source": [
    "d)\n",
    "citeşte n (număr natural) \n",
    " m <- 0 \n",
    "┌dacă n=0 atunci  \n",
    "│ m<-10 \n",
    "│altfel \n",
    "| c<-n%10; n<-[n/10] \n",
    "││┌dacă c≥m atunci \n",
    "│││  m <- c \n",
    "│││altfel  \n",
    "│││  m <-10    \n",
    "││└■  \n",
    "\n",
    "    ┌cat timp(n!=0)  \n",
    "    │ c<-n%10; n[n/10] \n",
    "    ││┌dacă c≥m atunci \n",
    "    │││  m<-c \n",
    "    │││altfel  \n",
    "    │││  m<-10    \n",
    "    ││└■  \n",
    "    └■ \n",
    "sf daca\n",
    " scrie m "
   ]
  },
  {
   "cell_type": "code",
   "execution_count": null,
   "metadata": {
    "vscode": {
     "languageId": "cpp"
    }
   },
   "outputs": [],
   "source": [
    "2.\n",
    "struct sera{\n",
    "    int numar;\n",
    "    struct{\n",
    "        char denumireSiintifica[20];\n",
    "        char denumirePopulara[20];\n",
    "    }specie[100];\t\t\n",
    "}s;\n"
   ]
  },
  {
   "cell_type": "code",
   "execution_count": null,
   "metadata": {
    "vscode": {
     "languageId": "cpp"
    }
   },
   "outputs": [],
   "source": [
    "3.\n",
    "//metoda 1, nu am voie sa folosesc si variabila j\n",
    "for(int i = n; i >= 1; i--){\n",
    "    p = 1;\n",
    "    for(int j = 1; j <= i; j++)\n",
    "        p = p * a[j][j];\n",
    "        cout << p << \" \";\n",
    "}\n",
    "//metoda 2, fara a folosi si variabila j\n",
    "for(int i = 1; i <= n; i++)\n",
    "    p = p * a[i][i];\n",
    "for(int i = n; i >= 1; i--){\n",
    "    cout << p << \" \";\n",
    "    p = p / a[i][i];\n",
    "}"
   ]
  },
  {
   "cell_type": "markdown",
   "metadata": {
    "vscode": {
     "languageId": "plaintext"
    }
   },
   "source": [
    "Subiectul 3"
   ]
  },
  {
   "cell_type": "code",
   "execution_count": null,
   "metadata": {
    "vscode": {
     "languageId": "cpp"
    }
   },
   "outputs": [],
   "source": [
    "//ex1\n",
    "#include <cmath>\n",
    "void patrate(int x, int y){\n",
    "    int s = 0, nr = -1;\n",
    "    for(int i = y; i >= x; i--)\n",
    "        if(sqrt(i) == (int)sqrt(i)){\n",
    "            nr = i;\n",
    "            break;\n",
    "        }\n",
    "    if(nr != -1){\n",
    "        for(int i = x; i <= y; i++){\n",
    "            if(sqrt(i) == (int)sqrt(i)){\n",
    "                s = s + i;\n",
    "                cout << i;\n",
    "                if(i != nr)\n",
    "                    cout << \"+\";\n",
    "            }\n",
    "        }\n",
    "        cout << \"=\" << s;\n",
    "    } else cout << \"nu exista\";\n",
    "}"
   ]
  },
  {
   "cell_type": "code",
   "execution_count": null,
   "metadata": {
    "vscode": {
     "languageId": "cpp"
    }
   },
   "outputs": [],
   "source": [
    "//ex2\n",
    "#include <iostream>\n",
    "#include <cstring>\n",
    "using namespace std;\n",
    "\n",
    "int main(){\n",
    "    char s[101];\n",
    "    cin.getline(s,101);\n",
    "    if(s[0] >= 'a' && s[0] <= 'z') \n",
    "        s[0] = s[0] - 32;\n",
    "    //Modific prima litera\n",
    "    for(int i = 1; i < strlen(s); i++)\n",
    "        if(s[i] >= 'a' && s[i] <= 'z' && s[i-1] == ' ')\n",
    "            s[i] = s[i] - 32;\n",
    "    //Modific celelalte litere\n",
    "    for(int i = 1; i < strlen(s); i++)\n",
    "        if(s[i] >= 'A' && s[i] <= 'Z' && s[i-1] != ' ')\n",
    "            s[i] = s[i] + 32;\n",
    "    cout << s;\n",
    "}"
   ]
  },
  {
   "cell_type": "code",
   "execution_count": null,
   "metadata": {
    "vscode": {
     "languageId": "cpp"
    }
   },
   "outputs": [],
   "source": [
    "//ex3\n",
    "//Metoda 1, daca erau numere mai mici (pana in 10^5) si nu neaparat intr o anumita ordine\n",
    "#include <iostream>\n",
    "#include <fstream>\n",
    "using namespace std;\n",
    "ifstream fin(\"bac.txt\");\n",
    "int fr[10001];\n",
    "int main()\n",
    "{\tint x,i;\n",
    "\twhile(fin>>x)\n",
    "\t\tfr[x]++;\n",
    "\tfor(int i=0; i<=10000; i++)\n",
    "\t\tif(fr[i]!=0) {\n",
    "\t\t\tcout<<i<<\" \"<<fr[i]<<\" \";\n",
    "\t\t}\n",
    "\tfin.close();\n",
    "\treturn 0;\n",
    "}\n",
    "//Metoda 2, fara vector de frecventa\n",
    "#include <iostream>\n",
    "#include <fstream>\n",
    "using namespace std;\n",
    "ifstream fin(\"bac.txt\");\n",
    "int main()\n",
    "{\tint x,i,cnt=1,y;\n",
    "    fin>>x;\n",
    "\twhile(fin>>y){\n",
    "\t    if(x==y){\n",
    "\t        cnt++;\n",
    "\t    }\n",
    "\t    else{\n",
    "\t        cout<<x<<\" \"<<cnt<<\" \";\n",
    "\t        cnt=1;\n",
    "\t    }\n",
    "\t    x=y;\n",
    "\t}\n",
    "\tcout<<x<<\" \"<<cnt<<\" \";\n",
    "\tfin.close();\n",
    "\treturn 0;\n",
    "}"
   ]
  },
  {
   "cell_type": "code",
   "execution_count": null,
   "metadata": {
    "vscode": {
     "languageId": "plaintext"
    }
   },
   "outputs": [],
   "source": [
    "a) \n",
    "Am proiectat un algoritm eficient din punct de vedere al memoriei, folosind variabile de tip intreg, nefolosindu-ne de vectori.\n",
    "Am proiectul un algoritm eficient din punct de vedere al timpului, folosind o abordare liniara, rezolvand problema din citire.\n",
    "Citim primul numar, apoi continuam citirea din fisier cu al doilea numar. Daca gasim 2 numere consecutiv egale, atunci crestem\n",
    "contorul. Daca gasim 2 numere consecutiv diferite, atunci trebuie sa afisam numarul din stanga(x) si contorul, resetam contorul la 1.\n",
    "Tratam si cazul in care mai trebuie afisat pentru ultima valoarea citita."
   ]
  }
 ],
 "metadata": {
  "language_info": {
   "name": "python"
  }
 },
 "nbformat": 4,
 "nbformat_minor": 2
}
