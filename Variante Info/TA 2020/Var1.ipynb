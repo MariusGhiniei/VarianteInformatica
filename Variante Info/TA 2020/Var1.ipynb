{
 "cells": [
  {
   "cell_type": "raw",
   "id": "04ae23e6-49e4-4a53-b31c-f05406d1774c",
   "metadata": {},
   "source": [
    "Varianta 2020/ Testul 1\n",
    "\n",
    "Subiectul 1\n",
    "1. a { Operatorul && are prioritate fata de operatorul ||, !-> neaga totul, adica !(||) devine &&, iar !(&&) devine || , !(==) devine != si !(!=) devine == } \n",
    "2. c {Int - Recursiv}\n",
    "3. d {Backtracking - Submultime 4 elemente} \n",
    "4. b {Nodul cu valoarea 0 este radacina arborelui}\n",
    "5. c { Numarul de muchii este Combinari de n luate cate 2, adica n*(n-1)/2. Graf complet = nu se mai pot adauga muchii noi}\n",
    "\n",
    "Subiectul 2\n",
    "1.   a) 2020\n",
    "     b) (0, 0) si (0, 12345) \n",
    "     c)"
   ]
  },
  {
   "cell_type": "code",
   "execution_count": null,
   "id": "cd78e86c-cb04-444d-9f22-68cc727239d7",
   "metadata": {
    "trusted": true
   },
   "outputs": [],
   "source": [
    "#include <iostream>\n",
    "using namespace std;\n",
    "\n",
    "int main(){\n",
    "    int n,p,m,k,c,x;\n",
    "    cin >> n;\n",
    "    p = 1; m = 0; k = 0;\n",
    "    while(n != 0){\n",
    "        cin >> x;\n",
    "        for(int i = 1; i <= k; i++)\n",
    "            x = x / 10;\n",
    "        if(x != 0) c = x % 10;\n",
    "        else c = n % 10;\n",
    "\n",
    "        m = c*p + m;\n",
    "        n = n / 10;\n",
    "        p = p * 10;\n",
    "        k = k + 1;\n",
    "    }\n",
    "    cout << m;\n",
    "    return 0;\n",
    "}"
   ]
  },
  {
   "cell_type": "code",
   "execution_count": null,
   "id": "c0907137-f2a7-4f9e-aa89-5e6c97c1c001",
   "metadata": {
    "trusted": true
   },
   "outputs": [],
   "source": [
    "//c) \n",
    "#include <iostream>\n",
    "using namespace std;\n",
    "\n",
    "int main(){\n",
    "    int n,p,m,k,c,x;\n",
    "    cin >> n;\n",
    "    p = 1; m = 0; k = 0;\n",
    "    while(n != 0){\n",
    "        cin >> x;\n",
    "        for(int i = 1; i <= k; i++)\n",
    "            x = x / 10;\n",
    "        if(x != 0) c = x % 10;\n",
    "        else c = n % 10;\n",
    "\n",
    "        m = c*p + m;\n",
    "        n = n / 10;\n",
    "        p = p * 10;\n",
    "        k = k + 1;\n",
    "    }\n",
    "    cout << m;\n",
    "    return 0;\n",
    "}"
   ]
  },
  {
   "cell_type": "code",
   "execution_count": null,
   "id": "7d8d572e-ed4b-4d6b-96c1-11567f78178a",
   "metadata": {
    "vscode": {
     "languageId": "plaintext"
    }
   },
   "outputs": [],
   "source": [
    "d)  citeste n\n",
    "    p <- 1; m <- 0; k <-0;\n",
    "    cat timp n != 0 executa\n",
    "        citeste x\n",
    "        x <- x / p;\n",
    "        daca x != 0 atunci \n",
    "            c <- x % 10\n",
    "        altfel \n",
    "            c <- n % 10\n",
    "        m <- c*p + m\n",
    "        n <- [n/10] \n",
    "        p <- p * 10\n",
    "        k <- k + 1\n",
    "    sfarsit cat timp\n",
    "    scrie m\n"
   ]
  },
  {
   "cell_type": "raw",
   "id": "e8b085fe-356f-42ff-aa83-3e2eae5dbb68",
   "metadata": {},
   "source": [
    "2.  struct triunghi{\n",
    "        struct{\n",
    "            float x,y;\n",
    "        }A,B,C;\n",
    "    }t;"
   ]
  },
  {
   "cell_type": "raw",
   "id": "b39edc1f-ba33-4740-a939-68c90392a062",
   "metadata": {},
   "source": [
    "3. 8viCtORIe"
   ]
  },
  {
   "cell_type": "code",
   "execution_count": null,
   "id": "ab12ae2c",
   "metadata": {
    "vscode": {
     "languageId": "cpp"
    }
   },
   "outputs": [],
   "source": [
    "//Sub 3, ex 1\n",
    "void putere(int n, int& d, int& p){\n",
    "    int dmaxi = -1, pmaxi = -1;\n",
    "    d = 2;\n",
    "    while(n > 1){\n",
    "        if(n % d == 0){\n",
    "            p = 0;\n",
    "            while(n % d == 0){\n",
    "                p++;\n",
    "                n = n / d;\n",
    "            }\n",
    "            if(p >= pmaxi){\n",
    "                pmaxi = p;\n",
    "                dmaxi = d;\n",
    "            }\n",
    "        }\n",
    "        d++;\n",
    "        if(d * d > n && n > 1) d = n;\n",
    "    }\n",
    "    d = dmaxi; \n",
    "    p = pmaxi;\n",
    "}"
   ]
  },
  {
   "cell_type": "code",
   "execution_count": null,
   "id": "3ce9ba0b",
   "metadata": {
    "vscode": {
     "languageId": "cpp"
    }
   },
   "outputs": [],
   "source": [
    "//Sub 3, ex 2\n",
    "#include <iostream>\n",
    "using namespace std;\n",
    "int a[21][21];\n",
    "int main(){\n",
    "    int n, k, c = 1;\n",
    "    cin >> n >> k;\n",
    "    \n",
    "    for(int i = 1; i <= n; i++){\n",
    "        int ck = k;\n",
    "        while(ck != 0){\n",
    "            a[1][c] = i;\n",
    "            ck--;\n",
    "            c++;\n",
    "        }\n",
    "    }\n",
    "    for(int i = 2; i <= n; i++)\n",
    "        for(int j = 1; j <= n *k; j++)\n",
    "            a[i][j] = a[i-1][j] + 1;\n",
    "\n",
    "        \n",
    "    for(int i = 1; i <= n; i++){\n",
    "        for(int j = 1; j <= n*k; j++)\n",
    "            cout << a[i][j] << \" \";\n",
    "        cout << endl;\n",
    "    }\n",
    "}"
   ]
  },
  {
   "cell_type": "markdown",
   "id": "3685d509",
   "metadata": {},
   "source": [
    "Sub 3, ex 3 b)\n",
    "Am proiectat un algoritm eficeint din punct de vedere al memoriei, folosind 3 variabile de tip intreg, nefolosindu-ne de vectori.\n",
    "Am proiectul un algoritm eficient din punct de vedere al timpului, folosind o abordare liniara, numarul de iteratii din while ajunge la n-2, unde n este indicele asociat lui f_n = y. Complexitatea este O(n).\n",
    "Fiind 3 numere consecutive x,y,z cu formula z = 3*x - y, ii calculam si apoi ducem pe x in y si pe y in z."
   ]
  },
  {
   "cell_type": "code",
   "execution_count": null,
   "id": "65e61f6d",
   "metadata": {
    "vscode": {
     "languageId": "cpp"
    }
   },
   "outputs": [],
   "source": [
    "//Sub 3, ex 3 a\n",
    "#include <iostream>\n",
    "#include <fstream>\n",
    "using namespace std;\n",
    "ofstream fout(\"bac.txt\");\n",
    "int main(){\n",
    "    int x,y,z;\n",
    "    cin>>x>>y;\n",
    "    fout<<y<<\" \"<<x<<\" \";\n",
    "    z=3;\n",
    "    while(z>2){\n",
    "        z=3*x-y;\n",
    "        fout<<z<<\" \";\n",
    "        y=x;\n",
    "        x=z;\n",
    "    }\n",
    "        fout<<\"1 1\";\n",
    "    fout.close();\n",
    "    return 0;\n",
    "}"
   ]
  }
 ],
 "metadata": {
  "kernelspec": {
   "display_name": "C++17",
   "language": "C++17",
   "name": "xcpp17"
  },
  "language_info": {
   "codemirror_mode": "text/x-c++src",
   "file_extension": ".cpp",
   "mimetype": "text/x-c++src",
   "name": "c++",
   "version": "17"
  }
 },
 "nbformat": 4,
 "nbformat_minor": 5
}
