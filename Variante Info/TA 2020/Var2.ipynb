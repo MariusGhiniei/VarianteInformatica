{
 "cells": [
  {
   "cell_type": "markdown",
   "metadata": {},
   "source": [
    "Varianta 2020/ Testul 2\n",
    "\n",
    "Subiectul 1\n",
    "1. d { Operatorul && are prioritate fata de operatorul ||, !-> neaga totul, adica !(||) devine &&, iar !(&&) devine || , !(==) devine != si !(!=) devine == } \n",
    "2. c {Int - Recursiv}\n",
    "3. b {Backtracking - Submultime 8 cuvinte} \n",
    "4. b {Nodul cu valoarea 0 este radacina arborelui, Radacina se afla pe nivelul 0}\n",
    "5. a {Circuit -> ajung de unde plec, incerc sa adaug cat mai putine}\n",
    "\n",
    "Subiectul 2\n",
    "1.   a) 20950\n",
    "     b) 20406, 20606, 20806( Oricare numere de forma x0y0z, unde x,y,z sunt numere pare nenule)\n",
    "     "
   ]
  },
  {
   "cell_type": "code",
   "execution_count": null,
   "metadata": {
    "vscode": {
     "languageId": "cpp"
    }
   },
   "outputs": [],
   "source": [
    "//Sub 2, ex 1(c)\n",
    "#include <iostream>\n",
    "using namespace std;\n",
    "int main()\n",
    "{\n",
    "    int n, m, c;\n",
    "    cin >> n;\n",
    "    m = 0;\n",
    "    do{\n",
    "        c = n % 10;\n",
    "        n = n / 10;\n",
    "        if(c == 0){\n",
    "            c = 2;\n",
    "        } else if(c % 2 == 0) c = 0;\n",
    "        m = m * 10 + c;\n",
    "    }while(n != 0);\n",
    "    \n",
    "    cout << m;\n",
    "    return 0;\n",
    "}"
   ]
  },
  {
   "cell_type": "markdown",
   "metadata": {},
   "source": [
    "d)\n",
    "    citeste n\n",
    "    m <- 0\n",
    "\n",
    "    c <- n % 10\n",
    "    n <- n / 10\n",
    "    daca c == 0 atunci c <- 2\n",
    "    altfel daca c % 2 == 0 atunci c <- 0\n",
    "    cat timp n != 0 executa  \n",
    "        c <- n % 10\n",
    "        n <- n / 10\n",
    "        daca c == 0 atunci c <- 2\n",
    "        altfel daca c % 2 == 0 atunci c <- 0\n",
    "        m <- m * 10 + c\n",
    "    sfarsit cat timp\n",
    "\n",
    "    scrie m\n",
    "\n",
    "    OBS: Pentru a inlocui o structura de tipul repeta ... pana cand cu o structura repetitiva cu test initial (cat timp ... executa).\n",
    "    Codul care era in interiorul structurii repeta ... pana cand trebuie pus inca odata inainte de a face cat timp ... executa, adica se dubleaza\n",
    "    codul din interiorul structurii repetitive."
   ]
  },
  {
   "cell_type": "markdown",
   "metadata": {},
   "source": [
    "Subiectul 2\n",
    "2) \n",
    "    struct specie{\n",
    "        int cod;\n",
    "        int nrExemplare;\n",
    "        int varsta[10];\n",
    "    }s[20];"
   ]
  },
  {
   "cell_type": "code",
   "execution_count": null,
   "metadata": {
    "vscode": {
     "languageId": "cpp"
    }
   },
   "outputs": [],
   "source": [
    "//3)\n",
    "for(int i = 1; i < 5; i++)\n",
    "    for(int j = 1; j < 7; j++)\n",
    "        a[i][j] = (a[i-1][j] + a[i][j-1])%10;"
   ]
  },
  {
   "cell_type": "markdown",
   "metadata": {},
   "source": [
    "Subiectul III "
   ]
  },
  {
   "cell_type": "code",
   "execution_count": null,
   "metadata": {
    "vscode": {
     "languageId": "cpp"
    }
   },
   "outputs": [],
   "source": [
    "//1)\n",
    "void fii(int n){\n",
    "    for(int d = 1; d*d < n; d++)\n",
    "        if(n % d == 0)\n",
    "            cout<<\"(\" << n/d << \" \" << d <<\") \";\n",
    "}"
   ]
  },
  {
   "cell_type": "code",
   "execution_count": null,
   "metadata": {
    "vscode": {
     "languageId": "cpp"
    }
   },
   "outputs": [],
   "source": [
    "//2)\n",
    "#include <iostream>\n",
    "#include <cstring>\n",
    "using namespace std;\n",
    "char s[101], t[101];\n",
    "int main(){\n",
    "    \n",
    "    cin.getline(s,101);\n",
    "    char *p;\n",
    "    p = strtok(s, \" \");\n",
    "    while(p != NULL){\n",
    "        if(p[0] != '-'){\n",
    "            strcat(t,p);\n",
    "            strcat(t, \" \");\n",
    "        }\n",
    "        p = strtok(NULL, \" \");\n",
    "    }\n",
    "    cout << t;\n",
    "}"
   ]
  },
  {
   "cell_type": "code",
   "execution_count": null,
   "metadata": {
    "vscode": {
     "languageId": "cpp"
    }
   },
   "outputs": [],
   "source": [
    "//3)"
   ]
  }
 ],
 "metadata": {
  "language_info": {
   "name": "python"
  }
 },
 "nbformat": 4,
 "nbformat_minor": 2
}
