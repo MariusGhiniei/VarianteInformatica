{
 "cells": [
  {
   "cell_type": "markdown",
   "id": "530fae55",
   "metadata": {
    "vscode": {
     "languageId": "plaintext"
    }
   },
   "source": [
    "Variante 2020 / Testul 17"
   ]
  },
  {
   "cell_type": "markdown",
   "id": "144149d1",
   "metadata": {
    "vscode": {
     "languageId": "plaintext"
    }
   },
   "source": [
    "Subiectul 1"
   ]
  },
  {
   "cell_type": "code",
   "execution_count": null,
   "id": "3cdd8c13",
   "metadata": {
    "vscode": {
     "languageId": "plaintext"
    }
   },
   "outputs": [],
   "source": [
    "1. d \n",
    "2. d {void - recursiv}\n",
    "3. b {bkt - pe multime de cuvinte}\n",
    "4. a {arbore cu radacina}\n",
    "5. b {Subgraf -> elimin NODURI si muchiile adiacente acestuia}"
   ]
  },
  {
   "cell_type": "markdown",
   "id": "9d1c5dbe",
   "metadata": {
    "vscode": {
     "languageId": "plaintext"
    }
   },
   "source": [
    "Subiectul 2"
   ]
  },
  {
   "cell_type": "code",
   "execution_count": null,
   "id": "77f3e937",
   "metadata": {
    "vscode": {
     "languageId": "plaintext"
    }
   },
   "outputs": [],
   "source": [
    "1.  a) 35\n",
    "    b) Numerele care pot fi citite sunt 1 9 si 2 8"
   ]
  },
  {
   "cell_type": "code",
   "execution_count": null,
   "id": "7d75c241",
   "metadata": {
    "vscode": {
     "languageId": "cpp"
    }
   },
   "outputs": [],
   "source": [
    "// c)\n",
    "#include <iostream>\n",
    "using namespace std;\n",
    "int main()\n",
    "{\tint x, y, i, j, s;\n",
    "\tcin >> x >> y;\n",
    "\ti = x; j = y; s = 0;\n",
    "\twhile(i <= j) {\n",
    "\t\tif(i % 2 == 0) {\n",
    "\t\t\ts = s + j;\n",
    "\t\t}\n",
    "\t\tif(j % 2 == 0) {\n",
    "\t\t\ts = s + i;\n",
    "\t\t}\n",
    "\t\ti = i + 1; j = j - 1;\n",
    "\t}\n",
    "\tcout << s;\n",
    "\treturn 0;\n",
    "}\n"
   ]
  },
  {
   "cell_type": "code",
   "execution_count": null,
   "id": "64b9b8e5",
   "metadata": {
    "vscode": {
     "languageId": "plaintext"
    }
   },
   "outputs": [],
   "source": [
    "d)\n",
    "citește x,y (numere naturale x≤y) \n",
    " i <- x; j <- y; s <- 0\n",
    "┌dacă i≤j\n",
    "│repeta \n",
    "│┌dacă i%2=0 atunci \n",
    "││ s <- s + j \n",
    "│└■ \n",
    "│┌dacă j%2=0 atunci \n",
    "││ s <- s+i \n",
    "│└■ \n",
    "│i <- i+1; j <- j-1 \n",
    "└pana cand i>j \n",
    " scrie s "
   ]
  },
  {
   "cell_type": "code",
   "execution_count": null,
   "id": "f216f56d",
   "metadata": {
    "vscode": {
     "languageId": "cpp"
    }
   },
   "outputs": [],
   "source": [
    "2.\n",
    "struct obiectiv{\n",
    "\tint cod;\n",
    "\tstruct{\n",
    "    \t\tint luna;\n",
    "    \t\tint zi;\n",
    "\t}dataInceput, dataFinal;\n",
    "}ob;"
   ]
  },
  {
   "cell_type": "code",
   "execution_count": null,
   "id": "d6f1409f",
   "metadata": {
    "vscode": {
     "languageId": "cpp"
    }
   },
   "outputs": [],
   "source": [
    "3.\n",
    "for(int i = 0; i < 4; i++)\n",
    "    a[i][4] = 4 - i;\n",
    "for(int j = 3; j >= 0; j--)\n",
    "    for(int i = 0; i < 4; i++)\n",
    "        a[i][j] = a[i][j + 1] + 4;"
   ]
  },
  {
   "cell_type": "markdown",
   "id": "f82ba299",
   "metadata": {
    "vscode": {
     "languageId": "plaintext"
    }
   },
   "source": [
    "Subiectul 3"
   ]
  },
  {
   "cell_type": "code",
   "execution_count": null,
   "id": "ee899045",
   "metadata": {
    "vscode": {
     "languageId": "cpp"
    }
   },
   "outputs": [],
   "source": [
    "//ex - 1\n",
    "int maxim(int n){\n",
    "    int ok = 0, c, maxi = -1;\n",
    "    while(n != 0){\n",
    "        c = n % 10;\n",
    "        if(c % 2 != 0){\n",
    "            ok = 1;\n",
    "            if(c > maxi)\n",
    "                maxi = c;\n",
    "        }\n",
    "        n = n / 10;\n",
    "    }\n",
    "    if(ok == 0) return -1;\n",
    "    return maxi;\n",
    "}"
   ]
  },
  {
   "cell_type": "code",
   "execution_count": null,
   "id": "c2117391",
   "metadata": {
    "vscode": {
     "languageId": "cpp"
    }
   },
   "outputs": [],
   "source": [
    "//ex - 2\n",
    "#include <iostream>\n",
    "#include <cstring>\n",
    "using namespace std;\n",
    "char s[101], t[201];\n",
    "\n",
    "int main(){\n",
    "    int gasit = 0;\n",
    "    cin.getline(s,101);\n",
    "    char *p = strtok(s,\" \");\n",
    "    while(p != NULL){\n",
    "        int ok = 1;\n",
    "        for(int i = 0; i < strlen(p); i++)\n",
    "            if(strchr(\"aeiou\", p[i]) == 0){\n",
    "                ok = 0;\n",
    "                break;\n",
    "            }\n",
    "        strcat(t, p);\n",
    "        strcat(t,\" \");\n",
    "        if(ok == 1)\n",
    "        {\n",
    "            gasit = 1;\n",
    "            strcat(t, p);\n",
    "            strcat(t,\" \");\n",
    "        } \n",
    "        p = strtok(NULL, \" \");\n",
    "    }\n",
    "    if(gasit == 0) \n",
    "        cout << \"nu exista\";\n",
    "    else\n",
    "        cout << t;\n",
    "        \n",
    "    return 0;\n",
    "}"
   ]
  },
  {
   "cell_type": "code",
   "execution_count": null,
   "id": "0353d1b0",
   "metadata": {
    "vscode": {
     "languageId": "plaintext"
    }
   },
   "outputs": [],
   "source": [
    "//ex - 3 - a\n",
    "Am proiectat un algoritm eficient din punct de vedere al memoriei, folosind doar un vector de frecventa.\n",
    "Am proiectat un algoritm eficient din punct de vedere al timpului, folosind o abordare liniara.\n",
    "Citim sirul de numere si punem in vectorul de frecventa valoarea 1 (valoarea x se gaseste). Citim perechile din fisier, parcurgem intervalul si daca gasim o valoarea din interval care\n",
    "este diferita de 0, atunci inseamna ca nu este un interval bun. Daca nu gasim contorizam perechea."
   ]
  },
  {
   "cell_type": "code",
   "execution_count": null,
   "id": "a75feff8",
   "metadata": {
    "vscode": {
     "languageId": "cpp"
    }
   },
   "outputs": [],
   "source": [
    "//ex - 3 - b\n",
    "#include <iostream>\n",
    "#include <fstream>\n",
    "using namespace std;\n",
    "ifstream fin(\"bac.txt\");\n",
    "int fr[1001];\n",
    "int main(){\n",
    "    int n, x, ok, y, cnt = 0;\n",
    "    \n",
    "    fin >> n; \n",
    "    for(int i = 1; i <= n; i++)\n",
    "    {\n",
    "        fin >> x;\n",
    "        fr[x]++;\n",
    "    }\n",
    "    while(fin >> x >> y){\n",
    "        ok = 1;\n",
    "        for(int i = x; i <= y; i++)\n",
    "            if(fr[i] != 0){\n",
    "                ok = 0;\n",
    "                break;\n",
    "            }\n",
    "        if(ok == 1)\n",
    "            cnt++;\n",
    "    }\n",
    "    cout << cnt; \n",
    "    \n",
    "    fin.close();\n",
    "}"
   ]
  }
 ],
 "metadata": {
  "language_info": {
   "name": "python"
  }
 },
 "nbformat": 4,
 "nbformat_minor": 5
}
