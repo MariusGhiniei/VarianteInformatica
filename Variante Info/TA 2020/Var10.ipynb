{
 "cells": [
  {
   "cell_type": "markdown",
   "id": "e8003119",
   "metadata": {
    "vscode": {
     "languageId": "plaintext"
    }
   },
   "source": [
    "Variante 2020/Testul 10"
   ]
  },
  {
   "cell_type": "markdown",
   "id": "106c7859",
   "metadata": {
    "vscode": {
     "languageId": "plaintext"
    }
   },
   "source": [
    "Subiectul 1"
   ]
  },
  {
   "cell_type": "code",
   "execution_count": null,
   "id": "f9fbf261",
   "metadata": {
    "vscode": {
     "languageId": "plaintext"
    }
   },
   "outputs": [],
   "source": [
    "1. d {Pentru multiplu folosim 20 %(20/x) == 0}\n",
    "2. b {Recursivitate - int}\n",
    "3. c {Bkt pe multime, luam separat pt fiecare cifra cazurile}\n",
    "4. a {Arbore cu frunze}\n",
    "5. c {Subgrafuri pe graf orientat}"
   ]
  },
  {
   "cell_type": "markdown",
   "id": "76368d3b",
   "metadata": {
    "vscode": {
     "languageId": "plaintext"
    }
   },
   "source": [
    "Subiectul 2"
   ]
  },
  {
   "cell_type": "code",
   "execution_count": null,
   "id": "dcce2c2c",
   "metadata": {
    "vscode": {
     "languageId": "plaintext"
    }
   },
   "outputs": [],
   "source": [
    "1.  a) 60\n",
    "    b) 20 si 21"
   ]
  },
  {
   "cell_type": "code",
   "execution_count": null,
   "id": "2b184cd8",
   "metadata": {
    "vscode": {
     "languageId": "cpp"
    }
   },
   "outputs": [],
   "source": [
    "//c)\n",
    "#include <iostream>\n",
    "using namespace std;\n",
    "\n",
    "int main()\n",
    "{\t\n",
    "    int x, y, i, j, s, aux;\n",
    "\tcin >> x >> y;\n",
    "\tif(x > y) {\n",
    "\t    aux = x;\n",
    "\t    x = y; \n",
    "\t    y = aux;\n",
    "\t}\n",
    "\ti = x;\n",
    "\tj = y;\n",
    "\ts = 0;\n",
    "\tdo {\n",
    "\t\ts = s + i % 2 * j + j % 2 * i;\n",
    "\t\ti = i + 1;\n",
    "\t\tj = j - 1;\n",
    "\t} while(i <= j);\n",
    "\n",
    "\tcout << s;\n",
    "\t\n",
    "\treturn 0;\n",
    "}\n"
   ]
  },
  {
   "cell_type": "code",
   "execution_count": null,
   "id": "5d15e4d2",
   "metadata": {
    "vscode": {
     "languageId": "plaintext"
    }
   },
   "outputs": [],
   "source": [
    "d)\n",
    "citește x,y  (numere naturale nenule) \n",
    "┌dacă x > y atunci  \n",
    "| x <-> y \n",
    "└■ \n",
    " i <- x; j <- y; s <- 0\n",
    " s <- s+(i%2)*j+(j%2)*i \n",
    " i <- i+1; j <- j-1 \n",
    " \n",
    "┌cat timp i <= j executa\n",
    "| s <- s+(i%2)*j+(j%2)*i \n",
    "│ i <- i+1; j <- j-1 \n",
    "└■\n",
    " scrie s "
   ]
  },
  {
   "cell_type": "code",
   "execution_count": null,
   "id": "14c3d729",
   "metadata": {
    "vscode": {
     "languageId": "plaintext"
    }
   },
   "outputs": [],
   "source": [
    "2. \n",
    "    "
   ]
  },
  {
   "cell_type": "code",
   "execution_count": null,
   "id": "0da25111",
   "metadata": {
    "vscode": {
     "languageId": "plaintext"
    }
   },
   "outputs": [],
   "source": [
    "3.\n",
    "    "
   ]
  },
  {
   "cell_type": "code",
   "execution_count": null,
   "id": "d569e94e",
   "metadata": {
    "vscode": {
     "languageId": "plaintext"
    }
   },
   "outputs": [],
   "source": [
    "Subiectul 3"
   ]
  },
  {
   "cell_type": "code",
   "execution_count": null,
   "id": "c1234029",
   "metadata": {
    "vscode": {
     "languageId": "plaintext"
    }
   },
   "outputs": [],
   "source": [
    "//ex1"
   ]
  },
  {
   "cell_type": "code",
   "execution_count": null,
   "id": "d1eb973d",
   "metadata": {
    "vscode": {
     "languageId": "plaintext"
    }
   },
   "outputs": [],
   "source": [
    "//ex2"
   ]
  },
  {
   "cell_type": "code",
   "execution_count": null,
   "id": "c4b5dd65",
   "metadata": {
    "vscode": {
     "languageId": "plaintext"
    }
   },
   "outputs": [],
   "source": [
    "//ex3"
   ]
  }
 ],
 "metadata": {
  "language_info": {
   "name": "python"
  }
 },
 "nbformat": 4,
 "nbformat_minor": 5
}
