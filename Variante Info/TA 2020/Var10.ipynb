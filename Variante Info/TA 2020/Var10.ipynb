{
 "cells": [
  {
   "cell_type": "markdown",
   "id": "e8003119",
   "metadata": {
    "vscode": {
     "languageId": "plaintext"
    }
   },
   "source": [
    "Variante 2020/Testul 10"
   ]
  },
  {
   "cell_type": "markdown",
   "id": "106c7859",
   "metadata": {
    "vscode": {
     "languageId": "plaintext"
    }
   },
   "source": [
    "Subiectul 1"
   ]
  },
  {
   "cell_type": "code",
   "execution_count": null,
   "id": "f9fbf261",
   "metadata": {
    "vscode": {
     "languageId": "plaintext"
    }
   },
   "outputs": [],
   "source": [
    "1. d {Pentru multiplu folosim 20 %(20/x) == 0}\n",
    "2. b {Recursivitate - int}\n",
    "3. c {Bkt pe multime, luam separat pt fiecare cifra cazurile}\n",
    "4. a {Arbore cu frunze}\n",
    "5. c {Subgrafuri pe graf orientat}"
   ]
  },
  {
   "cell_type": "markdown",
   "id": "76368d3b",
   "metadata": {
    "vscode": {
     "languageId": "plaintext"
    }
   },
   "source": [
    "Subiectul 2"
   ]
  },
  {
   "cell_type": "code",
   "execution_count": null,
   "id": "dcce2c2c",
   "metadata": {
    "vscode": {
     "languageId": "plaintext"
    }
   },
   "outputs": [],
   "source": [
    "1.  a) 60\n",
    "    b) 20 si 21"
   ]
  },
  {
   "cell_type": "code",
   "execution_count": null,
   "id": "2b184cd8",
   "metadata": {
    "vscode": {
     "languageId": "cpp"
    }
   },
   "outputs": [],
   "source": [
    "//c)\n",
    "#include <iostream>\n",
    "using namespace std;\n",
    "\n",
    "int main()\n",
    "{\t\n",
    "    int x, y, i, j, s, aux;\n",
    "\tcin >> x >> y;\n",
    "\tif(x > y) {\n",
    "\t    aux = x;\n",
    "\t    x = y; \n",
    "\t    y = aux;\n",
    "\t}\n",
    "\ti = x;\n",
    "\tj = y;\n",
    "\ts = 0;\n",
    "\tdo {\n",
    "\t\ts = s + i % 2 * j + j % 2 * i;\n",
    "\t\ti = i + 1;\n",
    "\t\tj = j - 1;\n",
    "\t} while(i <= j);\n",
    "\n",
    "\tcout << s;\n",
    "\t\n",
    "\treturn 0;\n",
    "}\n"
   ]
  },
  {
   "cell_type": "code",
   "execution_count": null,
   "id": "5d15e4d2",
   "metadata": {
    "vscode": {
     "languageId": "plaintext"
    }
   },
   "outputs": [],
   "source": [
    "d)\n",
    "citește x,y  (numere naturale nenule) \n",
    "┌dacă x > y atunci  \n",
    "| x <-> y \n",
    "└■ \n",
    " i <- x; j <- y; s <- 0\n",
    " s <- s+(i%2)*j+(j%2)*i \n",
    " i <- i+1; j <- j-1 \n",
    " \n",
    "┌cat timp i <= j executa\n",
    "| s <- s+(i%2)*j+(j%2)*i \n",
    "│ i <- i+1; j <- j-1 \n",
    "└■\n",
    " scrie s "
   ]
  },
  {
   "cell_type": "code",
   "execution_count": null,
   "id": "14c3d729",
   "metadata": {
    "vscode": {
     "languageId": "cpp"
    }
   },
   "outputs": [],
   "source": [
    "2.\n",
    "    struct spectacol{\n",
    "        int cod;\n",
    "        int nrActori;\n",
    "        int varsta[10];\n",
    "    }s[20];\n",
    "\n",
    "    "
   ]
  },
  {
   "cell_type": "code",
   "execution_count": null,
   "id": "0da25111",
   "metadata": {
    "vscode": {
     "languageId": "cpp"
    }
   },
   "outputs": [],
   "source": [
    "3.\n",
    "for(int j = 0; j < 5; j++)\n",
    "        a[0][j] = 5 - j;\n",
    "    for(int i = 1; i < 4; i++)\n",
    "        for(int j = 0; j < 5; j++)\n",
    "            a[i][j] = a[i-1][j] + 5;\n",
    "    "
   ]
  },
  {
   "cell_type": "markdown",
   "id": "d569e94e",
   "metadata": {
    "vscode": {
     "languageId": "plaintext"
    }
   },
   "source": [
    "Subiectul 3"
   ]
  },
  {
   "cell_type": "code",
   "execution_count": null,
   "id": "c1234029",
   "metadata": {
    "vscode": {
     "languageId": "cpp"
    }
   },
   "outputs": [],
   "source": [
    "//ex1\n",
    "void produs(int n, int &p)\n",
    "{\tp = 1;\n",
    "    int fr[10] = {0}, c;\n",
    "    while(n != 0){\n",
    "        c = n % 10;\n",
    "        fr[c]++;\n",
    "        n = n / 10;\n",
    "    }\n",
    "    for(int i = 0; i < 10; i++)\n",
    "        if(i % 2 == 0 && fr[i] > 0)\n",
    "            p = p * i;\n",
    "    if(p == 1)\n",
    "        p = -1;\n",
    "\t\n",
    "}"
   ]
  },
  {
   "cell_type": "code",
   "execution_count": null,
   "id": "d1eb973d",
   "metadata": {
    "vscode": {
     "languageId": "c"
    }
   },
   "outputs": [],
   "source": [
    "//ex2\n",
    "#include <iostream>\n",
    "#include <cstring>\n",
    "using namespace std;\n",
    "char s[101], t[201];\n",
    "int main(){\n",
    "    int ok = 0;\n",
    "    cin.getline(s,101);\n",
    "    char *p = strtok(s,\" \");\n",
    "    char *q = strtok(NULL, \" \");\n",
    "    while(q != NULL){\n",
    "        strcat(t, p);\n",
    "        strcat(t, \" \");\n",
    "        if(p[strlen(p) - 1] == q[strlen(q) - 1]){\n",
    "            strcat(t, \"succes\");\n",
    "            strcat(t, \" \");\n",
    "        }\n",
    "        strcpy(p, q);\n",
    "        q = strtok(NULL, \" \");\n",
    "    }\n",
    "    strcat(t, p);\n",
    "    cout << t;\n",
    "}"
   ]
  },
  {
   "cell_type": "code",
   "execution_count": null,
   "id": "c4b5dd65",
   "metadata": {
    "vscode": {
     "languageId": "cpp"
    }
   },
   "outputs": [],
   "source": [
    "//ex3 a)\n",
    "#include <iostream>\n",
    "#include <fstream>\n",
    "using namespace std;\n",
    "\n",
    "ifstream fin(\"bac.txt\");\n",
    "int main(){\n",
    "    int x, y, z, r, lg = 0, lgmaxi = -1, rmaxi;\n",
    "    fin >> x >> y;\n",
    "    r = y - x;\n",
    "    lg = 2;\n",
    "    while(fin >> z){\n",
    "        if(z - y == r)\n",
    "            lg++;\n",
    "        else{\n",
    "            if(lg > lgmaxi){\n",
    "                lgmaxi = lg;\n",
    "                rmaxi = r;\n",
    "            } else if(lg == lgmaxi && r > rmaxi)\n",
    "                rmaxi = r;\n",
    "            lg = 2;\n",
    "            r = z - y;\n",
    "        }\n",
    "        y = z;\n",
    "    }\n",
    "    if(lg > lgmaxi){\n",
    "        lgmaxi = lg;\n",
    "        rmaxi = r;\n",
    "    }\n",
    "    if(lgmaxi < 3) cout << \"nu exista\";\n",
    "    else cout << rmaxi; \n",
    "}"
   ]
  },
  {
   "cell_type": "code",
   "execution_count": null,
   "id": "2a4f7219",
   "metadata": {
    "vscode": {
     "languageId": "cpp"
    }
   },
   "outputs": [],
   "source": [
    "//b)\n",
    "Am proiectat un algoritm eficient din punct de vedere al memoriei, folosind variabile de tip intreg, nefolosindu-ne de vectori.\n",
    "Am proiectul un algoritm eficient din punct de vedere al timpului, folosind o abordare liniara, rezolvand problema din citire.\n",
    "Citim prima pereche de numere, salvam ratia si lungimea cu 2. Continuam citirea de la al 3 -lea termen, daca diferenta dintre al treila si al doilea,\n",
    "este egala cu ratia salvata, crestem lungimea secventei, altfel comparam lungimea curenta cu lungimea maxima si actualizam lgmaxi si rmaxi dupa caz.\n",
    "Tratam cazul in care secventa este pana la finalul sirulului de numere si daca lgmaxi < 3 atunci nu am gasit un sir care se afla in progresie aritmetica."
   ]
  }
 ],
 "metadata": {
  "language_info": {
   "name": "python"
  }
 },
 "nbformat": 4,
 "nbformat_minor": 5
}
