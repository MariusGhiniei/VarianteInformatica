{
 "cells": [
  {
   "cell_type": "markdown",
   "id": "f7b268b3",
   "metadata": {
    "vscode": {
     "languageId": "plaintext"
    }
   },
   "source": [
    "Variante 2020/Testul 13"
   ]
  },
  {
   "cell_type": "markdown",
   "id": "0cd4ab57",
   "metadata": {
    "vscode": {
     "languageId": "plaintext"
    }
   },
   "source": [
    "Subiectul 1"
   ]
  },
  {
   "cell_type": "code",
   "execution_count": null,
   "id": "96a054be",
   "metadata": {
    "vscode": {
     "languageId": "plaintext"
    }
   },
   "outputs": [],
   "source": [
    "1. a { ! - neaga}\n",
    "2. d {int - recursiv}\n",
    "3. a {bkt - multime de cifre}\n",
    "4. c {nr de frunze - nodurile care nu mai au fii}\n",
    "5. b {graf complet - nu se mai pot adauga muchii}"
   ]
  },
  {
   "cell_type": "code",
   "execution_count": null,
   "id": "77ba849b",
   "metadata": {
    "vscode": {
     "languageId": "plaintext"
    }
   },
   "outputs": [],
   "source": [
    "Subiectul 2"
   ]
  },
  {
   "cell_type": "code",
   "execution_count": null,
   "id": "0e538a1b",
   "metadata": {
    "vscode": {
     "languageId": "plaintext"
    }
   },
   "outputs": [],
   "source": [
    "1.  a)  10375 \n",
    "    b)  Numerele care pot fi scrise ca in urma algoritmului sa se afiseze 10, dupa ce n ia valoarea 100 sunt 1010, 2010, 3010"
   ]
  },
  {
   "cell_type": "code",
   "execution_count": null,
   "id": "0f2c751b",
   "metadata": {
    "vscode": {
     "languageId": "cpp"
    }
   },
   "outputs": [],
   "source": [
    "//c)\n",
    "#include <iostream>\n",
    "using namespace std;\n",
    "int main()\n",
    "{\tint n, p, m, k, x, i, c;\n",
    "\tcin >> n;\n",
    "\tp = 1; m = 0; k = 0;\n",
    "\twhile(n != 0) {\n",
    "\t\tcin >> x;\n",
    "\t\ti = k;\n",
    "\t\twhile(i != 0) {\n",
    "\t\t\tx = x / 10;\n",
    "\t\t\ti = i - 1;\n",
    "\t\t}\n",
    "\t\tif(x == 0) \n",
    "\t\t\tc = n % 10;\n",
    "\t\t\telse {\n",
    "\t\t\t\tc = x % 10;\n",
    "\t\t\t}\n",
    "\t\tm = c * p + m; n = n / 10;\n",
    "\t\tp = p * 10; k = k + 1;\n",
    "\t}\n",
    "\tcout << m;\n",
    "\treturn 0;\n",
    "}"
   ]
  },
  {
   "cell_type": "code",
   "execution_count": null,
   "id": "0d79c2a5",
   "metadata": {
    "vscode": {
     "languageId": "plaintext"
    }
   },
   "outputs": [],
   "source": [
    "d)\n",
    "citeşte n (număr natural) \n",
    "p <- 1; m <- 0; k <- 0 \n",
    "┌cât timp n≠0 execută \n",
    "│ citește x (număr natural) \n",
    "│ i <- k\n",
    "| x <- [x/p]; \n",
    "│┌dacă x=0 atunci c <- n%10 \n",
    "││altfel c <- x%10 \n",
    "│└■ \n",
    "│ m <- c*p+m; n <- [n/10] \n",
    "│ p <- p*10; k <- k+1 \n",
    "└■ \n",
    "scrie m "
   ]
  },
  {
   "cell_type": "code",
   "execution_count": null,
   "id": "d5ab373a",
   "metadata": {
    "vscode": {
     "languageId": "cpp"
    }
   },
   "outputs": [],
   "source": [
    "2.\n",
    "struct cerc{\n",
    " \tint raza;\n",
    "\tstruct{\n",
    "\t    int x;\n",
    "\t    int y;\n",
    "\t}centru;\n",
    "}c;"
   ]
  },
  {
   "cell_type": "code",
   "execution_count": null,
   "id": "979d54d8",
   "metadata": {
    "vscode": {
     "languageId": "plaintext"
    }
   },
   "outputs": [],
   "source": [
    "3.\n",
    "    ou \n",
    "    rosu"
   ]
  },
  {
   "cell_type": "code",
   "execution_count": null,
   "id": "a110624f",
   "metadata": {
    "vscode": {
     "languageId": "plaintext"
    }
   },
   "outputs": [],
   "source": [
    "Subiectul 3"
   ]
  },
  {
   "cell_type": "code",
   "execution_count": null,
   "id": "58e1b0b9",
   "metadata": {
    "vscode": {
     "languageId": "plaintext"
    }
   },
   "outputs": [],
   "source": [
    "//ex 1"
   ]
  },
  {
   "cell_type": "code",
   "execution_count": null,
   "id": "aff1aef9",
   "metadata": {
    "vscode": {
     "languageId": "plaintext"
    }
   },
   "outputs": [],
   "source": [
    "//ex 2"
   ]
  },
  {
   "cell_type": "code",
   "execution_count": null,
   "id": "200183cb",
   "metadata": {
    "vscode": {
     "languageId": "plaintext"
    }
   },
   "outputs": [],
   "source": [
    "//ex 3 - a"
   ]
  },
  {
   "cell_type": "code",
   "execution_count": null,
   "id": "32286cd8",
   "metadata": {
    "vscode": {
     "languageId": "plaintext"
    }
   },
   "outputs": [],
   "source": [
    "//ex 3 - b"
   ]
  }
 ],
 "metadata": {
  "language_info": {
   "name": "python"
  }
 },
 "nbformat": 4,
 "nbformat_minor": 5
}
