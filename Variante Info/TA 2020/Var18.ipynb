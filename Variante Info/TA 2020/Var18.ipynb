{
 "cells": [
  {
   "cell_type": "markdown",
   "id": "27095682",
   "metadata": {
    "vscode": {
     "languageId": "plaintext"
    }
   },
   "source": [
    "Variante 2020 / Testul 18"
   ]
  },
  {
   "cell_type": "markdown",
   "id": "9b436bd8",
   "metadata": {
    "vscode": {
     "languageId": "plaintext"
    }
   },
   "source": [
    "Subiectul 1"
   ]
  },
  {
   "cell_type": "code",
   "execution_count": null,
   "id": "aa38212d",
   "metadata": {
    "vscode": {
     "languageId": "plaintext"
    }
   },
   "outputs": [],
   "source": [
    "1. d {divizor -> se imparte exact}\n",
    "2. c {diag principala => i == j}\n",
    "3. a {bkt pe multime de cuvinte}\n",
    "4. d {arbore cu radacina}\n",
    "5. b {grafuri partiale}"
   ]
  },
  {
   "cell_type": "markdown",
   "id": "240b29d2",
   "metadata": {
    "vscode": {
     "languageId": "plaintext"
    }
   },
   "source": [
    "Subiectul 2"
   ]
  },
  {
   "cell_type": "code",
   "execution_count": null,
   "id": "a6e27a91",
   "metadata": {
    "vscode": {
     "languageId": "plaintext"
    }
   },
   "outputs": [],
   "source": [
    "1.  a) 3 2 1 1 2 3 2 1 1 2\n",
    "    b) pentru a se afisa ultima valoarea 20, numerele care se vor scrie sunt n=2 k=21 si n=3 k=22"
   ]
  },
  {
   "cell_type": "code",
   "execution_count": null,
   "id": "b22621ed",
   "metadata": {
    "vscode": {
     "languageId": "cpp"
    }
   },
   "outputs": [],
   "source": [
    "//c)\n",
    "#include <iostream>\n",
    "using namespace std;\n",
    "int main(){ \n",
    "    int n,k;\n",
    "    cin >> n >> k;\n",
    "    for(int i = 1; i <= n; i++){\n",
    "        for(int j = k; j >= 1; j--){\n",
    "            cout << j << \" \";\n",
    "        }\n",
    "        for(int j = 1; j <= k; j++){\n",
    "            cout << j << \" \";\n",
    "        }\n",
    "        k = k - 1;\n",
    "    }\n",
    "    return 0;\n",
    "}"
   ]
  },
  {
   "cell_type": "code",
   "execution_count": null,
   "id": "c4afe38d",
   "metadata": {
    "vscode": {
     "languageId": "plaintext"
    }
   },
   "outputs": [],
   "source": [
    "d)\n",
    " citește n,k (numere naturale nenule)\n",
    " i <- 1; \n",
    "┌cat timp i <= n execută\n",
    "| i <- i + 1;\n",
    "│┌pentru j <- k,1,-1 execută \n",
    "││ scrie j,' ' \n",
    "│└■ \n",
    "│┌pentru j <- 1,k execută \n",
    "││ scrie j,' ' \n",
    "│└■ \n",
    "│ k <- k - 1 \n",
    "└■"
   ]
  },
  {
   "cell_type": "code",
   "execution_count": null,
   "id": "58e02b96",
   "metadata": {
    "vscode": {
     "languageId": "plaintext"
    }
   },
   "outputs": [],
   "source": [
    "2. Pentru f(0) se va afisa 0, iar pentru f(23575209) se va afisa 3"
   ]
  },
  {
   "cell_type": "code",
   "execution_count": null,
   "id": "eef73162",
   "metadata": {
    "vscode": {
     "languageId": "plaintext"
    }
   },
   "outputs": [],
   "source": [
    "3. Componente conexe 4 si numar maxim de noduri 2"
   ]
  },
  {
   "cell_type": "markdown",
   "id": "bbc54265",
   "metadata": {
    "vscode": {
     "languageId": "plaintext"
    }
   },
   "source": [
    "Subiectul 3"
   ]
  },
  {
   "cell_type": "code",
   "execution_count": null,
   "id": "3518fcf9",
   "metadata": {
    "vscode": {
     "languageId": "cpp"
    }
   },
   "outputs": [],
   "source": [
    "// ex 1\n",
    "void suma(int n, int &s){\n",
    "    s = 0;\n",
    "    int fr[10] = {0};\n",
    "    while(n != 0){\n",
    "        int c = n % 10;\n",
    "        fr[c]++;\n",
    "        n = n / 10;\n",
    "    }\n",
    "    for(int i = 0; i < 10; i = i + 2)\n",
    "        if(fr[i] > 0)\n",
    "            s = s + i;\n",
    "}"
   ]
  },
  {
   "cell_type": "code",
   "execution_count": null,
   "id": "5183b95a",
   "metadata": {
    "vscode": {
     "languageId": "plaintext"
    }
   },
   "outputs": [],
   "source": [
    "// ex 2"
   ]
  },
  {
   "cell_type": "code",
   "execution_count": null,
   "id": "ffe1fec5",
   "metadata": {
    "vscode": {
     "languageId": "plaintext"
    }
   },
   "outputs": [],
   "source": [
    "// ex 3 - a"
   ]
  },
  {
   "cell_type": "code",
   "execution_count": null,
   "id": "3dbb8080",
   "metadata": {
    "vscode": {
     "languageId": "plaintext"
    }
   },
   "outputs": [],
   "source": [
    "// ex 3 - b"
   ]
  }
 ],
 "metadata": {
  "language_info": {
   "name": "python"
  }
 },
 "nbformat": 4,
 "nbformat_minor": 5
}
