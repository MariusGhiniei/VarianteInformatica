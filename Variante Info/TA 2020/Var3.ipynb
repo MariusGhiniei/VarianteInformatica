{
 "cells": [
  {
   "cell_type": "code",
   "execution_count": null,
   "metadata": {
    "vscode": {
     "languageId": "plaintext"
    }
   },
   "outputs": [],
   "source": [
    "Varianta 2020/ Testul 3\n",
    "\n",
    "Subiectul 1\n",
    "1. d { Operatorul && are prioritate fata de operatorul ||, !-> neaga totul, adica !(||) devine &&, iar !(&&) devine || , !(==) devine != si !(!=) devine == } \n",
    "2. b {Void - Recursiv, Desen de Arbore cu while}\n",
    "3. c {Backtracking - Submultime 5 elemente} \n",
    "4. a {Nodul cu valoarea 0 este radacina arborelui, ultimele de pe fiecare nivel}\n",
    "5. b { Un graf neorientat fără vârfuri izolate este eulerian dacă și numai dacă este conex și toate vârfurile au grad par.}\n",
    "\n",
    "Subiectul 2\n",
    "1.   a) 1 275 \n",
    "     b) 123( se afieaza 1 0) si 321 ( se afiseaza -1 0) \n",
    "     c)"
   ]
  },
  {
   "cell_type": "code",
   "execution_count": null,
   "metadata": {
    "vscode": {
     "languageId": "cpp"
    }
   },
   "outputs": [],
   "source": [
    "#include <iostream>\n",
    "using namespace std;\n",
    "\n",
    "int main(){\n",
    "    int c1,c2,n,s;\n",
    "    cin >> n;\n",
    "    c1 = n % 10; n = n / 10; c2 = n % 10;\n",
    "    if(c1 == c2) s = 0;\n",
    "    else if (c1 > c2) s = 1;\n",
    "    else s = -1;\n",
    "    \n",
    "    do{\n",
    "        c1 = n % 10; n = n / 10; c2 = n % 10; \n",
    "    }while((c1 - c2) * s > 0);\n",
    "    cout << s << \" \" << n;\n",
    "    \n",
    "    return 0;\n",
    "}"
   ]
  },
  {
   "cell_type": "code",
   "execution_count": null,
   "metadata": {
    "vscode": {
     "languageId": "plaintext"
    }
   },
   "outputs": [],
   "source": [
    "d) \n",
    "    citeste n\n",
    "    c1 <- n % 10\n",
    "    n <- n / 10\n",
    "    c2 <- n % 10\n",
    "    daca c1 = c2 atunci s <- 0\n",
    "    altfel daca c1 > c2 atunci s <- 1\n",
    "    altfel s <- -1\n",
    "\n",
    "    c1 <- n % 10\n",
    "    n <- n / 10\n",
    "    c2 <- n % 10\n",
    "\n",
    "    cat timp (c1 - c2) * s > 0 executa\n",
    "        c1 <- n % 10\n",
    "        n <- n / 10\n",
    "        c2 <- n % 10\n",
    "    sfarsit cat timp\n",
    "\n",
    "    scrie s, ' ', n"
   ]
  },
  {
   "cell_type": "code",
   "execution_count": null,
   "metadata": {
    "vscode": {
     "languageId": "cpp"
    }
   },
   "outputs": [],
   "source": [
    "// ex 2\n",
    "// Metoda 1 \n",
    "struct punct {\n",
    "    int x, y;\n",
    "};\n",
    "\n",
    "struct cerc {\n",
    "    punct centru;\n",
    "    int raza;\n",
    "}fig;\n",
    "//Metoda 2\n",
    "struct cerc{\n",
    "    int raza;\n",
    "    struct{\n",
    "        int x,y;\n",
    "    }centru;\n",
    "}fig;"
   ]
  },
  {
   "cell_type": "code",
   "execution_count": null,
   "metadata": {
    "vscode": {
     "languageId": "cpp"
    }
   },
   "outputs": [],
   "source": [
    "//ex 3\n",
    "for(int p = 1; p < strlen(s) - 1; p++)\n",
    "    if((s[p] == 'A' && s[p-1] == 'I') || (s[p] == 'A' && s[p+1] == 'I'))\n",
    "        strcpy(s+p, s+p+1); //sterg caracterul de pe pozitia p;\n",
    "        "
   ]
  },
  {
   "cell_type": "code",
   "execution_count": null,
   "metadata": {
    "vscode": {
     "languageId": "cpp"
    }
   },
   "outputs": [],
   "source": [
    "Subiectul 3"
   ]
  },
  {
   "cell_type": "code",
   "execution_count": null,
   "metadata": {
    "vscode": {
     "languageId": "cpp"
    }
   },
   "outputs": [],
   "source": [
    "//Ex 1\n",
    "//Metoda 1\n",
    "int factori(int n, int m) {\n",
    "    int cnt=0;\n",
    "    for (int p=2; p<=n && p<=m; p++) {\n",
    "        if (n%p ==0 && m%p==0) {\n",
    "            cnt++;\n",
    "            while (n%p == 0) n=n/p;\n",
    "            while (m%p == 0) m=m/p;\n",
    "        }\n",
    "    }\n",
    "    return cnt;\n",
    "}\n",
    "//Metoda 2\n",
    "int factori(int n, int m){\n",
    "    int cnt = 0, d = 2;\n",
    "    while(n > 1 && m > 1){\n",
    "        if(n % d == 0){\n",
    "            int pn = 0, pm = 0;\n",
    "            while(n % d == 0){\n",
    "                pn++; \n",
    "                n = n / d;\n",
    "            }\n",
    "            while(m % d == 0){\n",
    "                pm++;\n",
    "                m = m / d;\n",
    "            }\n",
    "            if(pn*pm != 0) // pn > 0 si pm > 0\n",
    "                cnt++;\n",
    "        }\n",
    "        d++;\n",
    "    }\n",
    "    return cnt;\n",
    "}\n"
   ]
  },
  {
   "cell_type": "code",
   "execution_count": null,
   "metadata": {
    "vscode": {
     "languageId": "cpp"
    }
   },
   "outputs": [],
   "source": [
    "//ex 2\n",
    "#include <iostream>\n",
    "using namespace std;\n",
    "int a[21][21]={0};\n",
    "int main() {\n",
    "    int n;\n",
    "    cin >> n;\n",
    "    for (int i=1; i <=n; i++) {\n",
    "        for (int j=1; j <=n; j++) {\n",
    "            if (i+j == n+1) {\n",
    "                a[i][j]=0;\n",
    "            } else if (i+j<n+1) {\n",
    "                a[i][j] = (n+1) - (i+j);\n",
    "            } else {\n",
    "                a[i][j] = (i+j) - (n+1);\n",
    "            }\n",
    "        }\n",
    "    }\n",
    "\n",
    "    for (int i=1; i <=n; i++) {\n",
    "        for (int j=1; j<=n; j++) {\n",
    "            cout<<a[i][j]<< \" \";\n",
    "        }\n",
    "        cout<<endl;\n",
    "    }\n",
    "\n",
    "    return 0;\n",
    "}"
   ]
  },
  {
   "cell_type": "code",
   "execution_count": null,
   "metadata": {
    "vscode": {
     "languageId": "cpp"
    }
   },
   "outputs": [],
   "source": [
    "//ex 3\n",
    "// a)\n",
    "#include <iostream>\n",
    "#include <fstream>\n",
    "using namespace std;\n",
    "ifstream fin(\"bac.in\");\n",
    "int v[1000001];\n",
    "int main(){\n",
    "    int lg = 1, lgmax = 0, x, n = 0;\n",
    "    \n",
    "    while(fin >> x){\n",
    "        v[++n] = x; //construiesc vectorul v, v[++n] = incrementez n si apoi atribui lui v[n] valoarea x\n",
    "    }\n",
    "    for(int i = 1; i <= n; i++){\n",
    "        if(v[i] < 0){\n",
    "            // caut ultimul termen pozitiv\n",
    "            int j = n;\n",
    "            while(v[j] < 0 && j >= i) \n",
    "                j--;\n",
    "            if(v[j] >= 0) \n",
    "                lg = j - i + 1;\n",
    "            if(lg > lgmax)\n",
    "                lgmax = lg;\n",
    "        }\n",
    "        else{\n",
    "            // caut ultimul termen negativ\n",
    "            int j = n;\n",
    "            while(v[j] >= 0 && j >= i) \n",
    "                j--;\n",
    "            if(v[j] < 0) \n",
    "                lg = j - i + 1;\n",
    "            if(lg > lgmax) \n",
    "                lgmax = lg;\n",
    "        }\n",
    "    }\n",
    "   cout << lgmax;\n",
    "}"
   ]
  },
  {
   "cell_type": "code",
   "execution_count": null,
   "metadata": {
    "vscode": {
     "languageId": "plaintext"
    }
   },
   "outputs": [],
   "source": [
    "ex 3) b\n",
    "3)a \n",
    "Am proiectat un algoritm eficeint din punct de vedere al memoriei, folosind un vector pentru a salva elementele din secventa.\n",
    "Am proiectul un algoritm eficient din punct de vedere al timpului, folosind un algoritm de secvente. Complexitatea este O(n^2).\n",
    "Problema are 2 cazuri, daca numarul curent este poztiv, atunci caut cel mai din dreapta element negativ si actualizez lungimea secventei, dupa caz\n",
    "si lungimea maxima. Daca numarul curent este negativ, atunci caut cel mai din dreapta element pozitiv si actualizez lungimea secventei, dupa caz\n",
    "si lungimea maxima."
   ]
  }
 ],
 "metadata": {
  "language_info": {
   "name": "python"
  }
 },
 "nbformat": 4,
 "nbformat_minor": 2
}
