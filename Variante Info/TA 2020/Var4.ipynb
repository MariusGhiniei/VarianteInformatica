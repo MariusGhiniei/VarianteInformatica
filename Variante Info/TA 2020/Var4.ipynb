{
 "cells": [
  {
   "cell_type": "markdown",
   "metadata": {
    "vscode": {
     "languageId": "plaintext"
    }
   },
   "source": [
    "Varianta 2020/ Testul 4\n",
    "\n",
    "Subiectul 1"
   ]
  },
  {
   "cell_type": "code",
   "execution_count": null,
   "metadata": {
    "vscode": {
     "languageId": "plaintext"
    }
   },
   "outputs": [],
   "source": [
    "\n",
    "1. a { Operatorul && are prioritate fata de operatorul ||, !-> neaga totul, adica !(||) devine &&, iar !(&&) devine || , !(==) devine != si !(!=) devine == } \n",
    "2. b {Int - Recursiv in recursiv}\n",
    "3. d {Backtracking - 3 submultimi de cate 3 elemente} \n",
    "4. c {Inaltimea arborelui este cel mai lant elementar(nu am voie sa dublez nodurile)}\n",
    "5. b {Un graf neorientat fără vârfuri izolate conține un lanț eulerian, dacă și numai dacă este conex și toate vârfurile au grad par,\n",
    "      mai puțin două. Aceste vârfuri vor fi extremitățile lanțului eulerian.}"
   ]
  },
  {
   "cell_type": "markdown",
   "metadata": {
    "vscode": {
     "languageId": "plaintext"
    }
   },
   "source": [
    "\n",
    "Subiectul 2"
   ]
  },
  {
   "cell_type": "code",
   "execution_count": null,
   "metadata": {
    "vscode": {
     "languageId": "plaintext"
    }
   },
   "outputs": [],
   "source": [
    "\n",
    "1.  a) 3334\n",
    "    b) 1015, 1016, 1017"
   ]
  },
  {
   "cell_type": "code",
   "execution_count": null,
   "metadata": {
    "vscode": {
     "languageId": "cpp"
    }
   },
   "outputs": [],
   "source": [
    "//c)\n",
    "#include <iostream>\n",
    "using namespace std;\n",
    "\n",
    "int main() {\n",
    "\tint n,c1,c2,aux;\n",
    "\tcin>>n;\n",
    "\n",
    "\tdo{\n",
    "\t\tc1 =n%10;\n",
    "\t\tn = n/10;\n",
    "\t\tc2=n%10;\n",
    "\t\t\n",
    "\t\tif (c1>c2) {\n",
    "\t\t\tc2 = c1;\n",
    "\t\t\tc1 = n % 10;\n",
    "\t\t}\n",
    "\n",
    "\t\twhile (c1<c2) {\n",
    "\t\t\tcout<<c1;\n",
    "\t\t\tc2=c2/2;\n",
    "\t\t}\n",
    "\t}while(n > 9);\n",
    "\t\n",
    "\treturn 0;\n",
    "}"
   ]
  },
  {
   "cell_type": "code",
   "execution_count": null,
   "metadata": {
    "vscode": {
     "languageId": "cpp"
    }
   },
   "outputs": [],
   "source": [
    "d) \n",
    "citește n  (număr natural)\n",
    "\n",
    "repetă\n",
    "    c1 ← n % 10\n",
    "    n ← n / 10\n",
    "    c2 ← n % 10\n",
    "\n",
    "    dacă c1 > c2 atunci\n",
    "        c2 ← c1\n",
    "        c1 ← n % 10\n",
    "    sfârșit dacă\n",
    "\n",
    "    daca c1 < c2 atunci\n",
    "        repetă\n",
    "            scrie c1\n",
    "            c2 ← c2 / 2\n",
    "        până când c1 ≥ c2\n",
    "    sfârșit dacă\n",
    "\n",
    "până când n ≤ 9"
   ]
  },
  {
   "cell_type": "code",
   "execution_count": null,
   "metadata": {
    "vscode": {
     "languageId": "cpp"
    }
   },
   "outputs": [],
   "source": [
    "2)\n",
    "    struct poliedru {\n",
    "        int NrVarfuri;\n",
    "        float Muchie;\n",
    "        struct {\n",
    "            float FataMuchie;\n",
    "            float FataFata;\n",
    "        }Unghi;\n",
    "    }p;"
   ]
  },
  {
   "cell_type": "code",
   "execution_count": null,
   "metadata": {
    "vscode": {
     "languageId": "cpp"
    }
   },
   "outputs": [],
   "source": [
    "3) opusqrdzdce "
   ]
  },
  {
   "cell_type": "markdown",
   "metadata": {
    "vscode": {
     "languageId": "cpp"
    }
   },
   "source": [
    "Subiectul 3"
   ]
  },
  {
   "cell_type": "code",
   "execution_count": null,
   "metadata": {
    "vscode": {
     "languageId": "cpp"
    }
   },
   "outputs": [],
   "source": [
    "//ex 1\n",
    "void generatoare(int n)\n",
    "{\tint ok = 0;\n",
    "\tfor(int a = 2; a < n; a = a + 2)\n",
    "\t\tfor(int b = n; b >= 1; b--)\n",
    "\t\t\tif(a * b + a / b == n) {\n",
    "\t\t\t\tcout << a << \"-\" << b << \" \";\n",
    "\t\t\t\tok = 1;\n",
    "\t\t\t}\n",
    "    if(ok == 0)\n",
    "        cout<<\"nu exista\";\n",
    "}"
   ]
  },
  {
   "cell_type": "code",
   "execution_count": null,
   "metadata": {
    "vscode": {
     "languageId": "cpp"
    }
   },
   "outputs": [],
   "source": [
    "//ex 2\n",
    "#include <iostream>\n",
    "using namespace std;\n",
    "int a[21][21];\n",
    "int main() {\n",
    "    int m, n, cnt = 0;\n",
    "    cin >> m >> n;\n",
    "\n",
    "    for (int i=1; i <= m; i++)\n",
    "        for (int j = 1; j <= n; j++)\n",
    "            cin >> a[i][j];\n",
    "\n",
    "    for(int j = 2; j <= n; j++){\n",
    "        int ok = 1;\n",
    "        for(int i = 1; i <= m; i++)\n",
    "            if(a[i][1] == a[i][j]){\n",
    "                ok = 0;\n",
    "                break;\n",
    "            }\n",
    "        if(ok == 1) cnt++;\n",
    "    }\n",
    "\n",
    "    cout << cnt;\n",
    "    return 0;\n",
    "}"
   ]
  },
  {
   "cell_type": "code",
   "execution_count": null,
   "metadata": {
    "vscode": {
     "languageId": "cpp"
    }
   },
   "outputs": [],
   "source": [
    "//ex 3\n",
    "#include <iostream>\n",
    "#include <fstream>\n",
    "using namespace std;\n",
    "ifstream fin(\"bac.txt\");\n",
    "int main() {\n",
    "    int x, y, ok = 0, lg = 1;\n",
    "    fin >> x;\n",
    "    while(fin >> y){\n",
    "        if(x == y) \n",
    "            lg++;\n",
    "        else if(lg == 2){\n",
    "            ok = 1;\n",
    "            cout << x << \" \";\n",
    "            lg = 1;\n",
    "        }else \n",
    "            lg = 1;\n",
    "        x = y;\n",
    "    }\n",
    "    if(lg == 2) cout << x;\n",
    "    else if(ok == 0) cout << \"nu exista\";\n",
    "\n",
    "    return 0;\n",
    "}"
   ]
  },
  {
   "cell_type": "code",
   "execution_count": null,
   "metadata": {
    "vscode": {
     "languageId": "cpp"
    }
   },
   "outputs": [],
   "source": [
    "//ex 3b\n",
    "Am proiectat un algoritm eficient din punct de vedere al memoriei, folosind 4 variabile de tip intreg, nefolosindu-ne de vectori.\n",
    "Am proiectul un algoritm eficient din punct de vedere al timpului, folosind o abordare liniara. Complexitatea problemei fiind O(n),\n",
    "unde n este numarul de numere din fisierul de intrare.\n",
    "Citesc primul numar, apoi pe rand numere. Daca numarul anterior este egal cu numarul citit, atunci cresc lungimea secventei. Daca numarul anterior\n",
    "este diferit de numarul citit atunci verific care este lungimea secventei de numere citite consecutiv egale. Daca ea este 2, atunci am o secventa buna\n",
    "si fac afisarea numarului respectiv, resetez dupa caz lungimea secventei la 1. Caz particular pentru ultima pereche de numere citite si abordarea\n",
    "cazului de nu exista."
   ]
  }
 ],
 "metadata": {
  "language_info": {
   "name": "python"
  }
 },
 "nbformat": 4,
 "nbformat_minor": 2
}
