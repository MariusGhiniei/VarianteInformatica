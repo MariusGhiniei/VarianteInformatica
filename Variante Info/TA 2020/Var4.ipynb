{
 "cells": [
  {
   "cell_type": "markdown",
   "metadata": {
    "vscode": {
     "languageId": "plaintext"
    }
   },
   "source": [
    "Varianta 2020/ Testul 4\n",
    "\n",
    "Subiectul 1"
   ]
  },
  {
   "cell_type": "code",
   "execution_count": null,
   "metadata": {
    "vscode": {
     "languageId": "plaintext"
    }
   },
   "outputs": [],
   "source": [
    "\n",
    "1. a { Operatorul && are prioritate fata de operatorul ||, !-> neaga totul, adica !(||) devine &&, iar !(&&) devine || , !(==) devine != si !(!=) devine == } \n",
    "2. b {Int - Recursiv in recursiv}\n",
    "3. d {Backtracking - 3 submultimi de cate 3 elemente} \n",
    "4. c {Inaltimea arborelui este cel mai lant elementar(nu am voie sa dublez nodurile)}\n",
    "5. b {Un graf neorientat fără vârfuri izolate conține un lanț eulerian, dacă și numai dacă este conex și toate vârfurile au grad par,\n",
    "      mai puțin două. Aceste vârfuri vor fi extremitățile lanțului eulerian.}"
   ]
  },
  {
   "cell_type": "markdown",
   "metadata": {
    "vscode": {
     "languageId": "plaintext"
    }
   },
   "source": [
    "\n",
    "Subiectul 2"
   ]
  },
  {
   "cell_type": "code",
   "execution_count": null,
   "metadata": {
    "vscode": {
     "languageId": "plaintext"
    }
   },
   "outputs": [],
   "source": [
    "\n",
    "1.   "
   ]
  }
 ],
 "metadata": {
  "language_info": {
   "name": "python"
  }
 },
 "nbformat": 4,
 "nbformat_minor": 2
}
