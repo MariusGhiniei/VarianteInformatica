{
 "cells": [
  {
   "cell_type": "markdown",
   "metadata": {
    "vscode": {
     "languageId": "plaintext"
    }
   },
   "source": [
    "Varianta 2020/ Testul 6"
   ]
  },
  {
   "cell_type": "markdown",
   "metadata": {
    "vscode": {
     "languageId": "plaintext"
    }
   },
   "source": [
    "Subiectul 1"
   ]
  },
  {
   "cell_type": "code",
   "execution_count": null,
   "metadata": {
    "vscode": {
     "languageId": "plaintext"
    }
   },
   "outputs": [],
   "source": [
    "1. c {! neaga toate conditiile}\n",
    "2. c {Bkt - pe multime}\n",
    "3. a {Intersecteaza Oy <=> una dintre abscise este negativa, iar cealalta negativa}\n",
    "4. d {Radacina este pe nivelul 0}\n",
    "5. b {Tare conex => intre oricare 2 varfuri x si y, respectiv y si x, am CEL PUTIN 1 drum}"
   ]
  },
  {
   "cell_type": "markdown",
   "metadata": {
    "vscode": {
     "languageId": "plaintext"
    }
   },
   "source": [
    "Subiectul 2"
   ]
  },
  {
   "cell_type": "code",
   "execution_count": null,
   "metadata": {
    "vscode": {
     "languageId": "plaintext"
    }
   },
   "outputs": [],
   "source": [
    "1.  a) 4\n",
    "    b) 19 si 20 "
   ]
  },
  {
   "cell_type": "code",
   "execution_count": null,
   "metadata": {
    "vscode": {
     "languageId": "cpp"
    }
   },
   "outputs": [],
   "source": [
    "//c)\n",
    "#include <iostream>\n",
    "using namespace std;\n",
    "int main()\n",
    "{\tint n, nr, x, y, r, i, j;\n",
    "\tcin >> n;\n",
    "\tnr = 0;\n",
    "\ti = 1;\n",
    "\twhile(i <= n) {\n",
    "\t\tx=0; y=1; j=1;\n",
    "\t\twhile(j<i) {\n",
    "\t\t\tr = 2 * x - y; x = y; y = r;\n",
    "\t\t\tj = j + 1;\n",
    "\t\t}\n",
    "\t\ti = i + 1;\n",
    "\t\tif(y > 0) {\n",
    "\t\t\tnr = nr + 1;\n",
    "\t\t}\n",
    "\t}\n",
    "\tcout << nr << \" \";\n",
    "\t\n",
    "\treturn 0;\n",
    "}"
   ]
  },
  {
   "cell_type": "markdown",
   "metadata": {
    "vscode": {
     "languageId": "cpp"
    }
   },
   "source": [
    "d)\n",
    "    citeste n (numar natural)\n",
    "    nr <- 0 \n",
    "    pentru i <- 1, n executa \n",
    "        x <- 0; y <- 1; j <- 1;\n",
    "        cat timp j < i executa\n",
    "            r <- 2 * x - y\n",
    "            x <- y\n",
    "            y <- r\n",
    "            j <- j + 1\n",
    "        sfarsit cat timp\n",
    "\n",
    "        daca y > 0 atunci\n",
    "            nr <- nr + 1\n",
    "        sfarsit daca \n",
    "    sfarsit pentru \n",
    "\n",
    "    scrie nr"
   ]
  },
  {
   "cell_type": "code",
   "execution_count": null,
   "metadata": {
    "vscode": {
     "languageId": "cpp"
    }
   },
   "outputs": [],
   "source": [
    "2. x1 = 6, x2 = 10"
   ]
  },
  {
   "cell_type": "code",
   "execution_count": null,
   "metadata": {
    "vscode": {
     "languageId": "cpp"
    }
   },
   "outputs": [],
   "source": [
    "3. //construiesc ulltima coloana -> j var \n",
    "for(int j = 0; j < 5; j++)\n",
    "    a[3][j] = j + 1;\n",
    "\n",
    "for(int i = 2; i >= 0; i--)\n",
    "    for(int j = 0; j < 5; j++)\n",
    "        a[i][j] = a[i+1][j] + 5;\n",
    "// afisarea - nu tb scrisa la bac\n",
    "for(int i = 0; i < 4; i++){\n",
    "    for(int j = 0; j < 5; j++)\n",
    "        cout << a[i][j] << \" \";\n",
    "    cout << endl;\n",
    "}"
   ]
  },
  {
   "cell_type": "markdown",
   "metadata": {
    "vscode": {
     "languageId": "cpp"
    }
   },
   "source": [
    "Subiectul 3"
   ]
  },
  {
   "cell_type": "code",
   "execution_count": null,
   "metadata": {
    "vscode": {
     "languageId": "cpp"
    }
   },
   "outputs": [],
   "source": [
    "//ex1\n",
    "void prodprim(int n, int &p) {\n",
    "    p = 1;\n",
    "    int d = 2;\n",
    "    while(n > 1){\n",
    "        if(n % d == 0){\n",
    "            while(n % d == 0) \n",
    "                n = n / d;\n",
    "            p = p * d;\n",
    "        }\n",
    "        d++;\n",
    "    }\n",
    "}"
   ]
  },
  {
   "cell_type": "code",
   "execution_count": null,
   "metadata": {
    "vscode": {
     "languageId": "cpp"
    }
   },
   "outputs": [],
   "source": [
    "//ex2\n",
    "#include <iostream>\n",
    "#include <cstring>\n",
    "using namespace std;\n",
    "char s[100];\n",
    "int main(){\n",
    "    cin.getline(s, 100);\n",
    "    char *p = strtok(s, \" \");\n",
    "    \n",
    "    while(p != NULL){\n",
    "        int v = 0, c = 0;\n",
    "        for(int i = 0; i < strlen(p); i++)\n",
    "            if(strchr(\"aeiou\", p[i]) != 0) v++;\n",
    "            else c++;\n",
    "        if(v < c) \n",
    "            cout << p << endl;\n",
    "        \n",
    "        p = strtok(NULL, \" \");\n",
    "    }\n",
    "    \n",
    "    return 0;\n",
    "}"
   ]
  },
  {
   "cell_type": "code",
   "execution_count": null,
   "metadata": {
    "vscode": {
     "languageId": "cpp"
    }
   },
   "outputs": [],
   "source": [
    "//ex 3\n",
    "//a)\n",
    "#include <iostream>\n",
    "#include <fstream>\n",
    "using namespace std;\n",
    "ofstream fout(\"bac.out\");\n",
    "\n",
    "int main(){\n",
    "    int p1, p2;\n",
    "    cin >> p1 >> p2;\n",
    "    for(int c1 = 9; c1 >= 1; c1--)\n",
    "        for(int c2 = 9; c2 >= 1; c2--)\n",
    "            if(c1*c2 == p1){\n",
    "                int x = c1 * 10 + c2;\n",
    "                for(int c3 = 9; c3 >= 0; c3--){\n",
    "                    int y = c3 *100 + c3 * 10 + c3;\n",
    "                    for(int c4 = 9; c4 >= 1; c4--)\n",
    "                        for(int c5 = 9; c5 >= 1; c5--)\n",
    "                            if(c4*c5 == p2){\n",
    "                                int z = c4*10 + c5;\n",
    "                                int nr = x*100000+y*100+z;\n",
    "                                fout << nr << endl;\n",
    "                            }\n",
    "                }\n",
    "            }\n",
    "    fout.close();\n",
    "    return 0;\n",
    "}"
   ]
  },
  {
   "cell_type": "code",
   "execution_count": null,
   "metadata": {
    "vscode": {
     "languageId": "cpp"
    }
   },
   "outputs": [],
   "source": [
    "//ex 3b\n",
    "Am proiectat un algoritm eficient din punct de vedere al memoriei, folosind variabile de tip intreg, nefolosindu-ne de vectori.\n",
    "Am proiectul un algoritm eficient din punct de vedere al timpului, evitand folosirea metodei backtracking, generam intai primele 2 sa respecte conditia,\n",
    "eliminand multe solutii nevalide.\n",
    "Caut primele 2 cifre care dau p1, apoi generez toate cifrele din mijloc, caut cifrele care dau p2. Apoi folosind descompunerea in baze formez numarul\n",
    "final si il afisez."
   ]
  }
 ],
 "metadata": {
  "language_info": {
   "name": "python"
  }
 },
 "nbformat": 4,
 "nbformat_minor": 2
}
