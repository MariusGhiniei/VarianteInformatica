{
 "cells": [
  {
   "cell_type": "markdown",
   "metadata": {
    "vscode": {
     "languageId": "plaintext"
    }
   },
   "source": [
    "Variante 2020/Testul 12"
   ]
  },
  {
   "cell_type": "markdown",
   "metadata": {
    "vscode": {
     "languageId": "plaintext"
    }
   },
   "source": [
    "Subiectul 1"
   ]
  },
  {
   "cell_type": "code",
   "execution_count": null,
   "metadata": {
    "vscode": {
     "languageId": "plaintext"
    }
   },
   "outputs": [],
   "source": [
    "1. d { ! - neaga}\n",
    "2. a {declarare de matrice}\n",
    "3. b {void - recursiv}\n",
    "4. b {Matrice de adiacenta pt graf orientat}\n",
    "5. c {Graf neorientat a.i. sa nu mai fie conex}"
   ]
  },
  {
   "cell_type": "markdown",
   "metadata": {
    "vscode": {
     "languageId": "plaintext"
    }
   },
   "source": [
    "Subiectul 2"
   ]
  },
  {
   "cell_type": "code",
   "execution_count": null,
   "metadata": {
    "vscode": {
     "languageId": "plaintext"
    }
   },
   "outputs": [],
   "source": [
    "1.  a) 952\n",
    "    b) Numerele cu care n poate fi initializat in asa fel incat, rezultatul sa fie 20 sunt 2000,2002 si 2022 "
   ]
  },
  {
   "cell_type": "code",
   "execution_count": null,
   "metadata": {
    "vscode": {
     "languageId": "cpp"
    }
   },
   "outputs": [],
   "source": [
    "//c)\n",
    "#include <iostream>\n",
    "using namespace std;\n",
    "int main()\n",
    "{\tint n,nr,c,m;\n",
    "\tcin>>n;\n",
    "\tnr=0; c=9;\n",
    "\twhile(c>=0) {\n",
    "\t\tm=n;\n",
    "\t\twhile(m!=0 && m%10!=c) {\n",
    "\t\t\tm=m/10;\n",
    "\t\t}\n",
    "\t\tif(m!=0) {\n",
    "\t\t\tnr=nr*10+m%10;\n",
    "\t\t}\n",
    "\t\tc=c-1;\n",
    "\t}\n",
    "\tcout<<nr;\n",
    "\n",
    "\treturn 0;\n",
    "}"
   ]
  },
  {
   "cell_type": "code",
   "execution_count": null,
   "metadata": {
    "vscode": {
     "languageId": "cpp"
    }
   },
   "outputs": [],
   "source": [
    "d)\n",
    "citește n (număr natural nenul)  \n",
    "nr <- 0  \n",
    "┌pentru c<-9,0,-1 execută \n",
    "│ m<-n \n",
    "│┌cât timp m≠0 și m%10≠c execută  \n",
    "││  m<-[m/10]    \n",
    "│└■ \n",
    "│┌dacă m≠0 atunci   \n",
    "││  nr<-nr*10+m%10    \n",
    "│└■  \n",
    "└■ \n",
    "scrie nr"
   ]
  },
  {
   "cell_type": "code",
   "execution_count": null,
   "metadata": {
    "vscode": {
     "languageId": "cpp"
    }
   },
   "outputs": [],
   "source": [
    "2.\n",
    "struct flori{\n",
    "    int cod;\n",
    "    int nrVarietati;\n",
    "    int nrExemplare[10];\n",
    "}f[20];"
   ]
  },
  {
   "cell_type": "code",
   "execution_count": null,
   "metadata": {
    "vscode": {
     "languageId": "cpp"
    }
   },
   "outputs": [],
   "source": [
    "3.\n",
    "Ultimele trei numere de 5 cifre generate, unde cifrele sunt strict crescatoare, iar cifra unitatilor este 6 sunt 23456, 13456 si 12356. \n"
   ]
  },
  {
   "cell_type": "markdown",
   "metadata": {
    "vscode": {
     "languageId": "cpp"
    }
   },
   "source": [
    "Subiectul 3"
   ]
  },
  {
   "cell_type": "code",
   "execution_count": null,
   "metadata": {
    "vscode": {
     "languageId": "cpp"
    }
   },
   "outputs": [],
   "source": [
    "//ex 1\n",
    "//Metoda 1\n",
    "int pDoi(int n)\n",
    "{\tint k=1;\n",
    "\tfor(int i=2; i<=n; i=i*2)\n",
    "\t\tif(i>k)\n",
    "\t\t\tk=i;\n",
    "\t\treturn k;\n",
    "}\n",
    "\n",
    "//Metoda 2\n",
    "int pDoi(int n)\n",
    "{\tint k=1;\n",
    "\twhile(k*k<=n)\n",
    "\t    k++;\n",
    "\treturn (k-1)*(k-1);\n",
    "}"
   ]
  },
  {
   "cell_type": "code",
   "execution_count": null,
   "metadata": {
    "vscode": {
     "languageId": "cpp"
    }
   },
   "outputs": [],
   "source": [
    "//ex 2\n",
    "#include <iostream>\n",
    "#include <cstring>\n",
    "using namespace std;\n",
    "char s[101];\n",
    "int  main(){\n",
    "    cin.getline(s,101);\n",
    "    \n",
    "    for(int i = strlen(s) - 1; i >= 0; i--)\n",
    "        if(strchr(\"aeiou\", s[i]) != 0){\n",
    "            strcpy(s + i, s + i + 1);\n",
    "            break;\n",
    "        }\n",
    "    cout << s;\n",
    "}"
   ]
  },
  {
   "cell_type": "code",
   "execution_count": null,
   "metadata": {
    "vscode": {
     "languageId": "cpp"
    }
   },
   "outputs": [],
   "source": [
    "//ex 3 - a\n",
    "#include <fstream>\n",
    "#include <iostream>\n",
    "using namespace std;\n",
    "\n",
    "ofstream fout(\"bac.out\");\n",
    "\n",
    "int main(){\n",
    "    int x;\n",
    "    cin >> x;\n",
    "    if(x <= 10)\n",
    "        for(int i = 10; i >= 1; i--)\n",
    "            fout << i << \" \";\n",
    "    else if(x % 2 == 1){\n",
    "        fout << x << \" \";\n",
    "        x = x - 1;\n",
    "    }\n",
    "    if(x % 2 == 0){\n",
    "        fout << x  << \" \" << x / 2 << \" \";\n",
    "        x = x / 2;\n",
    "        while(x > 20){\n",
    "            if(x % 2 == 0){\n",
    "                fout << x / 2 << \" \";\n",
    "                x = x / 2;\n",
    "            } else {\n",
    "                fout << x - 1 << \" \";\n",
    "                x = x - 1;\n",
    "            }\n",
    "        }\n",
    "        for(int i = 10; i >= 1; i--)\n",
    "            fout << i << \" \";\n",
    "    }\n",
    "\n",
    "    fout.close();\n",
    "    return 0;\n",
    "}"
   ]
  },
  {
   "cell_type": "code",
   "execution_count": null,
   "metadata": {
    "vscode": {
     "languageId": "cpp"
    }
   },
   "outputs": [],
   "source": [
    "//ex 3 - b\n",
    "Am proiectat un algoritm eficient din punct de vedere al memoriei, folosind variabile de tip intreg, nefolosindu-ne de vectori.\n",
    "Am proiectul un algoritm eficient din punct de vedere al timpului, folosind eficient structurile repetitive.\n",
    "Tratam fiecare caz de pe ramurile din definirea functiei. Daca x - ul este impar, afisez x -ul si scad cu o unitate. Daca x - ul e par, afisez x - ul\n",
    "si impart la 2. Daca x ul ajunge la 10, afisez in ordine descrescatoare numerele pana la 1.\n"
   ]
  }
 ],
 "metadata": {
  "language_info": {
   "name": "python"
  }
 },
 "nbformat": 4,
 "nbformat_minor": 2
}
