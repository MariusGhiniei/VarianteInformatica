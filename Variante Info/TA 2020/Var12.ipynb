{
 "cells": [
  {
   "cell_type": "code",
   "execution_count": null,
   "metadata": {
    "vscode": {
     "languageId": "plaintext"
    }
   },
   "outputs": [],
   "source": [
    "Variante 2020/Testul 11"
   ]
  },
  {
   "cell_type": "code",
   "execution_count": null,
   "metadata": {
    "vscode": {
     "languageId": "plaintext"
    }
   },
   "outputs": [],
   "source": [
    "Subiectul 1"
   ]
  },
  {
   "cell_type": "code",
   "execution_count": null,
   "metadata": {
    "vscode": {
     "languageId": "plaintext"
    }
   },
   "outputs": [],
   "source": [
    "1. d { ! - neaga}\n",
    "2. a {declarare de matrice}\n",
    "3. b {void - recursiv}\n",
    "4. b {Matrice de adiacenta pt graf orientat}\n",
    "5. c {Graf neorientat a.i. sa nu mai fie conex}"
   ]
  },
  {
   "cell_type": "code",
   "execution_count": null,
   "metadata": {
    "vscode": {
     "languageId": "plaintext"
    }
   },
   "outputs": [],
   "source": [
    "Subiectul 2"
   ]
  },
  {
   "cell_type": "code",
   "execution_count": null,
   "metadata": {
    "vscode": {
     "languageId": "plaintext"
    }
   },
   "outputs": [],
   "source": [
    "1.  a) 952\n",
    "    b) Numerele cu care n poate fi initializat in asa fel incat, rezultatul sa fie 20 sunt 2000,2002 si 2022 "
   ]
  },
  {
   "cell_type": "code",
   "execution_count": null,
   "metadata": {
    "vscode": {
     "languageId": "cpp"
    }
   },
   "outputs": [],
   "source": [
    "//c)\n",
    "#include <iostream>\n",
    "using namespace std;\n",
    "int main()\n",
    "{\tint n,nr,c,m;\n",
    "\tcin>>n;\n",
    "\tnr=0; c=9;\n",
    "\twhile(c>=0) {\n",
    "\t\tm=n;\n",
    "\t\twhile(m!=0 && m%10!=c) {\n",
    "\t\t\tm=m/10;\n",
    "\t\t}\n",
    "\t\tif(m!=0) {\n",
    "\t\t\tnr=nr*10+m%10;\n",
    "\t\t}\n",
    "\t\tc=c-1;\n",
    "\t}\n",
    "\tcout<<nr;\n",
    "\n",
    "\treturn 0;\n",
    "}"
   ]
  },
  {
   "cell_type": "code",
   "execution_count": null,
   "metadata": {
    "vscode": {
     "languageId": "cpp"
    }
   },
   "outputs": [],
   "source": [
    "d)\n",
    "citește n (număr natural nenul)  \n",
    "nr <- 0  \n",
    "┌pentru c<-9,0,-1 execută \n",
    "│ m<-n \n",
    "│┌cât timp m≠0 și m%10≠c execută  \n",
    "││  m<-[m/10]    \n",
    "│└■ \n",
    "│┌dacă m≠0 atunci   \n",
    "││  nr<-nr*10+m%10    \n",
    "│└■  \n",
    "└■ \n",
    "scrie nr"
   ]
  },
  {
   "cell_type": "code",
   "execution_count": null,
   "metadata": {
    "vscode": {
     "languageId": "cpp"
    }
   },
   "outputs": [],
   "source": [
    "2.\n",
    "struct flori{\n",
    "    int cod;\n",
    "    int nrVarietati;\n",
    "    int nrExemplare[10];\n",
    "}f[20];"
   ]
  }
 ],
 "metadata": {
  "language_info": {
   "name": "python"
  }
 },
 "nbformat": 4,
 "nbformat_minor": 2
}
