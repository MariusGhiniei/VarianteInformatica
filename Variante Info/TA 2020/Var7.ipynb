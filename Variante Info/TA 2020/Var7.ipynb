{
 "cells": [
  {
   "cell_type": "markdown",
   "metadata": {
    "vscode": {
     "languageId": "plaintext"
    }
   },
   "source": [
    "Varianta 2020/ Testul 7"
   ]
  },
  {
   "cell_type": "markdown",
   "metadata": {
    "vscode": {
     "languageId": "plaintext"
    }
   },
   "source": [
    "Subiectul 1"
   ]
  },
  {
   "cell_type": "code",
   "execution_count": null,
   "metadata": {
    "vscode": {
     "languageId": "plaintext"
    }
   },
   "outputs": [],
   "source": [
    "1. d { ! neaga conditiile}\n",
    "2. a { void - recursiv }\n",
    "3. b { Bkt - multime de cuvinte}\n",
    "4. c { Gradul interior = nr de arce care intra sau suma elementelor pe coloana }\n",
    "5. c { Un arbore are n - 1 muchii, unde n este numarul de noduri, iar un arbore este componenta conexa }"
   ]
  },
  {
   "cell_type": "markdown",
   "metadata": {
    "vscode": {
     "languageId": "plaintext"
    }
   },
   "source": [
    "Subiectul 2"
   ]
  },
  {
   "cell_type": "code",
   "execution_count": null,
   "metadata": {
    "vscode": {
     "languageId": "plaintext"
    }
   },
   "outputs": [],
   "source": [
    "1.  a) 7533\n",
    "    b) minim = 20 si maxim = 88 "
   ]
  },
  {
   "cell_type": "code",
   "execution_count": null,
   "metadata": {
    "vscode": {
     "languageId": "cpp"
    }
   },
   "outputs": [],
   "source": [
    "//c)\n",
    "#include <iostream>\n",
    "using namespace std;\n",
    "int main()\n",
    "{\tint n, x, m, p, cn, c;\n",
    "\tcin >> n;\n",
    "\tx = 1; m = 0; p = 1;\n",
    "\twhile(x < 10) {\n",
    "\t\tcn = n;\n",
    "\t\twhile(cn != 0) {\n",
    "\t\t\tc = cn % 10; cn = cn / 10;\n",
    "\t\t\tif(c == x) {\n",
    "\t\t\t\tm = c * p + m; p = p * 10;\n",
    "\t\t\t}\n",
    "\t\t}\n",
    "\t\tx = x + 2;\n",
    "\t}\n",
    "\tcout << m << \" \";\n",
    "\n",
    "\treturn 0;\n",
    "}"
   ]
  },
  {
   "cell_type": "code",
   "execution_count": null,
   "metadata": {
    "vscode": {
     "languageId": "cpp"
    }
   },
   "outputs": [],
   "source": [
    "d)\n",
    "citește n  (număr natural nenul) \n",
    " x <- 1; m <- 0; p <- 1 \n",
    "┌daca x < 10 atunci \n",
    "|    ┌repeta \n",
    "|    │ cn <- n \n",
    "|    │┌cât timp cn≠0 execută \n",
    "|    ││ c <- cn%10; cn <- [cn/10] \n",
    "|    ││┌dacă c=x atunci \n",
    "|    ││| m <- c*p+m; p <- p*10 \n",
    "|    ││└■ \n",
    "|    |└■ \n",
    "|    │ x <- x+2 \n",
    "|    └pana cand x >= 10\n",
    "└■ \n",
    " scrie m"
   ]
  },
  {
   "cell_type": "code",
   "execution_count": null,
   "metadata": {
    "vscode": {
     "languageId": "cpp"
    }
   },
   "outputs": [],
   "source": [
    "2. \n",
    "    struct biblio{\n",
    "        int numar;\n",
    "        struct{\n",
    "            char titlu[20];\n",
    "            char autor[20];\n",
    "        }carte[100];\n",
    "    }c;"
   ]
  },
  {
   "cell_type": "code",
   "execution_count": null,
   "metadata": {
    "vscode": {
     "languageId": "cpp"
    }
   },
   "outputs": [],
   "source": [
    "3. \n",
    "    ou\n",
    "    rosu"
   ]
  },
  {
   "cell_type": "markdown",
   "metadata": {
    "vscode": {
     "languageId": "cpp"
    }
   },
   "source": [
    "Subiectul 3"
   ]
  },
  {
   "cell_type": "code",
   "execution_count": null,
   "metadata": {
    "vscode": {
     "languageId": "cpp"
    }
   },
   "outputs": [],
   "source": [
    "//ex 1\n",
    "int putere(int n, int p)\n",
    "{\t\n",
    "    int ok = 1;\n",
    "\tif(p < 2)\n",
    "\t\tok = 0;\n",
    "\tfor(int d = 2; d * d <= p; d++)\n",
    "\t\tif(p % d == 0) {\n",
    "\t\t\tok = 0;\n",
    "\t\t\tbreak;\n",
    "\t\t}\n",
    "\tif(ok == 0)\n",
    "\t\treturn -1;\n",
    "\telse\n",
    "\t{\n",
    "\t\tint pp = 0;\n",
    "\t\twhile(n % p == 0) {\n",
    "\t\t\tpp++;\n",
    "\t\t\tn  =n / p;\n",
    "\t\t}\n",
    "\t\treturn pp;\n",
    "\t}\n",
    "}"
   ]
  },
  {
   "cell_type": "code",
   "execution_count": null,
   "metadata": {
    "vscode": {
     "languageId": "cpp"
    }
   },
   "outputs": [],
   "source": [
    "//ex 2\n",
    "#include <iostream>\n",
    "using namespace std;\n",
    "int a[20][20];\n",
    "int main(){\n",
    "    int m,n, cnt = 0;\n",
    "    cin >> m >> n;\n",
    "    \n",
    "    for(int i = 1; i <= m; i++)\n",
    "        for(int j = 1; j <= n; j++)\n",
    "            cin >> a[i][j];\n",
    "            \n",
    "    for(int i = 1; i <= m; i++)\n",
    "        for(int j = 1; j <= n; j++)\n",
    "            if(a[i][1] == a[j][n]){\n",
    "                cnt++;\n",
    "                cout << a[i][1] << \" \";\n",
    "            }\n",
    "    if(cnt == 0)\n",
    "        cout << \"nepolarizate\";\n",
    "\n",
    "    return 0;\n",
    "}"
   ]
  },
  {
   "cell_type": "code",
   "execution_count": null,
   "metadata": {
    "vscode": {
     "languageId": "cpp"
    }
   },
   "outputs": [],
   "source": [
    "//ex 3 a\n",
    "#include <iostream>\n",
    "#include <fstream>\n",
    "using namespace std;\n",
    "ifstream fin(\"bac.txt\");\n",
    "int main() {\n",
    "\tint x, s, smin;\n",
    "\tfin >> x;\n",
    "\ts = x, smin = x;\n",
    "\twhile(fin >> x) {\n",
    "\t\tif(s + x < x && s + x < smin)\n",
    "\t\t\ts = s + x;\n",
    "\t\telse if(s < smin) {\n",
    "\t\t\tsmin = s;\n",
    "\t\t\ts = x;\n",
    "\t\t}\n",
    "\t\telse s = x;\n",
    "\n",
    "\t}\n",
    "\tif(s < smin)\n",
    "\t\tsmin = s;\n",
    "\tcout << smin;\n",
    "\t\n",
    "\tfin.close();\n",
    "\treturn 0;\n",
    "}"
   ]
  },
  {
   "cell_type": "code",
   "execution_count": null,
   "metadata": {
    "vscode": {
     "languageId": "cpp"
    }
   },
   "outputs": [],
   "source": [
    "//ex3 b\n",
    "Am proiectat un algoritm eficient din punct de vedere al memoriei, folosind 3 variabile de tip intreg, nefolosindu-ne de vectori.\n",
    "Am proiectul un algoritm eficient din punct de vedere al timpului, folosind o aboradare liniara.\n",
    "Citesc primul numar, initializez suma curenta si suma minima cu prima valoarea din sir. Citesc pe rand numere, daca citesc un numar care imi \n",
    "micsoreaza suma curenta si ramane mai mica decat suma minima, adun la suma numarul respectiv, dupa caz actualizez suma minima si resetez suma curenta.\n",
    "Abordez si cazul in care secventa de suma minima este pana la finalul sirului."
   ]
  }
 ],
 "metadata": {
  "language_info": {
   "name": "python"
  }
 },
 "nbformat": 4,
 "nbformat_minor": 2
}
