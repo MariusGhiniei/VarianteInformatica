{
 "cells": [
  {
   "cell_type": "markdown",
   "id": "d052f918",
   "metadata": {
    "vscode": {
     "languageId": "plaintext"
    }
   },
   "source": [
    "Varianta 2021 / Testul 8"
   ]
  },
  {
   "cell_type": "markdown",
   "id": "d73beda0",
   "metadata": {
    "vscode": {
     "languageId": "plaintext"
    }
   },
   "source": [
    "Subiectul 1"
   ]
  },
  {
   "cell_type": "code",
   "execution_count": null,
   "id": "4b1c0b09",
   "metadata": {
    "vscode": {
     "languageId": "plaintext"
    }
   },
   "outputs": [],
   "source": [
    "1.\n",
    "2.\n",
    "3.\n",
    "4.\n",
    "5."
   ]
  },
  {
   "cell_type": "markdown",
   "id": "4ecce505",
   "metadata": {
    "vscode": {
     "languageId": "plaintext"
    }
   },
   "source": [
    "Subiectul 2"
   ]
  },
  {
   "cell_type": "code",
   "execution_count": null,
   "id": "98de8836",
   "metadata": {
    "vscode": {
     "languageId": "plaintext"
    }
   },
   "outputs": [],
   "source": [
    "1.  a) 440\n",
    "    b) 6 si 13"
   ]
  },
  {
   "cell_type": "code",
   "execution_count": null,
   "id": "3bb6a178",
   "metadata": {
    "vscode": {
     "languageId": "cpp"
    }
   },
   "outputs": [],
   "source": [
    "// c)\n",
    "#include <iostream>\n",
    "using namespace std;\n",
    "\n",
    "int main()\n",
    "{\n",
    "    int n, x, i;\n",
    "    cin >> n;\n",
    "    x = 0;\n",
    "    for(i = 1; i <= n; i++){\n",
    "        if(i % 2 == 0)\n",
    "            x = x + i * i;\n",
    "        else\n",
    "            x = x + (i + 1) * (i + 1);\n",
    "    }\n",
    "    cout << x;\n",
    "}"
   ]
  },
  {
   "cell_type": "code",
   "execution_count": null,
   "id": "b569196f",
   "metadata": {
    "vscode": {
     "languageId": "plaintext"
    }
   },
   "outputs": [],
   "source": [
    "d)\n",
    "citeste n (numar natural)\n",
    "x <- 0\n",
    "i <- 1\n",
    "cat timp i <= n executa\n",
    "{\n",
    "    daca i % 2 = 0 atunci\n",
    "        x <- x + i * i\n",
    "    altfel\n",
    "        x <- x + (i+1) * (i+1)\n",
    "    i <- i + 1\n",
    "}\n",
    "scrie x;"
   ]
  },
  {
   "cell_type": "code",
   "execution_count": null,
   "id": "b689babf",
   "metadata": {
    "vscode": {
     "languageId": "cpp"
    }
   },
   "outputs": [],
   "source": [
    "2.\n",
    "struct clasa{\n",
    "    int numar;\n",
    "    struct{\n",
    "        float sem1;\n",
    "        float sem2;\n",
    "    }elev[40];\n",
    "\n",
    "}p;"
   ]
  },
  {
   "cell_type": "code",
   "execution_count": null,
   "id": "73c30266",
   "metadata": {
    "vscode": {
     "languageId": "plaintext"
    }
   },
   "outputs": [],
   "source": [
    "3.\n",
    "7volt"
   ]
  },
  {
   "cell_type": "code",
   "execution_count": null,
   "id": "f76ccc60",
   "metadata": {
    "vscode": {
     "languageId": "plaintext"
    }
   },
   "outputs": [],
   "source": [
    "Subiectul 3"
   ]
  },
  {
   "cell_type": "code",
   "execution_count": null,
   "id": "b1416dd3",
   "metadata": {
    "vscode": {
     "languageId": "plaintext"
    }
   },
   "outputs": [],
   "source": [
    "//ex 1"
   ]
  },
  {
   "cell_type": "code",
   "execution_count": null,
   "id": "f3896fc7",
   "metadata": {
    "vscode": {
     "languageId": "plaintext"
    }
   },
   "outputs": [],
   "source": [
    "//ex 2"
   ]
  },
  {
   "cell_type": "code",
   "execution_count": null,
   "id": "9abeb946",
   "metadata": {
    "vscode": {
     "languageId": "plaintext"
    }
   },
   "outputs": [],
   "source": [
    "//ex 3 - a"
   ]
  },
  {
   "cell_type": "code",
   "execution_count": null,
   "id": "503883f4",
   "metadata": {
    "vscode": {
     "languageId": "plaintext"
    }
   },
   "outputs": [],
   "source": [
    "//ex 3 - b"
   ]
  }
 ],
 "metadata": {
  "language_info": {
   "name": "python"
  }
 },
 "nbformat": 4,
 "nbformat_minor": 5
}
