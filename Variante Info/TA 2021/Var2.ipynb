{
 "cells": [
  {
   "cell_type": "markdown",
   "metadata": {},
   "source": [
    "Varianta 2021/Testul 2\n",
    "\n",
    "\n",
    "Subiectul 1\n",
    "1. a { Operatorul && are prioritate fata de operatorul ||, !-> neaga totul, adica !(||) devine &&, iar !(&&) devine || }\n",
    "2. d { Void - Recursiv, de tip arbore }\n",
    "3. c { Backtracking - Transformare cuvinte in cifre si de aplicat reguli }\n",
    "4. b { Arbore - Frunze }\n",
    "5. b { Graf eulerian, trece prin toate muchiile. Teorema: Este Graf Eulerian <=> toate varfurile au grad par si graf ul este conex (pot ajunge de la orice nod la orice nod)}\n"
   ]
  },
  {
   "cell_type": "markdown",
   "metadata": {},
   "source": [
    "Subiect 2\n",
    "1) \n",
    "a) -1 21\n",
    "b) 12345, 13456 ( Orice numere in intervalul [10^4, 10^5] de forma 1abcd cu prop a<b<c<d)\n",
    "d) \n",
    "    citeste n\n",
    "    s <- 1\n",
    "    c1 <- n % 10\n",
    "    n <- n / 10\n",
    "    c2 <- n % 10\n",
    "    daca c1 = c2 atunci s <- 0\n",
    "    altfel daca c1 < c2 atunci s <- -1\n",
    "\n",
    "    daca (c1 - c2)*s > 0 si n > 9 atunci\n",
    "        repeta\n",
    "            c1 <- n % 10\n",
    "            n <- n / 10\n",
    "            c2 <- n % 10\n",
    "        pana cand (c1 - c2)*s <= 0 || n <= 9\n",
    "    sfarsit daca\n",
    "\n",
    "    scrie s, ' ', n"
   ]
  },
  {
   "cell_type": "code",
   "execution_count": null,
   "metadata": {
    "vscode": {
     "languageId": "cpp"
    }
   },
   "outputs": [],
   "source": [
    "//c)\n",
    "#include <iostream>\n",
    "using namespace std;\n",
    "\n",
    "int main()\n",
    "{\n",
    "\tint n, c1, c2, s;\n",
    "\tcin>>n;\n",
    "\ts = 1;\n",
    "\tc1 = n%10;\n",
    "\tn = n/10;\n",
    "\tc2 = n%10;\n",
    "\tif(c1 == c2) {\n",
    "\t\ts = 0;\n",
    "\t}\n",
    "\telse if (c1 < c2) {\n",
    "\t\ts = -1;\n",
    "\t}\n",
    "\twhile((c1-c2)*s > 0 && n > 9) {\n",
    "\t\tc1 = n%10;\n",
    "\t\tn = n/10;\n",
    "\t\tc2 = n%10;\n",
    "\t}\n",
    "\tcout<<s<<\" \"<<n;\n",
    "}"
   ]
  },
  {
   "cell_type": "markdown",
   "metadata": {},
   "source": [
    "2) \n",
    "    struct polinom{\n",
    "        (unsigned) int grad;\n",
    "        float coeficient[100];\n",
    "    }p;"
   ]
  },
  {
   "cell_type": "code",
   "execution_count": null,
   "metadata": {
    "vscode": {
     "languageId": "cpp"
    }
   },
   "outputs": [],
   "source": [
    "//3)\n",
    "    char s[] = \"PREafrUMoASA\";\n",
    "    char voc[] =\"aeiouAEIOU\";\n",
    "    for(int i = 0; i < strlen(s); i++)\n",
    "        if(strchr(\"aeiouAEIOU\",s[i]) != 0)\n",
    "            for(int j = 0; j <strlen(voc); j++)\n",
    "                if(s[i] == voc[j]){\n",
    "                    voc[j] = 'x';\n",
    "                }\n",
    "    for(int i = 0; i < strlen(voc); i++)\n",
    "        if(voc[i] != 'x')\n",
    "            cout << voc[i];\n",
    "    \n",
    "\n"
   ]
  }
 ],
 "metadata": {
  "language_info": {
   "name": "python"
  }
 },
 "nbformat": 4,
 "nbformat_minor": 2
}
