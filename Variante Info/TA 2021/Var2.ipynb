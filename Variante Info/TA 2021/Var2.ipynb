{
 "cells": [
  {
   "cell_type": "markdown",
   "metadata": {},
   "source": [
    "Varianta 2021/Testul 2"
   ]
  },
  {
   "cell_type": "markdown",
   "metadata": {},
   "source": [
    "Subiectul 1"
   ]
  },
  {
   "cell_type": "code",
   "execution_count": null,
   "metadata": {
    "vscode": {
     "languageId": "plaintext"
    }
   },
   "outputs": [],
   "source": [
    "1. a { Operatorul && are prioritate fata de operatorul ||, !-> neaga totul, adica !(||) devine &&, iar !(&&) devine || }\n",
    "2. d { Void - Recursiv, de tip arbore }\n",
    "3. c { Backtracking - Transformare cuvinte in cifre si de aplicat reguli }\n",
    "4. b { Arbore - Frunze }\n",
    "5. b { Graf eulerian, trece prin toate muchiile. Teorema: Este Graf Eulerian <=> toate varfurile au grad par si graf ul este conex (pot ajunge de la orice nod la orice nod)}\n"
   ]
  },
  {
   "cell_type": "markdown",
   "metadata": {
    "vscode": {
     "languageId": "plaintext"
    }
   },
   "source": [
    "Subiectul 2"
   ]
  },
  {
   "cell_type": "code",
   "execution_count": null,
   "metadata": {
    "vscode": {
     "languageId": "plaintext"
    }
   },
   "outputs": [],
   "source": [
    "1.  a) -1 21\n",
    "    b) 12345, 13456 ( Orice numere in intervalul [10^4, 10^5] de forma 1abcd cu prop a<b<c<d)"
   ]
  },
  {
   "cell_type": "code",
   "execution_count": null,
   "metadata": {
    "vscode": {
     "languageId": "plaintext"
    }
   },
   "outputs": [],
   "source": [
    "d) \n",
    "    citeste n\n",
    "    s <- 1\n",
    "    c1 <- n % 10\n",
    "    n <- n / 10\n",
    "    c2 <- n % 10\n",
    "    daca c1 = c2 atunci s <- 0\n",
    "    altfel daca c1 < c2 atunci s <- -1\n",
    "\n",
    "    daca (c1 - c2)*s > 0 si n > 9 atunci\n",
    "        repeta\n",
    "            c1 <- n % 10\n",
    "            n <- n / 10\n",
    "            c2 <- n % 10\n",
    "        pana cand (c1 - c2)*s <= 0 || n <= 9\n",
    "    sfarsit daca\n",
    "\n",
    "    scrie s, ' ', n"
   ]
  },
  {
   "cell_type": "code",
   "execution_count": null,
   "metadata": {
    "vscode": {
     "languageId": "cpp"
    }
   },
   "outputs": [],
   "source": [
    "//c)\n",
    "#include <iostream>\n",
    "using namespace std;\n",
    "\n",
    "int main()\n",
    "{\n",
    "\tint n, c1, c2, s;\n",
    "\tcin>>n;\n",
    "\ts = 1;\n",
    "\tc1 = n % 10;\n",
    "\tn = n / 10;\n",
    "\tc2 = n % 10;\n",
    "\tif(c1 == c2) {\n",
    "\t\ts = 0;\n",
    "\t}\n",
    "\telse if (c1 < c2) {\n",
    "\t\ts = -1;\n",
    "\t}\n",
    "\twhile((c1-c2)*s > 0 && n > 9) {\n",
    "\t\tc1 = n % 10;\n",
    "\t\tn = n / 10;\n",
    "\t\tc2 = n % 10;\n",
    "\t}\n",
    "\tcout << s << \" \" << n;\n",
    "\n",
    "\treturn 0;\n",
    "}"
   ]
  },
  {
   "cell_type": "code",
   "execution_count": null,
   "metadata": {
    "vscode": {
     "languageId": "cpp"
    }
   },
   "outputs": [],
   "source": [
    "2) \n",
    "    struct polinom{\n",
    "        (unsigned) int grad;\n",
    "        float coeficient[100];\n",
    "    }p;"
   ]
  },
  {
   "cell_type": "code",
   "execution_count": null,
   "metadata": {
    "vscode": {
     "languageId": "cpp"
    }
   },
   "outputs": [],
   "source": [
    "//3)\n",
    "    char s[] = \"PREafrUMoASA\";\n",
    "    char voc[] =\"aeiouAEIOU\";\n",
    "    for(int i = 0; i < strlen(s); i++)\n",
    "        if(strchr(\"aeiouAEIOU\",s[i]) != 0)\n",
    "            for(int j = 0; j <strlen(voc); j++)\n",
    "                if(s[i] == voc[j]){\n",
    "                    voc[j] = 'x';\n",
    "                }\n",
    "    for(int i = 0; i < strlen(voc); i++)\n",
    "        if(voc[i] != 'x')\n",
    "            cout << voc[i];"
   ]
  },
  {
   "cell_type": "markdown",
   "metadata": {},
   "source": [
    "Subiectul 3"
   ]
  },
  {
   "cell_type": "code",
   "execution_count": null,
   "metadata": {
    "vscode": {
     "languageId": "cpp"
    }
   },
   "outputs": [],
   "source": [
    "//ex 1\n",
    "int factori(int n, int m){\n",
    "    int d = 2, cnt = 0;\n",
    "    while(n > 1 && m > 1){\n",
    "        if(n % d == 0){\n",
    "            int pn = 0, pm = 0;\n",
    "            while(n % d == 0){\n",
    "                pn++;\n",
    "                n = n / d;\n",
    "            }\n",
    "            while(m % d == 0){\n",
    "                pm++;\n",
    "                m = m / d;\n",
    "            }\n",
    "            if(pn == pm) cnt++;\n",
    "        }\n",
    "        d++;\n",
    "    }\n",
    "    return cnt;\n",
    "}"
   ]
  },
  {
   "cell_type": "code",
   "execution_count": null,
   "metadata": {
    "vscode": {
     "languageId": "cpp"
    }
   },
   "outputs": [],
   "source": [
    "//ex 2\n",
    "#include <iostream>\n",
    "using namespace std;\n",
    "\n",
    "int a[21][21];\n",
    "int main(){\n",
    "    int n;\n",
    "    cin >> n;\n",
    "     for(int i = 1; i <= n; i++)\n",
    "        for(int j = 1; j <= n; j++)\n",
    "            if(i + j <= n + 1)\n",
    "                a[i][j] = i + j - 1;\n",
    "            else \n",
    "                a[i][j] = a[i-1][j] -1;\n",
    "    for(int i = 1; i <= n; i++){\n",
    "        for(int j = 1; j <= n; j++)\n",
    "            cout << a[i][j] << \" \";\n",
    "        cout << endl;\n",
    "    }\n",
    "    \n",
    "    return 0;\n",
    "}"
   ]
  },
  {
   "cell_type": "code",
   "execution_count": null,
   "metadata": {
    "vscode": {
     "languageId": "cpp"
    }
   },
   "outputs": [],
   "source": [
    "//ex 3a)\n",
    "Am proiectat un algoritm eficeint din punct de vedere al memoriei, folosind un vector pentru a salva elementele din secventa.\n",
    "Am proiectul un algoritm eficient din punct de vedere al timpului, folosind un algoritm de secvente. Complexitatea este O(n^2).\n",
    "Problema are 2 cazuri, daca numarul curent este poztiv, atunci caut cel mai din dreapta element negativ si actualizez lungimea secventei, dupa caz\n",
    "si lungimea maxima. Daca numarul curent este negativ, atunci caut cel mai din dreapta element pozitiv si actualizez lungimea secventei, dupa caz\n",
    "si lungimea maxima."
   ]
  },
  {
   "cell_type": "code",
   "execution_count": null,
   "metadata": {
    "vscode": {
     "languageId": "cpp"
    }
   },
   "outputs": [],
   "source": [
    "//ex 3b)\n",
    "#include <iostream>\n",
    "#include <fstream>\n",
    "using namespace std;\n",
    "ifstream fin(\"bac.in\");\n",
    "int v[1000001];\n",
    "int main(){\n",
    "    int lg = 1, lgmax = 0, x, n = 0;\n",
    "    \n",
    "    while(fin >> x){\n",
    "        v[++n] = x; //construiesc vectorul v, v[++n] = incrementez n si apoi atribui lui v[n] valoarea x\n",
    "    }\n",
    "    for(int i = 1; i <= n; i++){\n",
    "        if(v[i] < 0){\n",
    "            // caut ultimul termen pozitiv\n",
    "            int j = n;\n",
    "            while(v[j] < 0 && j >= i) \n",
    "                j--;\n",
    "            if(v[j] >= 0) \n",
    "                lg = j - i + 1; // lungimea unei secvente = dreapta - stanga + 1\n",
    "            if(lg > lgmax)\n",
    "                lgmax = lg;\n",
    "        }\n",
    "        else{\n",
    "            // caut ultimul termen negativ\n",
    "            int j = n;\n",
    "            while(v[j] >= 0 && j >= i) \n",
    "                j--;\n",
    "            if(v[j] < 0) \n",
    "                lg = j - i + 1;\n",
    "            if(lg > lgmax) \n",
    "                lgmax = lg;\n",
    "        }\n",
    "    }\n",
    "   cout << lgmax;\n",
    "}"
   ]
  }
 ],
 "metadata": {
  "language_info": {
   "name": "python"
  }
 },
 "nbformat": 4,
 "nbformat_minor": 2
}
