{
 "cells": [
  {
   "cell_type": "markdown",
   "id": "ab6de868",
   "metadata": {
    "vscode": {
     "languageId": "plaintext"
    }
   },
   "source": [
    "Varianta 2021/Testul 6"
   ]
  },
  {
   "cell_type": "markdown",
   "id": "40fc2f26",
   "metadata": {
    "vscode": {
     "languageId": "plaintext"
    }
   },
   "source": [
    "Subiectul 1"
   ]
  },
  {
   "cell_type": "code",
   "execution_count": null,
   "id": "ff3c6964",
   "metadata": {
    "vscode": {
     "languageId": "plaintext"
    }
   },
   "outputs": [],
   "source": [
    "1. d {! - neaga}\n",
    "2. a {Subprogram int recursiv}\n",
    "3. b {Bkt - pe multime de nume}\n",
    "4. d {Arbore cu radacina}\n",
    "5. c {Graf neorientat - grad par}"
   ]
  },
  {
   "cell_type": "markdown",
   "id": "9117319b",
   "metadata": {
    "vscode": {
     "languageId": "plaintext"
    }
   },
   "source": [
    "Subiectul 2"
   ]
  },
  {
   "cell_type": "code",
   "execution_count": null,
   "id": "8da126f2",
   "metadata": {
    "vscode": {
     "languageId": "plaintext"
    }
   },
   "outputs": [],
   "source": [
    "1.  a) 7 \n",
    "    b) 61, 62"
   ]
  },
  {
   "cell_type": "code",
   "execution_count": null,
   "id": "bb4f5ebb",
   "metadata": {
    "vscode": {
     "languageId": "cpp"
    }
   },
   "outputs": [],
   "source": [
    "//c)\n",
    "#include <iostream>\n",
    "using namespace std;\n",
    "\n",
    "int main()\n",
    "{\n",
    "    int x, y, n, k, c, i;\n",
    "    cin >> x >> y;\n",
    "    k = 0;\n",
    "    i = x;\n",
    "    while(i <= y)\n",
    "    {\n",
    "        n = i;\n",
    "        c = 0;\n",
    "        while(n > 0 && c == 0)\n",
    "        {\n",
    "            if(n % 2 == 1)\n",
    "            {\n",
    "            c = 1;\n",
    "            }\n",
    "            n = n / 10;\n",
    "        }\n",
    "        k = k + c;\n",
    "        i = i + 1;\n",
    "    }\n",
    "    cout << k;\n",
    "}"
   ]
  },
  {
   "cell_type": "code",
   "execution_count": null,
   "id": "65a5d146",
   "metadata": {
    "vscode": {
     "languageId": "plaintext"
    }
   },
   "outputs": [],
   "source": [
    "d)\n",
    "citeste x, y\n",
    "k <- 0\n",
    "pentru i <- x, y executa\n",
    "{\n",
    "    n <- i; c <- 0\n",
    "    cat timp n>0 si c=0 executa\n",
    "    {\n",
    "    daca n%2=1 atunci c <- 1\n",
    "    {\n",
    "    }\n",
    "    n <- [n/10]\n",
    "    }\n",
    "    k <- k + c\n",
    "}\n",
    "scrie k"
   ]
  },
  {
   "cell_type": "code",
   "execution_count": null,
   "id": "84113426",
   "metadata": {
    "vscode": {
     "languageId": "cpp"
    }
   },
   "outputs": [],
   "source": [
    "2.\n",
    "struct figura{\n",
    "    int diametru;\n",
    "    struct{\n",
    "        int x;\n",
    "        int y;\n",
    "    }centru;\n",
    "}c;"
   ]
  },
  {
   "cell_type": "code",
   "execution_count": null,
   "id": "592d73a4",
   "metadata": {
    "vscode": {
     "languageId": "plaintext"
    }
   },
   "outputs": [],
   "source": [
    "3.\n",
    "PRSL*L*VON"
   ]
  },
  {
   "cell_type": "markdown",
   "id": "16b32e87",
   "metadata": {
    "vscode": {
     "languageId": "plaintext"
    }
   },
   "source": [
    "Subiectul 3"
   ]
  },
  {
   "cell_type": "code",
   "execution_count": null,
   "id": "4bcc805f",
   "metadata": {
    "vscode": {
     "languageId": "cpp"
    }
   },
   "outputs": [],
   "source": [
    "//ex 1\n",
    "void numar(int n, int c, int& m)\n",
    "{\n",
    "\tint p = 1, ok = 0;\n",
    "\tm = 0;\n",
    "\twhile(n!=0)\n",
    "\t{\n",
    "\t\tif(n % 10 != c){\n",
    "\t\t\tm = (n % 10) * p + m;\n",
    "\t\t\tp = p * 10;\n",
    "\t\t\tok = 1;\n",
    "\t\t}\n",
    "\t\tn = n / 10;\n",
    "\t}\n",
    "\tif(ok == 0)\n",
    "\t    m = -1;\n",
    "\t\n",
    "}"
   ]
  },
  {
   "cell_type": "code",
   "execution_count": null,
   "id": "4456376a",
   "metadata": {
    "vscode": {
     "languageId": "cpp"
    }
   },
   "outputs": [],
   "source": [
    "//ex 2\n",
    "#include <iostream>\n",
    "using namespace std;\n",
    "\n",
    "int a[20][20];\n",
    "\n",
    "int main()\n",
    "{\n",
    "    int n, i, j;\n",
    "    cin >> n;\n",
    "    for(i = 1; i <= n; i++)\n",
    "        for(j = 1; j <= n; j++)\n",
    "        if(i + j <= n + 1)\n",
    "        a[i][j] = n + 1 - i - j;\n",
    "        else\n",
    "        a[i][j] = i + j - (n + 1);\n",
    "    for(i = 1; i <= n; i++)\n",
    "    {\n",
    "        for(j = 1; j <= n; j++)\n",
    "        {\n",
    "            cout << a[i][j] << \" \";\n",
    "        }\n",
    "        cout << endl;\n",
    "    }\n",
    "}"
   ]
  },
  {
   "cell_type": "code",
   "execution_count": null,
   "id": "fe3e9cb6",
   "metadata": {
    "vscode": {
     "languageId": "plaintext"
    }
   },
   "outputs": [],
   "source": [
    "//ex 3 - a\n",
    "Am proiectat un algoritm eficient din punct de vedere al memoriei deoarece am folosit doar variabile de tip intreg si am evitat folosirea vectorilor.\n",
    "Am proiectat un algoritm eficient din punct de vedere al timpului deoarece am folosit o abordare liniara.\n",
    "Citim pe rand numerele din fisier, iar atunci cand gasim un numar negativ, salvam pozitia pe care l-am gasit in p1, p2, p3.\n",
    "Avem 3 posibile secvente, a, b, c, pe care le calculam folosind formulele de secvente corespunzatoare.\n",
    "Afisam maximul dintre a, b, si c."
   ]
  },
  {
   "cell_type": "code",
   "execution_count": null,
   "id": "44ad501b",
   "metadata": {
    "vscode": {
     "languageId": "cpp"
    }
   },
   "outputs": [],
   "source": [
    "//ex 3 - b\n",
    "#include <iostream>\n",
    "#include <fstream>\n",
    "using namespace std;\n",
    "ifstream fin(\"bac.in\");\n",
    "int main()\n",
    "{\n",
    "\tint n = 0, x, maxi = -1, a, b, c, p1 = -1, p2 = -1, p3 = -1;\n",
    "\twhile(fin >> x)\n",
    "\t{\n",
    "\t\tn++;\n",
    "\t\tif(x < 0)\n",
    "\t\t{\n",
    "\t\t\tif(p1 == -1)\n",
    "\t\t\t\tp1 = n;\n",
    "\t\t\telse if(p2 == -1)\n",
    "\t\t\t\tp2 = n;\n",
    "\t\t\telse\n",
    "\t\t\t\tp3 = n;\n",
    "\t\t}\n",
    "\t}\n",
    "\ta = p2 - 1;\n",
    "\tc = n - p2;\n",
    "\tb = p3 - p1 - 1;\n",
    "\tif(a > maxi)\n",
    "\t\tmaxi = a;\n",
    "\tif(b > maxi)\n",
    "\t\tmaxi = b;\n",
    "\tif(c > maxi)\n",
    "\t\tmaxi = c;\n",
    "\tcout << maxi;\n",
    "\t\n",
    "\tfin.close();\n",
    "\treturn 0;\n",
    "}"
   ]
  }
 ],
 "metadata": {
  "language_info": {
   "name": "python"
  }
 },
 "nbformat": 4,
 "nbformat_minor": 5
}
