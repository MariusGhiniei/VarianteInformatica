{
 "cells": [
  {
   "cell_type": "code",
   "execution_count": null,
   "id": "e1295f5a",
   "metadata": {
    "vscode": {
     "languageId": "plaintext"
    }
   },
   "outputs": [],
   "source": [
    "Varianta 2021/Testul 5"
   ]
  },
  {
   "cell_type": "markdown",
   "id": "215f5e4d",
   "metadata": {
    "vscode": {
     "languageId": "plaintext"
    }
   },
   "source": [
    "Subiectul 1"
   ]
  },
  {
   "cell_type": "code",
   "execution_count": null,
   "id": "5bcb6248",
   "metadata": {
    "vscode": {
     "languageId": "plaintext"
    }
   },
   "outputs": [],
   "source": [
    "1. d)\n",
    "2. a) {Void - recursiv, se intoarce la codul pe care nu l a executat}\n",
    "3. c) {Se genereaza intai crescator - bkt pe multime de cifre}\n",
    "4. d) {Arbore - descendenti}\n",
    "5. b) {Gradul = nr de muchii care sunt conectate la nod}"
   ]
  },
  {
   "cell_type": "markdown",
   "id": "ac19a5be",
   "metadata": {
    "vscode": {
     "languageId": "plaintext"
    }
   },
   "source": [
    "Subiectul 2"
   ]
  },
  {
   "cell_type": "code",
   "execution_count": null,
   "id": "25e32c1b",
   "metadata": {
    "vscode": {
     "languageId": "plaintext"
    }
   },
   "outputs": [],
   "source": [
    "1.  a) 17396\n",
    "    b) 374, 215, 192, 0"
   ]
  },
  {
   "cell_type": "code",
   "execution_count": null,
   "id": "4bab9bca",
   "metadata": {
    "vscode": {
     "languageId": "cpp"
    }
   },
   "outputs": [],
   "source": [
    "//c)\n",
    "#include <iostream>\n",
    "using namespace std;\n",
    "\n",
    "int main()\n",
    "{\n",
    "    int x, y;\n",
    "    cin>>x;\n",
    "    y = 0;\n",
    "    do {\n",
    "        if(x>9)\n",
    "        {\n",
    "        do {\n",
    "            x = x/10;\n",
    "        } while(x>9);\n",
    "        }\n",
    "        y = y * 10 + x;\n",
    "        cin>>x;\n",
    "    } while(x!=0);\n",
    "    cout<<y;\n",
    "}"
   ]
  },
  {
   "cell_type": "code",
   "execution_count": null,
   "id": "940947ab",
   "metadata": {
    "vscode": {
     "languageId": "plaintext"
    }
   },
   "outputs": [],
   "source": [
    "d)\n",
    "citeste x\n",
    "y <- 0\n",
    "repeta\n",
    "{\n",
    "    daca x>9 atunci\n",
    "    {\n",
    "        cat timp x>9 executa\n",
    "        {\n",
    "            x <- [x/10]\n",
    "        }\n",
    "    }\n",
    "    y <- y * 10 + x\n",
    "    citeste x\n",
    " } pana cand x = 0\n",
    "scrie y"
   ]
  },
  {
   "cell_type": "code",
   "execution_count": null,
   "id": "a71e234a",
   "metadata": {
    "vscode": {
     "languageId": "plaintext"
    }
   },
   "outputs": [],
   "source": [
    "2.\n",
    "    struct carte{\n",
    "        char titlu[50];\n",
    "        char autor[10][50];\n",
    "        int nrExemplare\n",
    "    }c;"
   ]
  },
  {
   "cell_type": "code",
   "execution_count": null,
   "id": "b82ae165",
   "metadata": {
    "vscode": {
     "languageId": "plaintext"
    }
   },
   "outputs": [],
   "source": [
    "3. \n",
    "    11*nf*rm*t*c*"
   ]
  },
  {
   "cell_type": "code",
   "execution_count": null,
   "id": "65a96c8f",
   "metadata": {
    "vscode": {
     "languageId": "plaintext"
    }
   },
   "outputs": [],
   "source": [
    "Subiectul 3"
   ]
  },
  {
   "cell_type": "code",
   "execution_count": null,
   "id": "d21882af",
   "metadata": {
    "vscode": {
     "languageId": "plaintext"
    }
   },
   "outputs": [],
   "source": [
    "//ex 1"
   ]
  },
  {
   "cell_type": "code",
   "execution_count": null,
   "id": "32e2e675",
   "metadata": {
    "vscode": {
     "languageId": "plaintext"
    }
   },
   "outputs": [],
   "source": [
    "//ex 2"
   ]
  },
  {
   "cell_type": "code",
   "execution_count": null,
   "id": "76b0f3cc",
   "metadata": {
    "vscode": {
     "languageId": "plaintext"
    }
   },
   "outputs": [],
   "source": [
    "//ex 3 - a"
   ]
  },
  {
   "cell_type": "code",
   "execution_count": null,
   "id": "fae44be6",
   "metadata": {
    "vscode": {
     "languageId": "plaintext"
    }
   },
   "outputs": [],
   "source": [
    "//ex 3 - b"
   ]
  }
 ],
 "metadata": {
  "language_info": {
   "name": "python"
  }
 },
 "nbformat": 4,
 "nbformat_minor": 5
}
