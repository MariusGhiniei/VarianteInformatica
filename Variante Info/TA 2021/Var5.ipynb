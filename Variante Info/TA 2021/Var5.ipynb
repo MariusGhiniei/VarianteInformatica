{
 "cells": [
  {
   "cell_type": "markdown",
   "id": "e1295f5a",
   "metadata": {
    "vscode": {
     "languageId": "plaintext"
    }
   },
   "source": [
    "Varianta 2021/Testul 5"
   ]
  },
  {
   "cell_type": "markdown",
   "id": "215f5e4d",
   "metadata": {
    "vscode": {
     "languageId": "plaintext"
    }
   },
   "source": [
    "Subiectul 1"
   ]
  },
  {
   "cell_type": "code",
   "execution_count": null,
   "id": "5bcb6248",
   "metadata": {
    "vscode": {
     "languageId": "plaintext"
    }
   },
   "outputs": [],
   "source": [
    "1. d)\n",
    "2. a) {Void - recursiv, se intoarce la codul pe care nu l a executat}\n",
    "3. c) {Se genereaza intai crescator - bkt pe multime de cifre}\n",
    "4. d) {Arbore - descendenti}\n",
    "5. b) {Gradul = nr de muchii care sunt conectate la nod}"
   ]
  },
  {
   "cell_type": "markdown",
   "id": "ac19a5be",
   "metadata": {
    "vscode": {
     "languageId": "plaintext"
    }
   },
   "source": [
    "Subiectul 2"
   ]
  },
  {
   "cell_type": "code",
   "execution_count": null,
   "id": "25e32c1b",
   "metadata": {
    "vscode": {
     "languageId": "plaintext"
    }
   },
   "outputs": [],
   "source": [
    "1.  a) 17396\n",
    "    b) 374, 215, 192, 0"
   ]
  },
  {
   "cell_type": "code",
   "execution_count": null,
   "id": "4bab9bca",
   "metadata": {
    "vscode": {
     "languageId": "cpp"
    }
   },
   "outputs": [],
   "source": [
    "//c)\n",
    "#include <iostream>\n",
    "using namespace std;\n",
    "\n",
    "int main()\n",
    "{\n",
    "    int x, y;\n",
    "    cin>>x;\n",
    "    y = 0;\n",
    "    do {\n",
    "        if(x>9)\n",
    "        {\n",
    "        do {\n",
    "            x = x/10;\n",
    "        } while(x>9);\n",
    "        }\n",
    "        y = y * 10 + x;\n",
    "        cin>>x;\n",
    "    } while(x!=0);\n",
    "    cout<<y;\n",
    "}"
   ]
  },
  {
   "cell_type": "code",
   "execution_count": null,
   "id": "940947ab",
   "metadata": {
    "vscode": {
     "languageId": "plaintext"
    }
   },
   "outputs": [],
   "source": [
    "d)\n",
    "citeste x\n",
    "y <- 0\n",
    "repeta\n",
    "{\n",
    "    daca x>9 atunci\n",
    "    {\n",
    "        cat timp x>9 executa\n",
    "        {\n",
    "            x <- [x/10]\n",
    "        }\n",
    "    }\n",
    "    y <- y * 10 + x\n",
    "    citeste x\n",
    " } pana cand x = 0\n",
    "scrie y"
   ]
  },
  {
   "cell_type": "code",
   "execution_count": null,
   "id": "a71e234a",
   "metadata": {
    "vscode": {
     "languageId": "cpp"
    }
   },
   "outputs": [],
   "source": [
    "2.\n",
    "    struct carte{\n",
    "        char titlu[50];\n",
    "        char autor[10][50];\n",
    "        int nrExemplare\n",
    "    }c;"
   ]
  },
  {
   "cell_type": "code",
   "execution_count": null,
   "id": "b82ae165",
   "metadata": {
    "vscode": {
     "languageId": "plaintext"
    }
   },
   "outputs": [],
   "source": [
    "3. \n",
    "    11*nf*rm*t*c*"
   ]
  },
  {
   "cell_type": "markdown",
   "id": "65a96c8f",
   "metadata": {
    "vscode": {
     "languageId": "plaintext"
    }
   },
   "source": [
    "Subiectul 3"
   ]
  },
  {
   "cell_type": "code",
   "execution_count": null,
   "id": "d21882af",
   "metadata": {
    "vscode": {
     "languageId": "cpp"
    }
   },
   "outputs": [],
   "source": [
    "//ex 1\n",
    "int identice(int n)\n",
    "{\n",
    "    int c, ok = 0;\n",
    "    c = n % 10;\n",
    "    n = n / 10;\n",
    "    while(n != 0)\n",
    "    {\n",
    "        if (c != n%10)\n",
    "        {\n",
    "            ok = 1;\n",
    "            break;\n",
    "        }\n",
    "        n = n / 10;\n",
    "    }\n",
    "    if(ok == 1)\n",
    "        return 0;\n",
    "    else\n",
    "        return 1;\n",
    "}"
   ]
  },
  {
   "cell_type": "code",
   "execution_count": null,
   "id": "32e2e675",
   "metadata": {
    "vscode": {
     "languageId": "cpp"
    }
   },
   "outputs": [],
   "source": [
    "//ex 2\n",
    "#include <iostream>\n",
    "using namespace std;\n",
    "\n",
    "int a[10][10];\n",
    "\n",
    "int main()\n",
    "{\n",
    "\tint n, i, j, d, m;\n",
    "\tcin >> m >> n;\n",
    "\tfor(i = 1; i <= m; i++)\n",
    "\t\tfor(j = 1; j <= n; j++)\n",
    "\t\t\ta[i][j] = (i * j) % 10;\n",
    "\n",
    "\tfor(i = 1; i <= m; i++)\n",
    "\t{\n",
    "\t\tfor(j = 1; j <= n; j++)\n",
    "\t\t{\n",
    "\t\t\tcout << a[i][j] << \" \";\n",
    "\t\t}\n",
    "\t\tcout << endl;\n",
    "\t}\n",
    "}"
   ]
  },
  {
   "cell_type": "code",
   "execution_count": null,
   "id": "76b0f3cc",
   "metadata": {
    "vscode": {
     "languageId": "plaintext"
    }
   },
   "outputs": [],
   "source": [
    "//ex 3 - a\n",
    "Am proiectat un algoritm eficient din punct de vedere al memoriei deoarece am folosit doar variabile de tip intreg si am evitat folosirea vectorilor.\n",
    "Am proiectat un algoritm eficient din punct de vedere al timpului deoarece am folosit o abordare liniara, rezolvand totul din citire.\n",
    "Citim numarul de numere in sir, apoi citim fiecare numar pe rand, gasim maximul dintre cele citite si afisam maximul."
   ]
  },
  {
   "cell_type": "code",
   "execution_count": null,
   "id": "fae44be6",
   "metadata": {
    "vscode": {
     "languageId": "cpp"
    }
   },
   "outputs": [],
   "source": [
    "//ex 3 - b\n",
    "#include <iostream>\n",
    "#include <fstream>\n",
    "using namespace std;\n",
    "ifstream fin(\"bac.txt\");\n",
    "\n",
    "\n",
    "int main()\n",
    "{\n",
    "    int maxi = -1, i, x, n;\n",
    "    fin >> n;\n",
    "    for(i = 1; i <= n; i++)\n",
    "    {\n",
    "        fin >> x;\n",
    "        if(x > maxi)\n",
    "        maxi = x;\n",
    "        cout << maxi << \" \";\n",
    "    }\n",
    "    fin.close();\n",
    "    return 0;\n",
    "\n",
    "}"
   ]
  }
 ],
 "metadata": {
  "language_info": {
   "name": "python"
  }
 },
 "nbformat": 4,
 "nbformat_minor": 5
}
