{
 "cells": [
  {
   "cell_type": "markdown",
   "id": "74ef1b14",
   "metadata": {
    "vscode": {
     "languageId": "plaintext"
    }
   },
   "source": [
    "Varianta 2021 / Testul 7"
   ]
  },
  {
   "cell_type": "markdown",
   "id": "ddb852ca",
   "metadata": {
    "vscode": {
     "languageId": "plaintext"
    }
   },
   "source": [
    "Subiectul 1"
   ]
  },
  {
   "cell_type": "code",
   "execution_count": null,
   "id": "7bf5009a",
   "metadata": {
    "vscode": {
     "languageId": "plaintext"
    }
   },
   "outputs": [],
   "source": [
    "1. c {%100 afla ultimele 2 cifre}\n",
    "2. b {int recursiv}\n",
    "3. d {Bkt pe cuvant}\n",
    "4. a {Arbore cu radacina}\n",
    "5. b {Graf neorientat, nr de muchii}"
   ]
  },
  {
   "cell_type": "markdown",
   "id": "848d782f",
   "metadata": {
    "vscode": {
     "languageId": "plaintext"
    }
   },
   "source": [
    "Subiectul 2"
   ]
  },
  {
   "cell_type": "code",
   "execution_count": null,
   "id": "75937f19",
   "metadata": {
    "vscode": {
     "languageId": "plaintext"
    }
   },
   "outputs": [],
   "source": [
    "1.  a) Se afiseaza valoarea 27596\n",
    "    b) O secventa de numere pare care pot fi citite astfel incat in urma executarii algoritmului sa se afiseze valoarea 751 sunt : 176, 52, 10, 0."
   ]
  },
  {
   "cell_type": "code",
   "execution_count": null,
   "id": "27cad2ad",
   "metadata": {
    "vscode": {
     "languageId": "cpp"
    }
   },
   "outputs": [],
   "source": [
    "// c)\n",
    "#include <iostream>\n",
    "using namespace std;\n",
    "\n",
    "int main()\n",
    "{\n",
    "    int x, n, y, c;\n",
    "    cin>>x;\n",
    "    n = 0;\n",
    "    while(x != 0)\n",
    "    {\n",
    "        y = x;\n",
    "        c = 0;\n",
    "        while(y>0)\n",
    "        {\n",
    "            if(y%10>c)\n",
    "            {\n",
    "                c = y % 10;\n",
    "            }\n",
    "            y = y / 10;\n",
    "        }\n",
    "        n = n * 10 + c;\n",
    "        cin>>x;\n",
    "    }\n",
    "    cout<<n;\n",
    "}"
   ]
  },
  {
   "cell_type": "code",
   "execution_count": null,
   "id": "3ea87c1d",
   "metadata": {
    "vscode": {
     "languageId": "plaintext"
    }
   },
   "outputs": [],
   "source": [
    "d)\n",
    "citeste x\n",
    "n <- 0\n",
    "daca x =/ 0 atunci{\n",
    "    repeta{\n",
    "    y <- x; c <- 0\n",
    "    cat timp y>0 executa{\n",
    "            daca y%10>c atunci\n",
    "            {\n",
    "            c <- y%10\n",
    "            }\n",
    "        y <- [y/10]\n",
    "        }\n",
    "        n <- n*10+c\n",
    "        citeste x\n",
    "    } pana cand x = 0\n",
    "}\n",
    "scrie n"
   ]
  },
  {
   "cell_type": "code",
   "execution_count": null,
   "id": "185fa05b",
   "metadata": {
    "vscode": {
     "languageId": "cpp"
    }
   },
   "outputs": [],
   "source": [
    "2.\n",
    "if(e.dataNasterii.an >= dataEveniment.an && e.dataNasterii.luna >= dataEveniment.luna && e.dataNasterii.zi > dataEveniment.zi)\n",
    "            cout << \"ulterior\";\n",
    "    else cout << \"nu\";"
   ]
  },
  {
   "cell_type": "code",
   "execution_count": null,
   "id": "86c6d6d2",
   "metadata": {
    "vscode": {
     "languageId": "plaintext"
    }
   },
   "outputs": [],
   "source": [
    "3.\n",
    "BDUED"
   ]
  },
  {
   "cell_type": "markdown",
   "id": "9c07d0b7",
   "metadata": {
    "vscode": {
     "languageId": "plaintext"
    }
   },
   "source": [
    "Subiectul 3"
   ]
  },
  {
   "cell_type": "code",
   "execution_count": null,
   "id": "bce404a0",
   "metadata": {
    "vscode": {
     "languageId": "cpp"
    }
   },
   "outputs": [],
   "source": [
    "//ex 1\n",
    "void afisare(int x, int y, int k)\n",
    "{\n",
    "    int ck, xy;\n",
    "        ck = k;\n",
    "    while(x < y){\n",
    "        k = ck;\n",
    "        while(k != 0){\n",
    "            cout << x << \" \";\n",
    "            k--;\n",
    "            x++;\n",
    "            if(x > y){\n",
    "            cout << \"*\" << \" \";\n",
    "            break;\n",
    "            }\n",
    "        }\n",
    "        if(k == 0)\n",
    "            cout << \"*\" << \" \";\n",
    "    }\n",
    "}"
   ]
  },
  {
   "cell_type": "code",
   "execution_count": null,
   "id": "e30c1635",
   "metadata": {
    "vscode": {
     "languageId": "cpp"
    }
   },
   "outputs": [],
   "source": [
    "//ex 2\n",
    "#include <iostream>\n",
    "using namespace std;\n",
    "\n",
    "int a[10][10];\n",
    "int v[10];\n",
    "\n",
    "int main()\n",
    "{\n",
    "\tint i, j, m, n, x, cifx = 0, c, k;\n",
    "\tcin>>x;\n",
    "\twhile(x!=0)\n",
    "\t{\n",
    "\t\tc = x % 10;\n",
    "\t\tcifx++;\n",
    "\t\tv[cifx] = c;\n",
    "\t\tx = x / 10;\n",
    "\t}\n",
    "\tk = cifx;\n",
    "\tfor(j=1; j<=cifx; j++)\n",
    "\t{\n",
    "\t\ta[1][j] = v[k];\n",
    "\t\tk--;\n",
    "\t}\n",
    "\tfor(i=1; i<=cifx; i++)\n",
    "\t{\n",
    "\t\tfor(j=1; j<=cifx; j++)\n",
    "\t\t{\n",
    "\t\t\tcout<<a[1][j]<<\" \";\n",
    "\t\t}\n",
    "\t\tcout<<endl;\n",
    "\t}\n",
    "}"
   ]
  },
  {
   "cell_type": "code",
   "execution_count": null,
   "id": "d57ef48f",
   "metadata": {
    "vscode": {
     "languageId": "plaintext"
    }
   },
   "outputs": [],
   "source": [
    "//ex 3 - a\n",
    "Am proiectat un algoritm eficient din punct de vedere al memoriei prin utilizarea a doua variabile de tip intreg si evitarea utilizarii vectorilor.\n",
    "Am proiectat un algoritm eficient din punct de vedere al timpului, utilizand o abordare liniara, rezolvand totul din citire.\n",
    "Citind numerele din fisier si afisandu-le doar pe cele pare, tratand cazul de nu exista prin utilizarea variabilei \"ok\".\n"
   ]
  },
  {
   "cell_type": "code",
   "execution_count": null,
   "id": "fc49d4db",
   "metadata": {
    "vscode": {
     "languageId": "cpp"
    }
   },
   "outputs": [],
   "source": [
    "//ex 3 - b\n",
    "//Metoda 1 - nu afisez in ordine crescatoare\n",
    "#include <iostream>\n",
    "#include <fstream>\n",
    "using namespace std;\n",
    "ifstream fin(\"bac.txt\");\n",
    "\n",
    "int main(){\n",
    "\tint x, ok = 0;\n",
    "\twhile(fin >> x){\n",
    "\t\tif(x % 2 == 0){\n",
    "\t\t\tcout << x << \" \";\n",
    "\t\t\tok++;\n",
    "\t\t}\n",
    "\t}\n",
    "\tif(ok == 0)\n",
    "\t\tcout<<\"nu exista\";\n",
    "\n",
    "    fin.close();\n",
    "}\n",
    "\n",
    "//Metoda 2 - afisez in ordine + vector de frecventa\n",
    "\n",
    "#include <iostream>\n",
    "#include <fstream>\n",
    "using namespace std;\n",
    "ifstream fin(\"bac.txt\");\n",
    "int fr[10];\n",
    "\n",
    "int main(){\n",
    "\tint x, ok = 0, i;\n",
    "\twhile(fin >> x)\n",
    "\t    fr[x]++;\n",
    "\t\n",
    "\tfor(i = 0; i < 10; i = i + 2){\n",
    "\t    while(fr[i] != 0){\n",
    "\t        cout << i << \" \";\n",
    "\t        fr[i]--;\n",
    "\t        ok = 1;\n",
    "\t    }\n",
    "\t}\n",
    "\tif(ok == 0)\n",
    "\t    cout<<\"nu exista\";\n",
    "\n",
    "    fin.close();\n",
    "}\n"
   ]
  }
 ],
 "metadata": {
  "language_info": {
   "name": "python"
  }
 },
 "nbformat": 4,
 "nbformat_minor": 5
}
