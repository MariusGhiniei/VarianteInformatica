{
 "cells": [
  {
   "attachments": {},
   "cell_type": "markdown",
   "id": "6a78b3b7-de3a-492b-affd-07d710042266",
   "metadata": {
    "vscode": {
     "languageId": "plaintext"
    }
   },
   "source": [
    "Varianta 2021/Testul 1"
   ]
  },
  {
   "cell_type": "markdown",
   "id": "77d12b41",
   "metadata": {
    "vscode": {
     "languageId": "plaintext"
    }
   },
   "source": [
    "Subiectul 1"
   ]
  },
  {
   "cell_type": "code",
   "execution_count": null,
   "id": "5273b358",
   "metadata": {
    "vscode": {
     "languageId": "plaintext"
    }
   },
   "outputs": [],
   "source": [
    "\n",
    "1. b { Operatorul && are prioritate fata de operatorul ||, !-> neaga totul, adica !(||) devine &&, iar !(&&) devine || }\n",
    "2. b { Int - Recursiv }\n",
    "3. a { Struct - Data }\n",
    "4. d {Arbore - Frunze }\n",
    "5. c {Graf neorientat - Nr comp conexe }\n"
   ]
  },
  {
   "cell_type": "markdown",
   "id": "97ad994d",
   "metadata": {
    "vscode": {
     "languageId": "plaintext"
    }
   },
   "source": [
    "\n",
    "Subiectul 2"
   ]
  },
  {
   "cell_type": "code",
   "execution_count": null,
   "id": "8dcffcbc",
   "metadata": {
    "vscode": {
     "languageId": "plaintext"
    }
   },
   "outputs": [],
   "source": [
    "\n",
    "1. a) -1\n",
    "   b) 7777, 7789, 7999"
   ]
  },
  {
   "cell_type": "code",
   "execution_count": null,
   "id": "6863f32b-60e1-4799-85fa-f85c9bbca7a1",
   "metadata": {
    "trusted": true
   },
   "outputs": [],
   "source": [
    "//c)\n",
    "#include <iostream>\n",
    "using namespace std;\n",
    "\n",
    "int main(){\n",
    "\tint n, c, m;\n",
    "\tcin >> n;\n",
    "\tm = 10;\n",
    "\tif(n == 0){\n",
    "\t\tm = 0;\n",
    "\t}\n",
    "\telse\n",
    "\t\tdo\n",
    "\t\t{\n",
    "\t\t\tc = n % 10;\n",
    "\t\t\tn = n / 10;\n",
    "\t\t\tif(c <= m){\n",
    "\t\t\t\tm = c;\n",
    "\t\t\t}\n",
    "\t\t\telse\n",
    "\t\t\t\tm = -1;\n",
    "\t\t} while (n == 0);\n",
    "\tcout << m;\n",
    "    return 0;\n",
    "}"
   ]
  },
  {
   "cell_type": "code",
   "execution_count": null,
   "id": "8cd4a21d-9dbf-424b-ba5f-7f2781262c2e",
   "metadata": {
    "vscode": {
     "languageId": "plaintext"
    }
   },
   "outputs": [],
   "source": [
    "d)    \n",
    "    citeste n\n",
    "    m <- 10\n",
    "    daca n = 0 atunci \n",
    "        m <- 0\n",
    "    altfel\n",
    "        cat timp n != 0 executa\n",
    "            c <- n % 10\n",
    "            n <- [n/10]\n",
    "            daca c <= m atunci \n",
    "                m <- c\n",
    "            altfel \n",
    "                m <- -1\n",
    "        sfarsit cat timp\n",
    "    sfarsit alfel \n",
    "    scrie m"
   ]
  },
  {
   "cell_type": "code",
   "execution_count": null,
   "id": "d5187c12-d1c5-4d87-a0a1-423bf7546f83",
   "metadata": {
    "vscode": {
     "languageId": "plaintext"
    }
   },
   "outputs": [],
   "source": [
    "2) 149, 167, 347"
   ]
  },
  {
   "cell_type": "code",
   "execution_count": null,
   "id": "aeb13cee-dcb6-4fc2-8c13-278df5b49659",
   "metadata": {
    "vscode": {
     "languageId": "plaintext"
    }
   },
   "outputs": [],
   "source": [
    "3)  7\n",
    "    2020-2021"
   ]
  },
  {
   "cell_type": "markdown",
   "id": "0cc97ed6-0135-45a6-953c-e831f10ccf86",
   "metadata": {
    "trusted": true
   },
   "source": [
    "Subiectul 3"
   ]
  },
  {
   "cell_type": "code",
   "execution_count": null,
   "id": "21815926",
   "metadata": {
    "vscode": {
     "languageId": "cpp"
    }
   },
   "outputs": [],
   "source": [
    "//ex1 \n",
    "void divX(int n, int x){\n",
    "    while(n != 0){\n",
    "        cout << n*x << \" \";\n",
    "        n--;\n",
    "    }\n",
    "}"
   ]
  },
  {
   "cell_type": "code",
   "execution_count": null,
   "id": "632ed7af",
   "metadata": {
    "vscode": {
     "languageId": "cpp"
    }
   },
   "outputs": [],
   "source": [
    "//ex2\n",
    "#include <iostream>\n",
    "using namespace std;\n",
    "int a[101][101];\n",
    "int main (){\n",
    "    int n;\n",
    "    cin >> n;\n",
    "    for(int i = 1; i <= n; i++)\n",
    "        for(int j = 1; j <= n; j++)\n",
    "            cin >> a[i][j];\n",
    "    //prima coloana -> coloana este fixata, linia e variabila\n",
    "    for(int i = 1; i <= n - 1; i++)\n",
    "        cout << a[i][1] << \" \";\n",
    "    // ultima linie -> linia este fixata, coloana e variabila\n",
    "    for(int j = 1; j <= n - 1; j++)\n",
    "        cout << a[n][j] << \" \";\n",
    "    // ultima coloana -> coloana este fixata, linia e variabila\n",
    "    for(int i = n; i >= 2 ; i--)\n",
    "        cout << a[i][n] << \" \"; \n",
    "    //prima linie -> linia este fixata, coloana este variabila \n",
    "    for(int j = n; j >= 2; j--)\n",
    "        cout << a[1][j] << \" \";\n",
    "}\n"
   ]
  },
  {
   "cell_type": "code",
   "execution_count": null,
   "id": "c9d50ff8",
   "metadata": {
    "vscode": {
     "languageId": "plaintext"
    }
   },
   "outputs": [],
   "source": [
    "//ex3 \n",
    "a)  Am proiectat un algoritm eficient din punct de vedere al memoriei, utilizand un vector de frecventa de maxim 100 de numere, prelucrand doar valorile de 2 cifre din fisierul de intrare.\n",
    "    Am proiectat un algoritm eficient din punct de vedere al timpului, folosind o abordare liniara, daca gasim cele 2 numere cerute de problema oprim parcurgerea vectorului de frecventa. Complexitate problemei O(max(n, 90)) ~ O(n), unde n reprezinta numarul de numere citite.\n",
    "    Citim numerele din fisier, crestem frecventa doar la numerele de 2 cifre. Parcurgem descrescator vectorul de frecventa, daca frecventa este 0 atunci numarul nu apare printre cele citite si verificam daca are si cifrele distincte, actualizam valorile din max1, max2 si dupa caz oprim parcurgerea vectorului daca am gasit valorile cerute. Tratam si cazul de nu exista cu variabila ok."
   ]
  },
  {
   "cell_type": "code",
   "execution_count": null,
   "id": "f658df48",
   "metadata": {
    "vscode": {
     "languageId": "cpp"
    }
   },
   "outputs": [],
   "source": [
    "//ex3\n",
    "//b)\n",
    "#include <fstream>\n",
    "#include <iostream>\n",
    "using namespace std;\n",
    "ifstream fin(\"bac.in\");\n",
    "int fr[100];\n",
    "int main(){\n",
    "    \n",
    "    int x, ok = 1;\n",
    "    while(fin>>x){\n",
    "        if(x < 100 && x > 9)\n",
    "            fr[x]++;\n",
    "    }\n",
    "    int max1 =-1, max2=-1;\n",
    "    for (int i=99; i>9; i--){\n",
    "        if (fr[i]==0 && i/10 != i%10){\n",
    "            if (max1 == -1)\n",
    "                max1 = i;\n",
    "            else \n",
    "                max2 = i;\n",
    "        }\n",
    "        if (max1 != -1 && max2 != -1){\n",
    "            ok = 0;\n",
    "            break;\n",
    "        }\n",
    "    }\n",
    "    if (ok==0)\n",
    "        cout << max1 << \" \" << max2 << \" \";\n",
    "    else \n",
    "        cout << \"nu exista\";\n",
    "    \n",
    "    fin.close();\n",
    "    return 0;\n",
    "}"
   ]
  }
 ],
 "metadata": {
  "kernelspec": {
   "display_name": "C++14",
   "language": "C++14",
   "name": "xcpp14"
  },
  "language_info": {
   "codemirror_mode": "text/x-c++src",
   "file_extension": ".cpp",
   "mimetype": "text/x-c++src",
   "name": "c++",
   "version": "14"
  }
 },
 "nbformat": 4,
 "nbformat_minor": 5
}
