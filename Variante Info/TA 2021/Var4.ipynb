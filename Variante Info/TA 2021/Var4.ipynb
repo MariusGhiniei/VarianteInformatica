{
 "cells": [
  {
   "cell_type": "markdown",
   "metadata": {},
   "source": [
    "Varianta 2021/Testul 4"
   ]
  },
  {
   "cell_type": "markdown",
   "metadata": {
    "vscode": {
     "languageId": "plaintext"
    }
   },
   "source": [
    "Subiectul 1"
   ]
  },
  {
   "cell_type": "code",
   "execution_count": null,
   "metadata": {
    "vscode": {
     "languageId": "plaintext"
    }
   },
   "outputs": [],
   "source": [
    "1. c {valoarea 0 o are raspunsul fals}\n",
    "2. a {Int - Recursiv}\n",
    "3. b {Bkt - pe cifre, 11211, 11212, 11221, 11222, 12112, 12121,12122, 12211, 12212.}\n",
    "4. d {Arbore - lant elementar = varfurile nu se repeta}\n",
    "5. c {Nr de grafuri cu n noduri este = 2^(n*(n-1))/2}"
   ]
  },
  {
   "cell_type": "markdown",
   "metadata": {
    "vscode": {
     "languageId": "plaintext"
    }
   },
   "source": [
    "Subiectul 2"
   ]
  },
  {
   "cell_type": "code",
   "execution_count": null,
   "metadata": {
    "vscode": {
     "languageId": "plaintext"
    }
   },
   "outputs": [],
   "source": [
    "1) 15\n",
    "2) minimul este: 10000, maximul este: 98888 {Pt a se afisa 1 trebuie sa am doar cifre pare}"
   ]
  },
  {
   "cell_type": "code",
   "execution_count": null,
   "metadata": {
    "vscode": {
     "languageId": "cpp"
    }
   },
   "outputs": [],
   "source": [
    "//3c)\n",
    "#include <iostream>\n",
    "using namespace std;\n",
    "\n",
    "int main()\n",
    "{\n",
    "    int n, k, c, p;\n",
    "    cin >> n >> k;\n",
    "    p = 1;\n",
    "    while(n > 0)\n",
    "    {\n",
    "        c = n % 10;\n",
    "        if(k > 0)\n",
    "        {\n",
    "            if(c % 2 == 1)\n",
    "            {\n",
    "                p = p * c;\n",
    "            }\n",
    "        }\n",
    "        n = n / 10;\n",
    "        k = k - 1;\n",
    "    }\n",
    "    cout << p;\n",
    "    \n",
    "    return 0;\n",
    "}"
   ]
  },
  {
   "cell_type": "code",
   "execution_count": null,
   "metadata": {
    "vscode": {
     "languageId": "cpp"
    }
   },
   "outputs": [],
   "source": [
    "d) \n",
    "    citeste n, k (numere naturale)\n",
    "    p <- 1\n",
    "    daca n > 0 atunci\n",
    "    {   \n",
    "        repeta\n",
    "        {\n",
    "            c <- n % 10\n",
    "            daca k > 0 atunci\n",
    "            {\n",
    "                daca c % 2 = 1 atunci\n",
    "                {\n",
    "                    p <- p * c\n",
    "                }\n",
    "            }\n",
    "                n <- n/10\n",
    "                k <- k-1\n",
    "        }pana cand n <= 0\n",
    "    }\n",
    "    scrie p\n"
   ]
  },
  {
   "cell_type": "code",
   "execution_count": null,
   "metadata": {
    "vscode": {
     "languageId": "cpp"
    }
   },
   "outputs": [],
   "source": [
    "2.\n",
    "struct ciocolata{\n",
    "    int gramaj;\n",
    "    struct{\n",
    "        int an;\n",
    "        int luna;\n",
    "        int zi;\n",
    "    }datae;\n",
    "    \n",
    "}c;"
   ]
  },
  {
   "cell_type": "code",
   "execution_count": null,
   "metadata": {
    "vscode": {
     "languageId": "cpp"
    }
   },
   "outputs": [],
   "source": [
    "3.\n",
    "9sntTEA\n",
    "Obs:    strcpy(t,s+i+1); \n",
    "        strcpy(s+i,t);\n",
    "Cu aceste 2 instructiuni stergem caracterul aflat pe pozitia i din sirul s."
   ]
  },
  {
   "cell_type": "markdown",
   "metadata": {
    "vscode": {
     "languageId": "cpp"
    }
   },
   "source": [
    "Subiectul 3"
   ]
  },
  {
   "cell_type": "code",
   "execution_count": null,
   "metadata": {
    "vscode": {
     "languageId": "cpp"
    }
   },
   "outputs": [],
   "source": [
    "//ex 1\n",
    "int joc (int n){\n",
    "    int i, nr = 0;\n",
    "    for(i = 2; i <= n; i++)\n",
    "    {\n",
    "        if(n % i == 0)\n",
    "            nr++;\n",
    "    }\n",
    "   return nr;\n",
    "}"
   ]
  },
  {
   "cell_type": "code",
   "execution_count": null,
   "metadata": {
    "vscode": {
     "languageId": "cpp"
    }
   },
   "outputs": [],
   "source": [
    "//ex2\n",
    "#include <iostream>\n",
    "using namespace std;\n",
    "\n",
    "int a[101][101];\n",
    "\n",
    "int main()\n",
    "{\n",
    "\tint n, i, j, imax = -1, m;\n",
    "\tcin >> m >> n;\n",
    "\tfor(i = 1; i <= m; i++)\n",
    "\t\tfor(j = 1; j <= n; j++)\n",
    "\t\t\tcin >> a[i][j];\n",
    "\tfor(i = 1; i <= m; i++)\n",
    "\t{\n",
    "\t    imax = -1;\n",
    "\t\tfor(j = 1; j <= n; j++)\n",
    "\t\t{\n",
    "\t\t\tif(a[i][j] > imax && a[i][j] < 21)\n",
    "\t\t\t\timax = a[i][j];\n",
    "\t\t}\n",
    "\t\tif(imax != -1)\n",
    "\t\t\tcout << imax << endl;\n",
    "\t\telse\n",
    "\t\t\tcout << \"nu exista\" << endl;\n",
    "\t}\n",
    "\treturn 0;\n",
    "}"
   ]
  },
  {
   "cell_type": "code",
   "execution_count": null,
   "metadata": {
    "vscode": {
     "languageId": "cpp"
    }
   },
   "outputs": [],
   "source": [
    "//ex3 a)\n",
    "Am proiectat un algoritm eficient din punct de vedere al memoriei, neutilizand vectori.\n",
    "Am proiectul un algoritm eficient din punct de vedere al timpului, folosind o abordare liniara si algoritmul de interclasare.\n",
    "Citim lungimea vectorilor din cele 2 fisiere si cate un numar din fiecare vector. Cat timp mai am numere de citit evaluez 3 cazuri posibile.\n",
    "Daca x < y atunci trebuie sa citesc in continuare din primul vector, daca gasesc o valoarea divizibila cu 5 o afisez.\n",
    "Daca x > y atunci trebuie sa citesc in continuare din al doilea vector, daca gasesc o valoarea divizibila cu 5 o afisez.\n",
    "Daca x == y atunci trebuie sa citesc in continuare din vectori. La final tratez si cazul de nu exista.\n"
   ]
  },
  {
   "cell_type": "code",
   "execution_count": null,
   "metadata": {
    "vscode": {
     "languageId": "cpp"
    }
   },
   "outputs": [],
   "source": [
    "//ex3 b)\n",
    "#include <iostream>\n",
    "#include <fstream>\n",
    "using namespace std;\n",
    "ifstream f1(\"bac1.txt\");\n",
    "ifstream f2(\"bac2.txt\");\n",
    "\n",
    "int main(){\n",
    "    //n-lungimea din f1, m-lungimea din f2\n",
    "    int n, m, i = 0, j = 0, x, y, ok = 0;\n",
    "    f1 >> n; \n",
    "    f1 >> x; i++;\n",
    "    f2 >> m;\n",
    "    f2 >> y; j++;\n",
    "    \n",
    "    while(i <= n && j <= m){\n",
    "        if(x == y){\n",
    "            f1 >> x; i++;\n",
    "            f2 >> y; j++;\n",
    "        }\n",
    "        while(x < y && i <= n){\n",
    "            if(x % 5 == 0){\n",
    "                cout << x << \" \";\n",
    "                ok = 1;\n",
    "            }\n",
    "            f1 >> x; i++;\n",
    "        }\n",
    "        while(x > y && j <= m){\n",
    "            if(y % 5 == 0){\n",
    "                cout << y << \" \";\n",
    "                ok = 1;\n",
    "            }\n",
    "            f2 >> y; j++;\n",
    "        }\n",
    "    }\n",
    "    if(ok == 0)\n",
    "        cout << \"nu exista\";\n",
    "        \n",
    "    f1.close();\n",
    "    f2.close();\n",
    "    return 0;\n",
    "}"
   ]
  }
 ],
 "metadata": {
  "language_info": {
   "name": "python"
  }
 },
 "nbformat": 4,
 "nbformat_minor": 2
}
