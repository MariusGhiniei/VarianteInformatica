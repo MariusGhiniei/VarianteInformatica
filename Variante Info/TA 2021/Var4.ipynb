{
 "cells": [
  {
   "cell_type": "markdown",
   "metadata": {},
   "source": [
    "Varianta 2021/Testul 2"
   ]
  },
  {
   "cell_type": "markdown",
   "metadata": {
    "vscode": {
     "languageId": "plaintext"
    }
   },
   "source": [
    "Subiectul 1"
   ]
  },
  {
   "cell_type": "code",
   "execution_count": null,
   "metadata": {
    "vscode": {
     "languageId": "plaintext"
    }
   },
   "outputs": [],
   "source": [
    "1. c {valoarea 0 o are raspunsul fals}\n",
    "2. a {Int - Recursiv}\n",
    "3. b {Bkt - pe cifre, 11211, 11212, 11221, 11222, 12112, 12121,12122, 12211, 12212.}\n",
    "4. d {Arbore - lant elementar = varfurile nu se repeta}\n",
    "5. c {Nr de grafuri cu n noduri este = 2^(n*(n-1))/2}"
   ]
  },
  {
   "cell_type": "markdown",
   "metadata": {
    "vscode": {
     "languageId": "plaintext"
    }
   },
   "source": [
    "Subiectul 2"
   ]
  },
  {
   "cell_type": "code",
   "execution_count": null,
   "metadata": {
    "vscode": {
     "languageId": "plaintext"
    }
   },
   "outputs": [],
   "source": [
    "1) 15\n",
    "2) minimul este: 10000, maximul este: 98888 {Pt a se afisa 1 trebuie sa am doar cifre pare}"
   ]
  },
  {
   "cell_type": "code",
   "execution_count": null,
   "metadata": {
    "vscode": {
     "languageId": "cpp"
    }
   },
   "outputs": [],
   "source": [
    "//3c)\n",
    "#include <iostream>\n",
    "using namespace std;\n",
    "\n",
    "int main()\n",
    "{\n",
    "    int n, k, c, p;\n",
    "    cin >> n >> k;\n",
    "    p = 1;\n",
    "    while(n > 0)\n",
    "    {\n",
    "        c = n % 10;\n",
    "        if(k > 0)\n",
    "        {\n",
    "            if(c % 2 == 1)\n",
    "            {\n",
    "                p = p * c;\n",
    "            }\n",
    "        }\n",
    "        n = n / 10;\n",
    "        k = k - 1;\n",
    "    }\n",
    "    cout << p;\n",
    "    \n",
    "    return 0;\n",
    "}"
   ]
  },
  {
   "cell_type": "code",
   "execution_count": null,
   "metadata": {
    "vscode": {
     "languageId": "cpp"
    }
   },
   "outputs": [],
   "source": [
    "d) \n",
    "    citeste n, k (numere naturale)\n",
    "    p <- 1\n",
    "    daca n > 0 atunci\n",
    "    {   \n",
    "        repeta\n",
    "        {\n",
    "            c <- n % 10\n",
    "            daca k > 0 atunci\n",
    "            {\n",
    "                daca c % 2 = 1 atunci\n",
    "                {\n",
    "                    p <- p * c\n",
    "                }\n",
    "            }\n",
    "                n <- n/10\n",
    "                k <- k-1\n",
    "        }pana cand n <= 0\n",
    "    }\n",
    "    scrie p\n"
   ]
  }
 ],
 "metadata": {
  "language_info": {
   "name": "python"
  }
 },
 "nbformat": 4,
 "nbformat_minor": 2
}
