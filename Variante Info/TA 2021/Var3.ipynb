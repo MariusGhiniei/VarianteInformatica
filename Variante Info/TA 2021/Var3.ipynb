{
 "cells": [
  {
   "cell_type": "markdown",
   "metadata": {
    "vscode": {
     "languageId": "plaintext"
    }
   },
   "source": [
    "Varianta 2021\\Testul 3"
   ]
  },
  {
   "cell_type": "markdown",
   "metadata": {
    "vscode": {
     "languageId": "plaintext"
    }
   },
   "source": [
    "Subiectul 1"
   ]
  },
  {
   "cell_type": "code",
   "execution_count": null,
   "metadata": {
    "vscode": {
     "languageId": "plaintext"
    }
   },
   "outputs": [],
   "source": [
    "1. b {Pt reunine de interval x apartine [a,b] u [c,d] = (x >= a && x <= b) || (x >= c && x <= d)}\n",
    "2. c {Subprogram recursiv}\n",
    "3. b {Bkt - pe multimi => combinari ca sunt elemente in ordine crescatoare}\n",
    "4. a {Arbore nu are voie sa aiba cicluri, adica nu are voie sa aiba muchie pe acelasi nivel. Un arbore cu n varfuri are n - 1 muchii}\n",
    "5. b {Subgraf - elimin noduri pe rand, eliminand si muchiile adiacente nodului}"
   ]
  },
  {
   "cell_type": "markdown",
   "metadata": {
    "vscode": {
     "languageId": "plaintext"
    }
   },
   "source": [
    "Subiectul 2"
   ]
  },
  {
   "cell_type": "code",
   "execution_count": null,
   "metadata": {
    "vscode": {
     "languageId": "plaintext"
    }
   },
   "outputs": [],
   "source": [
    "1.  a) 8820\n",
    "    b) 8888, 2222"
   ]
  },
  {
   "cell_type": "code",
   "execution_count": null,
   "metadata": {
    "vscode": {
     "languageId": "cpp"
    }
   },
   "outputs": [],
   "source": [
    "//c) \n",
    "#include <iostream>\n",
    "using namespace std;\n",
    "\n",
    "int main()\n",
    "{\n",
    "    int n, x, m, p, cn, c;\n",
    "    cin>>n;\n",
    "    x = 0;\n",
    "    m = 0;\n",
    "    p = 1;\n",
    "    while(x<10)\n",
    "    {\n",
    "        cn = n;\n",
    "        while(cn!=0)\n",
    "        {\n",
    "            c = cn % 10;\n",
    "            cn = cn / 10;\n",
    "            if(c == x)\n",
    "            {\n",
    "                m = c * p + m;\n",
    "                p = p * 10;\n",
    "            }\n",
    "        }\n",
    "        x = x + 2;\n",
    "    }\n",
    "    cout<<m;\n",
    "}"
   ]
  },
  {
   "cell_type": "code",
   "execution_count": null,
   "metadata": {
    "vscode": {
     "languageId": "plaintext"
    }
   },
   "outputs": [],
   "source": [
    "//d)\n",
    "citește n    (număr natural nenul)\n",
    "x<-0; m<-0; p<-1 \n",
    "┌cât timp x<10 execută \n",
    "│ cn<-n \n",
    "│┌daca cn≠0 atunci\n",
    "|| repeta \n",
    "││ |  c<-cn%10; cn<-[cn/10] \n",
    "││ | ┌dacă c=x atunci \n",
    "││ | │ m<-c*p+m; p<-p*10 \n",
    "││ | └■\n",
    "|| └pana cand cn = 0   \n",
    "│└■ \n",
    "│ x<-x+2 \n",
    "└■  scrie m "
   ]
  },
  {
   "cell_type": "code",
   "execution_count": null,
   "metadata": {
    "vscode": {
     "languageId": "cpp"
    }
   },
   "outputs": [],
   "source": [
    "2.\n",
    "    struct muzeu{\n",
    "        int numar;\n",
    "        struct{\n",
    "            char nume[20];\n",
    "            char colectie[20];\n",
    "        }exponat[100];\n",
    "    }m;"
   ]
  },
  {
   "cell_type": "code",
   "execution_count": null,
   "metadata": {
    "vscode": {
     "languageId": "plaintext"
    }
   },
   "outputs": [],
   "source": [
    "3.\n",
    "    un\n",
    "    zeu"
   ]
  },
  {
   "cell_type": "markdown",
   "metadata": {
    "vscode": {
     "languageId": "plaintext"
    }
   },
   "source": [
    "Subiectul 3"
   ]
  },
  {
   "cell_type": "code",
   "execution_count": null,
   "metadata": {
    "vscode": {
     "languageId": "cpp"
    }
   },
   "outputs": [],
   "source": [
    "//ex1\n",
    "int suma(int n)\n",
    "{\n",
    "    int sum = 0, i, d, ok;\n",
    "    for(i=1; i<=n; i++)\n",
    "    {\n",
    "        if(n%i==0)\n",
    "        {\n",
    "            ok = 1;\n",
    "            if(i<2)\n",
    "                ok = 0;\n",
    "            for(d=2; d*d<=i; d++)\n",
    "            {\n",
    "                if(i%d==0)\n",
    "                {\n",
    "                    ok = 0;\n",
    "                    break;\n",
    "                }\n",
    "            }\n",
    "            if(ok==0)\n",
    "                sum = sum + i;\n",
    "        }\n",
    "    }\n",
    "    return sum;\n",
    "}"
   ]
  },
  {
   "cell_type": "code",
   "execution_count": null,
   "metadata": {
    "vscode": {
     "languageId": "cpp"
    }
   },
   "outputs": [],
   "source": [
    "//ex2\n",
    "\n",
    "#include <iostream>\n",
    "using namespace std;\n",
    "int a[21][21];\n",
    "int main()\n",
    "{\n",
    "    int n,m;\n",
    "    cin >> m >> n;\n",
    "    for(int i = 1; i <= m; i++)\n",
    "        for(int j = 1; j <= n; j++)\n",
    "            cin >> a[i][j];\n",
    "            \n",
    "    for(int i = 1; i <= m; i++)\n",
    "        for(int k = 1; k <= m; k++)\n",
    "            if(a[i][1] == a[k][n] && a[i][1] != 0){\n",
    "                cout << a[i][1] << \" \";\n",
    "            }\n",
    "    return 0;\n",
    "}"
   ]
  },
  {
   "cell_type": "code",
   "execution_count": null,
   "metadata": {
    "vscode": {
     "languageId": "c"
    }
   },
   "outputs": [],
   "source": [
    "//ex3 - b \n",
    "//Metoda 1 - cu vectori, neeficient\n",
    "#include <iostream>\n",
    "#include <fstream>\n",
    "using namespace std;\n",
    "ifstream fin(\"bac.in\");\n",
    "\n",
    "int v[1000001];\n",
    "\n",
    "int main(){\n",
    "    int x, n = 0, maxi = - 1, z;\n",
    "    while(fin >> x){\n",
    "        n++;\n",
    "        v[n] = x;\n",
    "    }\n",
    "    for(int i = 1; i <= n; i++){\n",
    "        z = 0;\n",
    "        for(int j = 1; j < i; j++)\n",
    "            if(v[i] % 100 / 10 == v[j] % 100 / 10)\n",
    "                z++;\n",
    "        if(z > maxi)\n",
    "            maxi = z;\n",
    "    }\n",
    "    for(int i = 1; i <= n; i++){\n",
    "        z = 0;\n",
    "        for(int j = 1; j < i; j++)\n",
    "            if(v[i] % 100 / 10 == v[j] % 100 / 10)\n",
    "                z++;\n",
    "        if(z == maxi)\n",
    "            cout << i << \" \";\n",
    "    }\n",
    "    \n",
    "    fin.close();\n",
    "    return 0;\n",
    "}\n",
    "\n",
    "//Metoda 2\n",
    "#include <iostream>\n",
    "#include <fstream>\n",
    "using namespace std;\n",
    "ifstream fin(\"bac.in\");\n",
    "\n",
    "struct {\n",
    "    int z;\n",
    "    int nr;\n",
    "}v[10];\n",
    "int main(){\n",
    "    int x, i = 0, maxi = -1, k;\n",
    "    while(fin >> x){\n",
    "        i++;\n",
    "        k = x % 100 / 10;\n",
    "        v[k].z ++;\n",
    "        v[k].nr = i;\n",
    "        if(v[k].z > maxi)\n",
    "            maxi = v[k].z;\n",
    "    }\n",
    "    for(int j = 0; j < 10; j++)\n",
    "        if(v[j].z == maxi)\n",
    "            cout << v[j].nr << \" \";\n",
    "            \n",
    "    fin.close();\n",
    "    return 0;\n",
    "}"
   ]
  },
  {
   "cell_type": "code",
   "execution_count": null,
   "metadata": {
    "vscode": {
     "languageId": "c"
    }
   },
   "outputs": [],
   "source": [
    "//ex 3 - a\n",
    "Am proiectat un algoritm eficient din punct de vedere al memoriei, utilizand un vector de frecventa de 10 pozitii.\n",
    "Am proiectul un algoritm eficient din punct de vedere al timpului, folosind o abordare liniara.\n",
    "Definim o strctura care permita memorarea numarul de numere z-prietene si indexul. Definim un vector de frecventa pe aceasta structura.\n",
    "Citim numerele din fisier, salvam cifra zecilor si contorizam un vectorul de frecventa, aparitia acestei cifre si indexul ultim pentru care am gasit\n",
    "aceasta cifra, facem si maximul din citire.\n",
    "Parcurgem vectorul de frecventa, daca numarul de numere z-prietene este egal cu maximul atunci afisam indexul respectiv."
   ]
  }
 ],
 "metadata": {
  "language_info": {
   "name": "python"
  }
 },
 "nbformat": 4,
 "nbformat_minor": 2
}
