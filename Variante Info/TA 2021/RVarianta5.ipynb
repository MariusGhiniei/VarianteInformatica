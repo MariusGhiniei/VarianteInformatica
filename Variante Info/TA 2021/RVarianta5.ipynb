{
 "cells": [
  {
   "cell_type": "markdown",
   "id": "204ad7ac",
   "metadata": {},
   "source": [
    "**VARIANTA 5** (S1+S2+S3+10p = 12 + 30 + 2 + 10 = 42 + 12 = 54p)"
   ]
  },
  {
   "cell_type": "markdown",
   "id": "f599527d",
   "metadata": {},
   "source": [
    "--SUBIECTUL 1--(12p)"
   ]
  },
  {
   "cell_type": "code",
   "execution_count": null,
   "id": "a4049935",
   "metadata": {
    "vscode": {
     "languageId": "plaintext"
    }
   },
   "outputs": [],
   "source": [
    "1) d) ((x-y==2) || (y-x==2) && (x%2==0); - corect -4p\n",
    "\n",
    "2) f(7552021, 1)\n",
    "\n",
    "7552021 != 0\n",
    "{\n",
    "f(755202, 2)\n",
    "n%10 == k\n",
    "cout<< 2;\n",
    "...\n",
    "c) 21; -gresit\n",
    "\n",
    "3)  \n",
    "-PENTRU 10-\n",
    "Solutia 1: (2+2+2+2+2) = 10\n",
    "Solutia 2: (2+2+3+3) = 10\n",
    "Solutia 3: (2+3+5) = 10\n",
    "Solutia 4: (3+7) = 10\n",
    "Solutia 5: (5+5) = 10\n",
    "\n",
    "-PENTRU 9-\n",
    "Solutia 1 : (2+2+2+3) = 9\n",
    "Solutia 2 : (2+2+5) = 9\n",
    "Solutia 3 : (3+3+3) = 9\n",
    "d) 3+3+3; - gresit\n",
    "\n",
    "4) d) 2, 3, 4, 5, 6; - corect -4p\n",
    "\n",
    "5) b) 4; - corect -4p"
   ]
  },
  {
   "cell_type": "markdown",
   "id": "78252943",
   "metadata": {},
   "source": [
    "--SUBIECTUL 2--(28 + 2 = 30p)"
   ]
  },
  {
   "cell_type": "markdown",
   "id": "6d026fe6",
   "metadata": {},
   "source": [
    "1) "
   ]
  },
  {
   "cell_type": "code",
   "execution_count": null,
   "id": "a32f7c8e",
   "metadata": {
    "vscode": {
     "languageId": "plaintext"
    }
   },
   "outputs": [],
   "source": [
    "a) x = 12\n",
    "y = 0\n",
    "x > 9\n",
    "{\n",
    "x = 1\n",
    "}\n",
    "y = 0 * 10 + 1 = 1\n",
    "x = 7\n",
    "y = 1 * 10 + 7 = 17\n",
    "x = 354\n",
    "x = 35\n",
    "x = 3\n",
    "y = 17 * 10 + 3 = 173\n",
    "x = 9\n",
    "y = 173 * 10 + 9 = 1739\n",
    "x = 630\n",
    "x = 63\n",
    "x = 6\n",
    "y = 1739 * 10 + 6 = 17396\n",
    "x = 0\n",
    "\n",
    "cout << 17396; - corect -6p\n",
    "\n",
    "b) 374, 215, 192, 0; - corect -6p\n",
    "\n",
    "c) #include <iostream>\n",
    "using namespace std;\n",
    "\n",
    "int main()\n",
    "{\n",
    "    int x, y;\n",
    "    cin>>x;\n",
    "    y = 0;\n",
    "    do {\n",
    "        if(x>9)\n",
    "        {\n",
    "        do {\n",
    "            x = x/10;\n",
    "        } while(x>9);\n",
    "        }\n",
    "        y = y * 10 + x;\n",
    "        cin>>x;\n",
    "    } while(x!=0);\n",
    "    cout<<y;\n",
    "}\n",
    "-corect - 10p (Bravo)\n",
    "\n",
    "d) citeste x\n",
    "y <- 0\n",
    "repeta\n",
    "{\n",
    "    daca x>9 atunci\n",
    "    {\n",
    "        cat timp x>9 executa\n",
    "        {\n",
    "            x <- [x/10]\n",
    "        }\n",
    "    }\n",
    "    y <- y * 10 + x\n",
    "    citeste x\n",
    " } pana cand x = 0\n",
    "scrie y\n",
    "-corect -6p "
   ]
  },
  {
   "cell_type": "markdown",
   "id": "5c745308",
   "metadata": {},
   "source": [
    "2)"
   ]
  },
  {
   "cell_type": "code",
   "execution_count": null,
   "id": "90b945c1",
   "metadata": {
    "vscode": {
     "languageId": "plaintext"
    }
   },
   "outputs": [],
   "source": [
    "int c[50];\n",
    "struct carte{\n",
    "    char titlu, char autor[0], int nrExemplare;\n",
    "}c;\n",
    "-2p -> pt definerea c-ului corect si eticheta structurii"
   ]
  },
  {
   "cell_type": "markdown",
   "id": "65da1314",
   "metadata": {},
   "source": [
    "3)"
   ]
  },
  {
   "cell_type": "code",
   "execution_count": null,
   "id": "f33db5de",
   "metadata": {
    "vscode": {
     "languageId": "plaintext"
    }
   },
   "outputs": [],
   "source": [
    "s = informatica\n",
    "s[11]\n",
    "cout<<11;\n",
    "for (i=0; i<=11; i++)\n",
    "    ???"
   ]
  },
  {
   "cell_type": "markdown",
   "id": "12e8e6f9",
   "metadata": {},
   "source": [
    "--SUBIECTUL 3--(2p)"
   ]
  },
  {
   "cell_type": "markdown",
   "id": "73e3d690",
   "metadata": {},
   "source": [
    "1)"
   ]
  },
  {
   "cell_type": "code",
   "execution_count": null,
   "id": "7ce94ef9",
   "metadata": {
    "vscode": {
     "languageId": "plaintext"
    }
   },
   "outputs": [],
   "source": [
    "int identice(int n) \n",
    "-2p antet"
   ]
  }
 ],
 "metadata": {
  "language_info": {
   "name": "python"
  }
 },
 "nbformat": 4,
 "nbformat_minor": 5
}
